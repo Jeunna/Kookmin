{
  "nbformat": 4,
  "nbformat_minor": 0,
  "metadata": {
    "colab": {
      "name": "AI_HW",
      "provenance": [],
      "collapsed_sections": []
    },
    "kernelspec": {
      "name": "python3",
      "display_name": "Python 3"
    }
  },
  "cells": [
    {
      "cell_type": "markdown",
      "metadata": {
        "id": "_UEjbwcS5Et5"
      },
      "source": [
        "# 1. 선형회귀"
      ]
    },
    {
      "cell_type": "markdown",
      "metadata": {
        "id": "6NSfa5cdQR1T"
      },
      "source": [
        "(1) 화면 출력 확인"
      ]
    },
    {
      "cell_type": "code",
      "metadata": {
        "id": "j8jcCNFkNQl8",
        "colab": {
          "base_uri": "https://localhost:8080/",
          "height": 179
        },
        "outputId": "2f2e18d9-f8e0-4c43-85e9-00057a753d30"
      },
      "source": [
        "!pip install numpy\n",
        "!pip install matplotlib"
      ],
      "execution_count": null,
      "outputs": [
        {
          "output_type": "stream",
          "text": [
            "Requirement already satisfied: numpy in /usr/local/lib/python3.6/dist-packages (1.16.5)\n",
            "Requirement already satisfied: matplotlib in /usr/local/lib/python3.6/dist-packages (3.0.3)\n",
            "Requirement already satisfied: python-dateutil>=2.1 in /usr/local/lib/python3.6/dist-packages (from matplotlib) (2.5.3)\n",
            "Requirement already satisfied: kiwisolver>=1.0.1 in /usr/local/lib/python3.6/dist-packages (from matplotlib) (1.1.0)\n",
            "Requirement already satisfied: cycler>=0.10 in /usr/local/lib/python3.6/dist-packages (from matplotlib) (0.10.0)\n",
            "Requirement already satisfied: pyparsing!=2.0.4,!=2.1.2,!=2.1.6,>=2.0.1 in /usr/local/lib/python3.6/dist-packages (from matplotlib) (2.4.2)\n",
            "Requirement already satisfied: numpy>=1.10.0 in /usr/local/lib/python3.6/dist-packages (from matplotlib) (1.16.5)\n",
            "Requirement already satisfied: six>=1.5 in /usr/local/lib/python3.6/dist-packages (from python-dateutil>=2.1->matplotlib) (1.12.0)\n",
            "Requirement already satisfied: setuptools in /usr/local/lib/python3.6/dist-packages (from kiwisolver>=1.0.1->matplotlib) (41.2.0)\n"
          ],
          "name": "stdout"
        }
      ]
    },
    {
      "cell_type": "code",
      "metadata": {
        "id": "U_KAe1mdN3GT",
        "colab": {
          "base_uri": "https://localhost:8080/",
          "height": 291
        },
        "outputId": "d45a524e-cb56-4b8b-d45e-6157150addb2"
      },
      "source": [
        "import numpy as np \n",
        "%matplotlib inline\n",
        "import matplotlib\n",
        "import matplotlib.pyplot as plt\n",
        "\n",
        "# rand(m, n) : 0~1의 균일분포 표준정규분포 난수를 matrix array(m,n) 생성\n",
        "# randn(m, n) : 평균0, 표준편차1의 가우시안 표준정규분포 난수 matrix array(m,n) 생성\n",
        "x = 2 * np.random.rand(100, 1)\n",
        "y = 4 + 3 * x + np.random.randn(100, 1)\n",
        "\n",
        "plt.plot(x, y, \"b.\")\n",
        "plt.xlabel(\"$x_1$\", fontsize = 18)\n",
        "plt.ylabel(\"$y$\", rotation=0, fontsize = 18)\n",
        "plt.axis([0, 2, 0, 15])\n",
        "plt.show()"
      ],
      "execution_count": null,
      "outputs": [
        {
          "output_type": "display_data",
          "data": {
            "image/png": "[encoded data removed]",
            "text/plain": [
              "<Figure size 432x288 with 1 Axes>"
            ]
          },
          "metadata": {
            "tags": []
          }
        }
      ]
    },
    {
      "cell_type": "markdown",
      "metadata": {
        "id": "YpzZwda-Qfnh"
      },
      "source": [
        "(2) theta_best 출력 확인"
      ]
    },
    {
      "cell_type": "code",
      "metadata": {
        "id": "p9B4WgEyQOy1",
        "colab": {
          "base_uri": "https://localhost:8080/",
          "height": 52
        },
        "outputId": "2b0a1fa0-4fa7-4888-a8ee-e545ee523db3"
      },
      "source": [
        "# 정규방정식을 사용한 선형회귀 접근\n",
        "\n",
        "#np.ones((m, n)) : 1로 채운 행렬 생성\n",
        "#np.c_[a, b] : 두 개의 1차원 배열을 칼럼으로 붙여서 2차원 배열 생성\n",
        "x_b = np.c_[np.ones((100, 1)), x]\n",
        "\n",
        "#np.linalg.inv() : 역행렬 구하기\n",
        "#inv 역행렬을 구하고 .dot을 사용해 행렬 곱셈\n",
        "theta_best = np.linalg.inv(x_b.T.dot(x_b)).dot(x_b.T).dot(y)\n",
        "\n",
        "print(theta_best) # y절편 / 가중치"
      ],
      "execution_count": null,
      "outputs": [
        {
          "output_type": "stream",
          "text": [
            "[[4.36315487]\n",
            " [2.66108908]]\n"
          ],
          "name": "stdout"
        }
      ]
    },
    {
      "cell_type": "markdown",
      "metadata": {
        "id": "pzLq8cwS3rup"
      },
      "source": [
        "(3)y_predict 출력확인"
      ]
    },
    {
      "cell_type": "code",
      "metadata": {
        "id": "qvcssLcz3joJ",
        "colab": {
          "base_uri": "https://localhost:8080/",
          "height": 52
        },
        "outputId": "64b22bc6-d6c3-47c1-93f9-2849ce0a675b"
      },
      "source": [
        "x_new = np.array([[0], [2]])\n",
        "# 두 개의 배열 세로로 합쳐서 2차원 배열 생성\n",
        "x_new_b = np.c_[np.ones((2, 1)), x_new]\n",
        "# 내적\n",
        "y_predict = x_new_b.dot(theta_best)\n",
        "print(y_predict)"
      ],
      "execution_count": null,
      "outputs": [
        {
          "output_type": "stream",
          "text": [
            "[[4.36315487]\n",
            " [9.68533304]]\n"
          ],
          "name": "stdout"
        }
      ]
    },
    {
      "cell_type": "markdown",
      "metadata": {
        "id": "kqUb-X2T3vOX"
      },
      "source": [
        "(4) 화면 출력 확인"
      ]
    },
    {
      "cell_type": "code",
      "metadata": {
        "id": "KqHwRou43xaB",
        "colab": {
          "base_uri": "https://localhost:8080/",
          "height": 291
        },
        "outputId": "01169231-4c29-4685-a910-8adbf9d25bec"
      },
      "source": [
        "#모델 예측 그래프로\n",
        "\n",
        "plt.plot(x_new, y_predict, \"r-\", linewidth=2, label=\"prediction\")\n",
        "plt.plot(x, y, \"b.\")\n",
        "plt.xlabel(\"$x_1$\", fontsize=18)\n",
        "plt.ylabel(\"$y$\", rotation=0, fontsize=18)\n",
        "plt.legend(loc=\"upper left\", fontsize=14)\n",
        "plt.axis([0, 2, 0, 15])\n",
        "plt.show()"
      ],
      "execution_count": null,
      "outputs": [
        {
          "output_type": "display_data",
          "data": {
            "image/png": "[encoded data removed]",
            "text/plain": [
              "<Figure size 432x288 with 1 Axes>"
            ]
          },
          "metadata": {
            "tags": []
          }
        }
      ]
    },
    {
      "cell_type": "markdown",
      "metadata": {
        "id": "HAYeFAkU31Fn"
      },
      "source": [
        "(5) lin_reg.intercept_, lin_reg.coef_ 출력 확인"
      ]
    },
    {
      "cell_type": "code",
      "metadata": {
        "id": "jaxmymW433jv",
        "colab": {
          "base_uri": "https://localhost:8080/",
          "height": 34
        },
        "outputId": "2447f0fb-635d-4ef8-a787-1b80a3111f29"
      },
      "source": [
        "from sklearn.linear_model import LinearRegression\n",
        "\n",
        "# 선형회귀\n",
        "lin_reg = LinearRegression()\n",
        "# 모형 추정. 상수항 결합\n",
        "lin_reg.fit(x, y)\n",
        "\n",
        "# intercept_ : y절편 (추정된 상수항)\n",
        "# coef_ : 기울기(추정된 가중치 벡터)\n",
        "print(lin_reg.intercept_, lin_reg.coef_)"
      ],
      "execution_count": null,
      "outputs": [
        {
          "output_type": "stream",
          "text": [
            "[4.36315487] [[2.66108908]]\n"
          ],
          "name": "stdout"
        }
      ]
    },
    {
      "cell_type": "markdown",
      "metadata": {
        "id": "6y_vRIAe37z_"
      },
      "source": [
        "(6) lin_reg.predict(x_new) 출력 확인"
      ]
    },
    {
      "cell_type": "code",
      "metadata": {
        "id": "KCcVPBg139Ow",
        "colab": {
          "base_uri": "https://localhost:8080/",
          "height": 52
        },
        "outputId": "2d22bfd0-1dc8-4488-bd9d-c014789b8933"
      },
      "source": [
        "# 새로운 입력 데이터에 대한 출력 데이터 예측\n",
        "print(lin_reg.predict(x_new))"
      ],
      "execution_count": null,
      "outputs": [
        {
          "output_type": "stream",
          "text": [
            "[[4.36315487]\n",
            " [9.68533304]]\n"
          ],
          "name": "stdout"
        }
      ]
    },
    {
      "cell_type": "markdown",
      "metadata": {
        "id": "_bv33ulZ3_Jn"
      },
      "source": [
        "(7) theta_best_svd 출력확인"
      ]
    },
    {
      "cell_type": "code",
      "metadata": {
        "id": "zGDSvXBT4CVP",
        "colab": {
          "base_uri": "https://localhost:8080/",
          "height": 52
        },
        "outputId": "cf675ede-b407-4998-f3ec-1647d8bff340"
      },
      "source": [
        "#lstsq return : 최소 자승 문제, 잔차제곱합, 랭크, 특이값\n",
        "theta_best_svd, residuals, rank, s = np.linalg.lstsq(x_b, y, rcond=1e-6)\n",
        "\n",
        "print(theta_best_svd) "
      ],
      "execution_count": null,
      "outputs": [
        {
          "output_type": "stream",
          "text": [
            "[[4.36315487]\n",
            " [2.66108908]]\n"
          ],
          "name": "stdout"
        }
      ]
    },
    {
      "cell_type": "markdown",
      "metadata": {
        "id": "bqnNyGIq4D-w"
      },
      "source": [
        "(8) np.linalg.pinv(x_b).dot(y) 출력확인"
      ]
    },
    {
      "cell_type": "code",
      "metadata": {
        "id": "T0Mvpw-b4Ij_",
        "colab": {
          "base_uri": "https://localhost:8080/",
          "height": 52
        },
        "outputId": "8d1f3f1c-c60e-445e-8723-12cfb764a384"
      },
      "source": [
        "# pinv() : 유사역행렬\n",
        "print(np.linalg.pinv(x_b).dot(y))"
      ],
      "execution_count": null,
      "outputs": [
        {
          "output_type": "stream",
          "text": [
            "[[4.36315487]\n",
            " [2.66108908]]\n"
          ],
          "name": "stdout"
        }
      ]
    },
    {
      "cell_type": "markdown",
      "metadata": {
        "id": "7E7usLjb4KHZ"
      },
      "source": [
        "(9) theta 출력확인"
      ]
    },
    {
      "cell_type": "code",
      "metadata": {
        "id": "gqk8Tb3o4M6v",
        "colab": {
          "base_uri": "https://localhost:8080/",
          "height": 52
        },
        "outputId": "eecd4d14-fbd9-4496-c8f7-efd0df3b68be"
      },
      "source": [
        "# 경사하강법을 사용한 선형회귀 접근법\n",
        "\n",
        "# learning rate\n",
        "eta = 0.1\n",
        "# 반복횟수\n",
        "n_iterations = 1000\n",
        "# 데이터셋\n",
        "m = 100\n",
        "# 최적의 해\n",
        "theta = np.random.randn(2, 1)\n",
        "\n",
        "# gradients : 경사, 기울기 \n",
        "for iteration in range(n_iterations):\n",
        "    # 손실 함수의 미분값\n",
        "    gradients = 2/m * x_b.T.dot(x_b.dot(theta) - y)\n",
        "    # -gradients의 방향으로 eta만큼 이동하며 최적의 해를 찾음\n",
        "    theta = theta - eta * gradients\n",
        "\n",
        "print(theta)"
      ],
      "execution_count": null,
      "outputs": [
        {
          "output_type": "stream",
          "text": [
            "[[4.36315487]\n",
            " [2.66108908]]\n"
          ],
          "name": "stdout"
        }
      ]
    },
    {
      "cell_type": "markdown",
      "metadata": {
        "id": "jZfrkLRQ4QfX"
      },
      "source": [
        "(10) x_new_b.dot(theta) 출력확인"
      ]
    },
    {
      "cell_type": "code",
      "metadata": {
        "id": "wj4qzzhg4TQY",
        "colab": {
          "base_uri": "https://localhost:8080/",
          "height": 52
        },
        "outputId": "6d6c80d0-a60a-4fbb-964f-4f80417fee8d"
      },
      "source": [
        "# theta의 값과 위의 기울기와의 값이 같은 것을 볼 수 있다. ?\n",
        "print(x_new_b.dot(theta))"
      ],
      "execution_count": null,
      "outputs": [
        {
          "output_type": "stream",
          "text": [
            "[[4.36315487]\n",
            " [9.68533304]]\n"
          ],
          "name": "stdout"
        }
      ]
    },
    {
      "cell_type": "markdown",
      "metadata": {
        "id": "B4-fGMlj4Znl"
      },
      "source": [
        "(11) 화면 출력 확인"
      ]
    },
    {
      "cell_type": "code",
      "metadata": {
        "id": "VIREoe9p4bJQ",
        "colab": {
          "base_uri": "https://localhost:8080/",
          "height": 307
        },
        "outputId": "81b25d9e-88ac-4ca7-d458-9d9fb97fdc6a"
      },
      "source": [
        "# 학습률이 0.02, 0.1, 0.5일 때의 결과를 보여줌\n",
        "\n",
        "theta_path_bgd = []\n",
        "\n",
        "def plot_gradient_descent(theta, eta, theta_path=None):\n",
        "    #샘플 수\n",
        "    m=len(x_b)\n",
        "    plt.plot(x, y, \"b.\")\n",
        "    #반복횟수\n",
        "    n_iterations = 1000\n",
        "\n",
        "    for iteration in range(n_iterations):\n",
        "        #그래프 그리기\n",
        "        if iteration < 10:\n",
        "            y_predict = x_new_b.dot(theta)\n",
        "            style = \"b-\" if iteration > 0 else \"r--\"\n",
        "            plt.plot(x_new, y_predict, style)\n",
        "        gradients = 2/m * x_b.T.dot(x_b.dot(theta) - y)\n",
        "        theta = theta - eta * gradients\n",
        "        if theta_path is not None:\n",
        "            theta_path.append(theta)\n",
        "    plt.xlabel(\"$x_1$\", fontsize=18)\n",
        "    plt.axis([0, 2, 0, 15])\n",
        "    plt.title(r\"$\\eta = {}$\".format(eta), fontsize=16)\n",
        "    \n",
        "np.random.seed(42)\n",
        "theta = np.random.randn(2, 1)\n",
        "\n",
        "plt.figure(figsize=(10,4))\n",
        "plt.subplot(131)\n",
        "plot_gradient_descent(theta, eta=0.02)\n",
        "plt.ylabel(\"$y$\", rotation=0, fontsize=18)\n",
        "plt.subplot(132)\n",
        "plot_gradient_descent(theta, eta=0.1, theta_path=theta_path_bgd)\n",
        "plt.subplot(133)\n",
        "plot_gradient_descent(theta, eta=0.5)\n",
        "plt.show()"
      ],
      "execution_count": null,
      "outputs": [
        {
          "output_type": "display_data",
          "data": {
            "image/png": "[encoded data removed]",
            "text/plain": [
              "<Figure size 720x288 with 3 Axes>"
            ]
          },
          "metadata": {
            "tags": []
          }
        }
      ]
    },
    {
      "cell_type": "markdown",
      "metadata": {
        "id": "HWXPhr194gcI"
      },
      "source": [
        "(12) 화면 출력 확인"
      ]
    },
    {
      "cell_type": "code",
      "metadata": {
        "id": "62E-gm5Z4ihY",
        "colab": {
          "base_uri": "https://localhost:8080/",
          "height": 291
        },
        "outputId": "540cd698-4616-4f91-ae92-44f98eebb94b"
      },
      "source": [
        "# 스토캐스틱(확률적) 경사 하강법을 사용한 선형회귀 접근\n",
        "# 한개씩 무작위로 샘플링하여 학습하는 방법\n",
        "\n",
        "# 다른 경사 하강법이랑 비교하려고 theta값을 저장할 배열\n",
        "theta_path_sgd = []\n",
        "\n",
        "m = len(x_b)\n",
        "np.random.seed(42)\n",
        "n_epochs = 50\n",
        "\n",
        "# 학습 스케쥴 하이퍼파라매터\n",
        "t0, t1 = 5, 50\n",
        "\n",
        "# 학습률을 감소시키는 학습 스케쥴 함수\n",
        "def learning_schedule(t):\n",
        "    return t0 / (t + t1)\n",
        "\n",
        "theta = np.random.randn(2,1)\n",
        "\n",
        "# epoch : 학습단위\n",
        "for epoch in range(n_epochs):\n",
        "    for i in range(m):\n",
        "        #그래프 그리기\n",
        "        if epoch == 0 and i < 20:\n",
        "            y_predict = x_new_b.dot(theta)\n",
        "            style = \"b-\" if i > 0 else \"r--\"\n",
        "            plt.plot(x_new, y_predict, style)\n",
        "        random_index = np.random.randint(m)\n",
        "        # 훈련세트와 실제값에서 랜덤하게 가져옴\n",
        "        xi = x_b[random_index : random_index+1]\n",
        "        yi = y[random_index : random_index+1]\n",
        "\n",
        "        # i번째 샘플에 대한 gradients를 계산\n",
        "        gradients = 2 * xi.T.dot(xi.dot(theta) - yi)\n",
        "        # 학습률 계속해서 감소시킴\n",
        "        eta = learning_schedule(epoch * m + i)\n",
        "        # 구한 학습률 만큼 이동\n",
        "        theta = theta - eta * gradients\n",
        "        # 구한 최적의 해를 추가\n",
        "        theta_path_sgd.append(theta)\n",
        "plt.plot(x, y, \"b.\")\n",
        "plt.xlabel(\"$x_1$\", fontsize=18)\n",
        "plt.ylabel(\"$y$\", rotation=0, fontsize=18)\n",
        "plt.axis([0, 2, 0, 15])\n",
        "plt.show()"
      ],
      "execution_count": null,
      "outputs": [
        {
          "output_type": "display_data",
          "data": {
            "image/png": "[encoded data removed]",
            "text/plain": [
              "<Figure size 432x288 with 1 Axes>"
            ]
          },
          "metadata": {
            "tags": []
          }
        }
      ]
    },
    {
      "cell_type": "markdown",
      "metadata": {
        "id": "elfAx4g_4pDo"
      },
      "source": [
        "(13) theta 출력확인"
      ]
    },
    {
      "cell_type": "code",
      "metadata": {
        "id": "54SHeEca4rHQ",
        "colab": {
          "base_uri": "https://localhost:8080/",
          "height": 52
        },
        "outputId": "289e8eff-f5bd-43ef-a47e-ca00753cb7a9"
      },
      "source": [
        "print(theta)"
      ],
      "execution_count": null,
      "outputs": [
        {
          "output_type": "stream",
          "text": [
            "[[4.36565053]\n",
            " [2.65639997]]\n"
          ],
          "name": "stdout"
        }
      ]
    },
    {
      "cell_type": "markdown",
      "metadata": {
        "id": "clcBhB4c4sjH"
      },
      "source": [
        "(14) sgd_reg.fit(x, y.ravel()) 출력확인"
      ]
    },
    {
      "cell_type": "code",
      "metadata": {
        "id": "TFhFm9Dh4uog",
        "colab": {
          "base_uri": "https://localhost:8080/",
          "height": 122
        },
        "outputId": "5d684838-34cd-4352-e1ff-c669ac6995a4"
      },
      "source": [
        "from sklearn.linear_model import SGDRegressor\n",
        "\n",
        "# SGD == 스토캐스틱 경사하강법\n",
        "# max_iter : epoch, penalty : 정규화식, eta0 : 학습률 초기 값\n",
        "sgd_reg = SGDRegressor(max_iter=50, penalty=None, eta0=0.1, random_state=42)\n",
        "print(sgd_reg.fit(x, y.ravel()))"
      ],
      "execution_count": null,
      "outputs": [
        {
          "output_type": "stream",
          "text": [
            "SGDRegressor(alpha=0.0001, average=False, early_stopping=False, epsilon=0.1,\n",
            "             eta0=0.1, fit_intercept=True, l1_ratio=0.15,\n",
            "             learning_rate='invscaling', loss='squared_loss', max_iter=50,\n",
            "             n_iter_no_change=5, penalty=None, power_t=0.25, random_state=42,\n",
            "             shuffle=True, tol=0.001, validation_fraction=0.1, verbose=0,\n",
            "             warm_start=False)\n"
          ],
          "name": "stdout"
        }
      ]
    },
    {
      "cell_type": "markdown",
      "metadata": {
        "id": "75S-02Cr4xFI"
      },
      "source": [
        "(15) sgd_reg.intercept_, sgd_reg.coef_) 출력확인"
      ]
    },
    {
      "cell_type": "code",
      "metadata": {
        "id": "T28qwVhK4zlA",
        "colab": {
          "base_uri": "https://localhost:8080/",
          "height": 34
        },
        "outputId": "1c5c74a0-64c7-411a-e4ee-82b484425084"
      },
      "source": [
        "print(sgd_reg.intercept_, sgd_reg.coef_)"
      ],
      "execution_count": null,
      "outputs": [
        {
          "output_type": "stream",
          "text": [
            "[4.35767241] [2.67092457]\n"
          ],
          "name": "stdout"
        }
      ]
    },
    {
      "cell_type": "markdown",
      "metadata": {
        "id": "V3Y4nQeA41rB"
      },
      "source": [
        "(16) theta 출력확인"
      ]
    },
    {
      "cell_type": "code",
      "metadata": {
        "id": "a2LRgZwn43ro",
        "colab": {
          "base_uri": "https://localhost:8080/",
          "height": 52
        },
        "outputId": "79384833-7878-4a1e-84f6-3074b91b1665"
      },
      "source": [
        "# 미니배치 경사 하강법을 사용한 선형회귀 접근\n",
        "\n",
        "theta_path_mgd = []\n",
        "# 반복 횟수\n",
        "n_iterations = 50\n",
        "\n",
        "# 사용할 미니배치 크기 (1이면 스토캐스틱이랑 동일)\n",
        "minibatch_size = 20\n",
        "np.random.seed(42)\n",
        "tehta = np.random.randn(2, 1)\n",
        "t0, t1 = 200, 1000\n",
        "\n",
        "def learning_schedule(t):\n",
        "    return t0 / (t + t1)\n",
        "  \n",
        "t = 0\n",
        "\n",
        "theta = np.random.randn(2,1)\n",
        "for epoch in range(n_iterations):\n",
        "    # 순서를 무작위로\n",
        "    # 매 epoch마다 섞어서 훈련세트를 고르게 사용할 수 있도록\n",
        "    shuffled_indices = np.random.permutation(m)\n",
        "    x_b_shuffled = x_b[shuffled_indices]\n",
        "    y_shuffled = y[shuffled_indices]\n",
        "\n",
        "    for i in range(0, m, minibatch_size):\n",
        "        #t가 늘어나면서 학습률이 점점 작아짐\n",
        "        t += 1\n",
        "        # minibatch_size만큼 샘플을 가져와서 gradient 계산\n",
        "        xi = x_b_shuffled[i : i+minibatch_size]\n",
        "        yi = y_shuffled[i : i+minibatch_size]\n",
        "        gradients = 2 / minibatch_size * xi.T.dot(xi.dot(theta) - yi)\n",
        "        eta = learning_schedule(t)\n",
        "        theta = theta - eta * gradients\n",
        "        theta_path_mgd.append(theta)\n",
        "\n",
        "print(theta)"
      ],
      "execution_count": null,
      "outputs": [
        {
          "output_type": "stream",
          "text": [
            "[[4.33688454]\n",
            " [2.64321762]]\n"
          ],
          "name": "stdout"
        }
      ]
    },
    {
      "cell_type": "markdown",
      "metadata": {
        "id": "R8zSAQck49Wg"
      },
      "source": [
        "(17) 화면 출력 확인"
      ]
    },
    {
      "cell_type": "code",
      "metadata": {
        "id": "ytG6Bua14-5L",
        "colab": {
          "base_uri": "https://localhost:8080/",
          "height": 292
        },
        "outputId": "254a1902-8ae9-4a75-e41b-9cd85635aaaa"
      },
      "source": [
        "# 3개의 경사하강법을 실행하면서 저장한 theta값으로 그래프 그리기\n",
        "theta_path_bgd = np.array(theta_path_bgd)\n",
        "theta_path_sgd = np.array(theta_path_sgd)\n",
        "theta_path_mgd = np.array(theta_path_mgd)\n",
        "\n",
        "# 배치 경사 하강법은 바로 최솟값으로\n",
        "# 스토캐스틱과 미니배치는 최솟값 부근에서 움직임\n",
        "plt.figure(figsize=(7,4))\n",
        "plt.plot(theta_path_sgd[:, 0], theta_path_sgd[:, 1], \"r-s\", linewidth=1, label=\"SGD\")\n",
        "plt.plot(theta_path_mgd[:, 0], theta_path_mgd[:, 1], \"g-+\", linewidth=2, label=\"MINI_BATCH\")\n",
        "plt.plot(theta_path_bgd[:, 0], theta_path_bgd[:, 1], \"b-o\", linewidth=3, label=\"BATCH\")\n",
        "plt.legend(loc=\"upper left\", fontsize=16)\n",
        "plt.xlabel(r\"$\\theta_0$\", fontsize=16)\n",
        "plt.ylabel(r\"$\\theta_1$\", fontsize=20, rotation=0)\n",
        "plt.axis([2.5, 4.5, 2.3, 3.9])\n",
        "plt.show()"
      ],
      "execution_count": null,
      "outputs": [
        {
          "output_type": "display_data",
          "data": {
            "image/png": "[encoded data removed]",
            "text/plain": [
              "<Figure size 504x288 with 1 Axes>"
            ]
          },
          "metadata": {
            "tags": []
          }
        }
      ]
    },
    {
      "cell_type": "markdown",
      "metadata": {
        "id": "QlFk58Hj5Jg6"
      },
      "source": [
        "# 다차항회귀"
      ]
    },
    {
      "cell_type": "code",
      "metadata": {
        "id": "JPRt8XSs5OVt"
      },
      "source": [
        "import numpy as np\n",
        "import numpy.random as rnd"
      ],
      "execution_count": null,
      "outputs": []
    },
    {
      "cell_type": "markdown",
      "metadata": {
        "id": "HIvNeVQ45Vf4"
      },
      "source": [
        "(1) 화면 출력 확인"
      ]
    },
    {
      "cell_type": "code",
      "metadata": {
        "id": "dQQNNknt5U-4",
        "colab": {
          "base_uri": "https://localhost:8080/",
          "height": 291
        },
        "outputId": "f40a8950-7d61-42da-879a-6e4ebe59f9d8"
      },
      "source": [
        "np.random.seed(42)\n",
        "# 랜덤 개수 설정\n",
        "m = 100\n",
        "x = 6 * np.random.rand(m, 1) - 3\n",
        "y = 0.5 * x**2 + x + 2 + np.random.randn(m, 1)\n",
        "\n",
        "plt.plot(x, y, \"b.\")\n",
        "plt.xlabel(\"$x_1$\", fontsize=18)\n",
        "plt.ylabel(\"$y$\", rotation=0, fontsize=18)\n",
        "plt.axis([-3, 3, 0, 10])\n",
        "plt.show()"
      ],
      "execution_count": null,
      "outputs": [
        {
          "output_type": "display_data",
          "data": {
            "image/png": "[encoded data removed]",
            "text/plain": [
              "<Figure size 432x288 with 1 Axes>"
            ]
          },
          "metadata": {
            "tags": []
          }
        }
      ]
    },
    {
      "cell_type": "markdown",
      "metadata": {
        "id": "4LS-nqnj5Zvo"
      },
      "source": [
        "(2) X[0] 출력 확인"
      ]
    },
    {
      "cell_type": "code",
      "metadata": {
        "id": "VUT4FMdm5din",
        "colab": {
          "base_uri": "https://localhost:8080/",
          "height": 34
        },
        "outputId": "1d7143a6-182a-4471-cafa-e231f90feb64"
      },
      "source": [
        "# PolynomialFeatures == 다차항회귀\n",
        "from sklearn.preprocessing import PolynomialFeatures\n",
        "\n",
        "# 다항식으로 변환\n",
        "# degree : 차수, include_bias : 상수항 생성 여부\n",
        "poly_features = PolynomialFeatures(degree=2, include_bias=False)\n",
        "x_poly = poly_features.fit_transform(x)\n",
        "print(x[0])"
      ],
      "execution_count": null,
      "outputs": [
        {
          "output_type": "stream",
          "text": [
            "[-0.75275929]\n"
          ],
          "name": "stdout"
        }
      ]
    },
    {
      "cell_type": "markdown",
      "metadata": {
        "id": "jyUxJkHG5hE3"
      },
      "source": [
        "(3) X_poly[0] 출력 확인"
      ]
    },
    {
      "cell_type": "code",
      "metadata": {
        "id": "E3NN-AUD5jpn",
        "colab": {
          "base_uri": "https://localhost:8080/",
          "height": 34
        },
        "outputId": "e797e93b-28ff-43d3-ffc7-e83a3cf42289"
      },
      "source": [
        "print(x_poly[0])"
      ],
      "execution_count": null,
      "outputs": [
        {
          "output_type": "stream",
          "text": [
            "[-0.75275929  0.56664654]\n"
          ],
          "name": "stdout"
        }
      ]
    },
    {
      "cell_type": "markdown",
      "metadata": {
        "id": "__6tmfb55lSo"
      },
      "source": [
        "(4) lin_reg.intercept_, lin_reg.coef_ 출력 확인"
      ]
    },
    {
      "cell_type": "code",
      "metadata": {
        "id": "Y9zowL0z5nEP",
        "colab": {
          "base_uri": "https://localhost:8080/",
          "height": 52
        },
        "outputId": "7f0e23a5-9827-4dc4-8179-7313b5776f8c"
      },
      "source": [
        "# LinearRegression : 선형 회귀분석\n",
        "lin_reg = LinearRegression()\n",
        "lin_reg.fit(x_poly, y)\n",
        "\n",
        "# intercept_ : y절편 (추정된 상수항)\n",
        "# coef_ : 기울기(추정된 가중치 벡터)\n",
        "print(\"lin_reg.intercept_ : \", lin_reg.intercept_)\n",
        "print(\"lin_reg.coef_ : \", lin_reg.coef_)\n",
        "\n",
        "# 우리가 설정한 0.5 * x**2 + x + 2와 많이 유사.. ?"
      ],
      "execution_count": null,
      "outputs": [
        {
          "output_type": "stream",
          "text": [
            "lin_reg.intercept_ :  [1.78134581]\n",
            "lin_reg.coef_ :  [[0.93366893 0.56456263]]\n"
          ],
          "name": "stdout"
        }
      ]
    },
    {
      "cell_type": "markdown",
      "metadata": {
        "id": "oS7FQLu05psM"
      },
      "source": [
        "(5)화면 출력 확인"
      ]
    },
    {
      "cell_type": "code",
      "metadata": {
        "id": "V5l9WXO_5rVx",
        "colab": {
          "base_uri": "https://localhost:8080/",
          "height": 291
        },
        "outputId": "81573c88-b10d-4ad2-bcf3-2956ab48b2a7"
      },
      "source": [
        "# linspace(start, end, num-points) : 시작점과 끝점을 균일 간격으로 나눈 점들 생성\n",
        "# reshape(m, n) : (m, n) 배열로 변형\n",
        "x_new = np.linspace(-3, 3, 100).reshape(100, 1)\n",
        "x_new_poly = poly_features.transform(x_new)\n",
        "y_new = lin_reg.predict(x_new_poly)\n",
        "\n",
        "plt.plot(x, y, \"b.\")\n",
        "plt.plot(x_new, y_new, \"r-\", linewidth=2, label=\"prediction\")\n",
        "plt.xlabel(\"$x_1$\", fontsize=18)\n",
        "plt.ylabel(\"$y$\", rotation=0, fontsize=18)\n",
        "plt.legend(loc=\"upper left\", fontsize=14)\n",
        "plt.axis([-3, 3, 0, 10])\n",
        "plt.show()"
      ],
      "execution_count": null,
      "outputs": [
        {
          "output_type": "display_data",
          "data": {
            "image/png": "[encoded data removed]",
            "text/plain": [
              "<Figure size 432x288 with 1 Axes>"
            ]
          },
          "metadata": {
            "tags": []
          }
        }
      ]
    },
    {
      "cell_type": "markdown",
      "metadata": {
        "id": "RhHlDyT15tKw"
      },
      "source": [
        "(6)화면 출력 확인"
      ]
    },
    {
      "cell_type": "code",
      "metadata": {
        "id": "PecBOvPE5vqx",
        "colab": {
          "base_uri": "https://localhost:8080/",
          "height": 291
        },
        "outputId": "eefff305-6cc9-4552-84d9-346dfe0cbc0c"
      },
      "source": [
        "from sklearn.preprocessing import StandardScaler\n",
        "from sklearn.pipeline import Pipeline\n",
        "\n",
        "# 차수를 300, 2, 1로 해 그래프 그리기\n",
        "for style, width, degree in ((\"g-\", 1, 300),\n",
        "                             (\"b--\", 2, 2),\n",
        "                             (\"r-+\", 2, 1)):\n",
        "    # 특성 추가. 300차, 2차, 1차\n",
        "    polybig_features = PolynomialFeatures(degree=degree,\n",
        "                                          include_bias=False)\n",
        "    #표준화 인스턴스 생성\n",
        "    std_scaler = StandardScaler()\n",
        "    # 추정기로 선형 회귀 사용\n",
        "    lin_reg = LinearRegression()\n",
        "    # 2개의 변환기와 1개의 추정기로 구성된 파이프라인 생성\n",
        "    # 파이프라인 : list타입으로 전달된 첫번째 파라미터의 요소들을 순차적으로 실행\n",
        "    polynomial_regression = Pipeline([\n",
        "        (\"poly_features\", polybig_features),\n",
        "        (\"std_scaler\", std_scaler),\n",
        "        (\"lin_reg\", lin_reg),\n",
        "    ])\n",
        "    polynomial_regression.fit(x, y)\n",
        "    y_newbig = polynomial_regression.predict(x_new)\n",
        "    plt.plot(x_new, y_newbig, style, label=str(degree), linewidth=width)\n",
        "    # 300은 오버피팅, 1은 언더피팅\n",
        "\n",
        "plt.plot(x, y, \"b.\", linewidth=3)\n",
        "plt.legend(loc=\"upper left\")\n",
        "plt.xlabel(\"$x_1$\", fontsize=18)\n",
        "plt.ylabel(\"$y$\", rotation=0, fontsize=18)\n",
        "plt.axis([-3, 3, 0, 10])\n",
        "plt.show()"
      ],
      "execution_count": null,
      "outputs": [
        {
          "output_type": "display_data",
          "data": {
            "image/png": "[encoded data removed]",
            "text/plain": [
              "<Figure size 432x288 with 1 Axes>"
            ]
          },
          "metadata": {
            "tags": []
          }
        }
      ]
    },
    {
      "cell_type": "markdown",
      "metadata": {
        "id": "WOFu2ir45x5Q"
      },
      "source": [
        "# 규제"
      ]
    },
    {
      "cell_type": "markdown",
      "metadata": {
        "id": "DdI3bDsr50aY"
      },
      "source": [
        "화면 출력 확인 및 결과 해석"
      ]
    },
    {
      "cell_type": "code",
      "metadata": {
        "id": "uu90rJQ2548B",
        "colab": {
          "base_uri": "https://localhost:8080/",
          "height": 291
        },
        "outputId": "685db0fe-091f-45b2-f8b8-972fe76f30a2"
      },
      "source": [
        "# 규제 : 과대 적합이 되지 않도록 모델을 강제로 제한함\n",
        "# 릿지 회귀에 사용하는 규제 방식을 L2 규제라 함\n",
        "\n",
        "from sklearn.linear_model import Ridge\n",
        "\n",
        "np.random.seed(42)\n",
        "m = 20\n",
        "# rand(m, n) : 0~1의 균일분포 표준정규분포 난수를 matrix array(m,n) 생성\n",
        "# randn(m, n) : 평균0, 표준편차1의 가우시안 표준정규분포 난수 matrix array(m,n) 생성\n",
        "x = 3 * np.random.rand(m, 1)\n",
        "y = 1 + 0.5 * x + np.random.randn(m, 1) / 1.5\n",
        "\n",
        "# linspace(start, end, num-points) : 시작점과 끝점을 균일 간격으로 나눈 점들 생성\n",
        "# reshape(m, n) : (m, n) 배열로 변형\n",
        "x_new = np.linspace(0, 3, 100).reshape(100, 1)\n",
        "\n",
        "def plot_model(model_class, polynomial, alphas, **model_kargs):\n",
        "    #zip(*iterable) : 동일한 개수로 이루어진 자료형을 묶어주는 함수\n",
        "    for alpha, style in zip(alphas, (\"b-\", \"g--\", \"r:\")):\n",
        "        # 알파가 0이면 선형회귀\n",
        "        model = model_class(alpha, **model_kargs) if alpha > 0 else LinearRegression()\n",
        "        \n",
        "        #다항회귀일 경우\n",
        "        if polynomial:\n",
        "            model = Pipeline([\n",
        "                (\"poly_features\", PolynomialFeatures(degree=10, include_bias=False)),\n",
        "                (\"std_scaler\", StandardScaler()),\n",
        "                (\"regul_reg\", model),\n",
        "            ])\n",
        "        \n",
        "        model.fit(x, y)\n",
        "        y_new_regul = model.predict(x_new)\n",
        "        #알파가 0이 아니면 lw=2\n",
        "        lw = 2 if alpha > 0 else 1\n",
        "        plt.plot(x_new, y_new_regul, style,\n",
        "                 linewidth=lw, label=r\"$alpha={}$\".format(alpha))\n",
        "        \n",
        "    plt.plot(x, y, \"b.\", linewidth=3)\n",
        "    plt.legend(loc=\"upper left\", fontsize=15)\n",
        "    plt.xlabel(\"$x_1$\", fontsize=18)\n",
        "    plt.axis([0, 3, 0, 4])\n",
        "    \n",
        "plt.figure(figsize=(8, 4))\n",
        "\n",
        "plt.subplot(121)\n",
        "#릿지회귀를 하되 다항회귀는 false, 알파값 지정(0, 10, 100)\n",
        "plot_model(Ridge, polynomial=False, alphas=(0, 10, 100), random_state=42)\n",
        "plt.ylabel(\"$y$\", rotation=0, fontsize=18)\n",
        "\n",
        "plt.subplot(122)\n",
        "plot_model(Ridge, polynomial=True, alphas=(0, 10**-5, 1), random_state=42)\n",
        "plt.show()\n",
        "\n",
        "#왼쪽 그래프 : 평범한 릿지 모델을 사용해 선형예측 생성\n",
        "#오른쪽 그래프 : PolynomialFeatures(degree=10)를 사용해 데이터를 확장 후 규제를 주어 그래프를 변화시킴\n",
        "#  == 릿지 규제를 사용한 다항 회귀\n",
        "\n",
        "#알파를 증가시킬수록(가중치에 대한 규제가 커질수록) 직선에 가까워짐\n",
        "#  == 모델의 분산은 줄어들지만 편향은 커지게됨\n"
      ],
      "execution_count": null,
      "outputs": [
        {
          "output_type": "display_data",
          "data": {
            "image/png": "[encoded data removed]",
            "text/plain": [
              "<Figure size 576x288 with 2 Axes>"
            ]
          },
          "metadata": {
            "tags": []
          }
        }
      ]
    },
    {
      "cell_type": "markdown",
      "metadata": {
        "id": "p5Xqy3Wl58ZC"
      },
      "source": [
        "# 활성함수"
      ]
    },
    {
      "cell_type": "markdown",
      "metadata": {
        "id": "3O4ab9Ob5-8g"
      },
      "source": [
        "화면 출력 확인 및 각 활성함수의 특징을 비교 서술"
      ]
    },
    {
      "cell_type": "code",
      "metadata": {
        "id": "as1nVWNX6A_5",
        "colab": {
          "base_uri": "https://localhost:8080/",
          "height": 302
        },
        "outputId": "c566cc7a-bf77-4d8c-d6d5-a9bd1ef4a643"
      },
      "source": [
        "from __future__ import division, print_function, unicode_literals\n",
        "import os\n",
        "import numpy as np\n",
        "%matplotlib inline\n",
        "import matplotlib\n",
        "import matplotlib.pyplot as plt\n",
        "\n",
        "#로지스틱 시그모이드\n",
        "def logit(z):\n",
        "    return 1 / (1 + np.exp(-z))\n",
        "\n",
        "#렐루함수\n",
        "def relu(z):\n",
        "    return np.maximum(0, z)\n",
        "\n",
        "#미분\n",
        "def derivative(f, z, eps=0.000001):\n",
        "    return (f(z + eps) - f(z - eps)) / (2 * eps)\n",
        "\n",
        "#[-5, 5] 구간 내에 균일한 간격의 점 200개로 구성된 벡터 생성\n",
        "z = np.linspace(-5, 5, 200)\n",
        "\n",
        "plt.figure(figsize=(11, 4))\n",
        "\n",
        "#미분전 활성화함수\n",
        "plt.subplot(121)\n",
        "\n",
        "#discrete, step\n",
        "plt.plot(z, np.sign(z), \"r-\", linewidth=2, label=\"step\") \n",
        "#시그모이드 [0 ~ 1]\n",
        "plt.plot(z, logit(z), \"g--\", linewidth=2, label=\"sigmoid\") \n",
        "#양극시그모이드 [-1 ~ 1] (tanh == Hyperbolic Tangent)\n",
        "plt.plot(z, np.tanh(z), \"b-\", linewidth=2, label=\"tanh\") \n",
        "#렐루 max(0, x)\n",
        "plt.plot(z, relu(z), \"m-\", linewidth=2, label=\"ReLU\") \n",
        "\n",
        "plt.grid(True)\n",
        "plt.legend(loc=\"center right\", fontsize=14)\n",
        "plt.title(\"activation functino: g(z)\", fontsize=14)\n",
        "plt.axis([-5, 5, -1.2, 1.2])\n",
        "\n",
        "\n",
        "#미분후\n",
        "plt.subplot(122)\n",
        "plt.plot(0, 0, \"ro\", markersize=5)\n",
        "plt.plot(0, 0, \"rx\", markersize=10)\n",
        "\n",
        "plt.plot(z, derivative(np.sign, z), \"r-\", linewidth=2, label=\"step\")\n",
        "plt.plot(z, derivative(logit, z), \"g--\", linewidth=2, label=\"sigmoid\")\n",
        "plt.plot(z, derivative(np.tanh, z), \"b--\", linewidth=2, label=\"tanh\")\n",
        "plt.plot(z, derivative(relu, z), \"m--\", linewidth=2, label=\"ReLU\")\n",
        "\n",
        "plt.grid(True)\n",
        "plt.title(\"gradient: g'(z)\", fontsize=14)\n",
        "plt.axis([-5, 5, -0.2, 1.2])\n",
        "\n",
        "plt.show()\n",
        "\n",
        "#step, 계단함수는 임계치를 경계로 출력이 바뀜. 0 또는 1 (binary)\n",
        "#최적화를 위해 미분을 해야하지만 미분이 되지않아 사용불가\n",
        "\n",
        "#시그모이드는 Gradient Vanishing 현상이 발생함. \n",
        "#일정 이상 올라가면 미분값이 거의 0에 수렴하게 됨 == 미분값이 소실될 가능성이 크다\n",
        "#함숫값 중심이 0이 아님 -> 학습이 느려질 수 있다\n",
        "\n",
        "#tanh(하이퍼볼릭탄젠트)도 gradient vanishing 문제가 존재함\n",
        "# 시그모이드를 transformation해서 얻을 수 있음 -> 중심값을 0으로 옮겨 해결함\n",
        "\n",
        "#ReLu는 x > 0면 기울기가 1인 직선이고 x < 0이면 함숫값이 0이 됨\n",
        "# -> gradient vanishing 문제를 해결함\n"
      ],
      "execution_count": null,
      "outputs": [
        {
          "output_type": "display_data",
          "data": {
            "image/png": "[encoded data removed]",
            "text/plain": [
              "<Figure size 792x288 with 2 Axes>"
            ]
          },
          "metadata": {
            "tags": []
          }
        }
      ]
    },
    {
      "cell_type": "markdown",
      "metadata": {
        "id": "u8dUBpCj6DLI"
      },
      "source": [
        "# 오류 역전파"
      ]
    },
    {
      "cell_type": "markdown",
      "metadata": {
        "id": "GSw_cXbm6FiR"
      },
      "source": [
        "(1) 해당 연산망의 그래프 연산을 손으로 작성"
      ]
    },
    {
      "cell_type": "code",
      "metadata": {
        "id": "O50pOxbN6H_t"
      },
      "source": [
        "import numpy as np\n",
        "np.random.seed(0)\n",
        "\n",
        "N, D = 3, 4\n",
        "\n",
        "x = np.random.randn(N, D)\n",
        "y = np.random.randn(N, D)\n",
        "z = np.random.randn(N, D)\n",
        "\n",
        "a = x * y \n",
        "b = a + z\n",
        "c = np.sum(b)"
      ],
      "execution_count": null,
      "outputs": []
    },
    {
      "cell_type": "markdown",
      "metadata": {
        "id": "seYZo3ym6SeQ"
      },
      "source": [
        "(2) 위의 연산을 통한 grad_c, grad_b, grad_a, grad_z, grad_x, grad_y 출력 확인"
      ]
    },
    {
      "cell_type": "code",
      "metadata": {
        "id": "b8qjTNya6UtS",
        "colab": {
          "base_uri": "https://localhost:8080/",
          "height": 298
        },
        "outputId": "45aef877-2c75-43d3-eed2-3b9edeb34766"
      },
      "source": [
        "grad_c = 1.0\n",
        "grad_b = grad_c * np.ones((N, D))\n",
        "grad_a = grad_b.copy()\n",
        "grad_z = grad_b.copy()\n",
        "grad_x = grad_a * y\n",
        "grad_y = grad_a * x\n",
        "\n",
        "print(\"grad_c : \", grad_c)\n",
        "print(\"grad_b : \", grad_b)\n",
        "print(\"grad_a : \", grad_a)\n",
        "print(\"grad_z : \", grad_z)\n",
        "print(\"grad_x : \", grad_x)\n",
        "print(\"grad_y : \", grad_y)"
      ],
      "execution_count": null,
      "outputs": [
        {
          "output_type": "stream",
          "text": [
            "grad_c :  1.0\n",
            "grad_b :  [[1. 1. 1. 1.]\n",
            " [1. 1. 1. 1.]\n",
            " [1. 1. 1. 1.]]\n",
            "grad_a :  [[1. 1. 1. 1.]\n",
            " [1. 1. 1. 1.]\n",
            " [1. 1. 1. 1.]]\n",
            "grad_z :  [[1. 1. 1. 1.]\n",
            " [1. 1. 1. 1.]\n",
            " [1. 1. 1. 1.]]\n",
            "grad_x :  [[ 0.76103773  0.12167502  0.44386323  0.33367433]\n",
            " [ 1.49407907 -0.20515826  0.3130677  -0.85409574]\n",
            " [-2.55298982  0.6536186   0.8644362  -0.74216502]]\n",
            "grad_y :  [[ 1.76405235  0.40015721  0.97873798  2.2408932 ]\n",
            " [ 1.86755799 -0.97727788  0.95008842 -0.15135721]\n",
            " [-0.10321885  0.4105985   0.14404357  1.45427351]]\n"
          ],
          "name": "stdout"
        }
      ]
    },
    {
      "cell_type": "markdown",
      "metadata": {
        "id": "w_MAIOb16Xw4"
      },
      "source": [
        "(3) 역전파 함수 backward()를 이용한 x의 미분, y의 미분 출력 확인"
      ]
    },
    {
      "cell_type": "code",
      "metadata": {
        "id": "PLQG6IKB6aLQ",
        "colab": {
          "base_uri": "https://localhost:8080/",
          "height": 158
        },
        "outputId": "930048fc-cadc-4a49-fee3-a5481f215b02"
      },
      "source": [
        "import torch\n",
        "\n",
        "x = torch.randn(N, D, requires_grad=True)\n",
        "y = torch.randn(N, D, requires_grad=True)\n",
        "z = torch.randn(N, D)\n",
        "\n",
        "a = x * y\n",
        "b = a + z\n",
        "c = torch.sum(b)\n",
        "\n",
        "c.backward()\n",
        "print(\"x.grad : \\n\", x.grad)\n",
        "print(\"y.grad : \\n\", y.grad)"
      ],
      "execution_count": null,
      "outputs": [
        {
          "output_type": "stream",
          "text": [
            "x.grad : \n",
            " tensor([[-0.1652, -0.1749,  1.0442,  0.1687],\n",
            "        [-1.2793,  0.2426,  0.2795,  1.3053],\n",
            "        [ 3.3740, -2.3465, -0.8554,  0.3767]])\n",
            "y.grad : \n",
            " tensor([[ 1.6590, -0.5922,  0.6785, -0.1997],\n",
            "        [ 1.0224,  2.4894, -1.1024, -0.7629],\n",
            "        [ 0.1443, -0.8616, -0.5288, -1.7387]])\n"
          ],
          "name": "stdout"
        }
      ]
    },
    {
      "cell_type": "markdown",
      "metadata": {
        "id": "M8v7rXh26ee6"
      },
      "source": [
        "(4) (2)와 (3)의 방법의 차이를 설명\n",
        "\n",
        ": (2)는 오류 역전파를 직접 구한 것이고\n",
        "  (3)은 pytorch의 backward()를 사용해서 구함."
      ]
    },
    {
      "cell_type": "markdown",
      "metadata": {
        "id": "CslHBbG46fuU"
      },
      "source": [
        "# 신경망 학습"
      ]
    },
    {
      "cell_type": "markdown",
      "metadata": {
        "id": "0pKpCE0G6iGI"
      },
      "source": [
        "매 t마다 y_pred에 따른 loss 변화를 화면 출력 확인 (plot)하고, 결과 해석"
      ]
    },
    {
      "cell_type": "code",
      "metadata": {
        "id": "o9YVvbhc6kH4",
        "colab": {
          "base_uri": "https://localhost:8080/",
          "height": 294
        },
        "outputId": "6cc89dd9-ffdd-42b5-836f-fe6f9a7b3071"
      },
      "source": [
        "import torch\n",
        "\n",
        "# N : 배치크기, D_in : 입력차원\n",
        "# H : 은닉 계층 차원, D_out : 출력 차원\n",
        "N, D_in, H, D_out = 64, 1000, 100, 10\n",
        "\n",
        "# torch.randn() : 평균이 0이고 표준편차가 1인 가우시안 정규분포를 이용해 생성\n",
        "#무작위 입력과 출력 데이터 생성\n",
        "x = torch.randn(N, D_in)\n",
        "y = torch.randn(N, D_out)\n",
        "#무작위 가중치\n",
        "#requires_grad=True면 계산은 추적됨 (변수에 대한 그래디언트는 .grad 속성에 누적됨)\n",
        "w1 = torch.randn(D_in, H, requires_grad=True)\n",
        "w2 = torch.randn(H, D_out, requires_grad=True)\n",
        "\n",
        "#학습률\n",
        "learning_rate = 10e-6\n",
        "\n",
        "diff_loss = list()\n",
        "axis_t = [i for i in range(1, 501)]\n",
        "\n",
        "for t in range(500):\n",
        "    #y값 예측\n",
        "    y_pred = x.mm(w1).clamp(min=0).mm(w2)\n",
        "    #손실 계산\n",
        "    loss = (y_pred - y).pow(2).sum()\n",
        "    \n",
        "    #역전파 계산 (requires_grad=True인 변수 gradient 구함)\n",
        "    loss.backward()\n",
        "    \n",
        "    #손실함수 변화 기록\n",
        "    diff_loss.append(loss)\n",
        "    \n",
        "    #기록 추적(메모리 사용) 방지를 위해 사용함\n",
        "    with torch.no_grad():\n",
        "        #경사하강법을 사용해 가중치 갱신\n",
        "        w1 -= learning_rate * w1.grad\n",
        "        w2 -= learning_rate * w2.grad\n",
        "        #가중치 갱신 후 변화도 0으로 만듦\n",
        "        w1.grad.zero_()\n",
        "        w2.grad.zero_()\n",
        "        \n",
        "plt.plot(axis_t, diff_loss, \"r--\", label=\"Loss\")\n",
        "plt.grid(True)\n",
        "plt.xlabel(\"Steps\", fontsize=14)\n",
        "plt.legend(loc=\"upper right\", fontsize=14)\n",
        "plt.show()\n",
        "\n",
        "#학습률이 너무 커 최솟값을 지나쳐가서 loss값이 수렴하지 못함\n"
      ],
      "execution_count": null,
      "outputs": [
        {
          "output_type": "display_data",
          "data": {
            "image/png": "[encoded data removed]",
            "text/plain": [
              "<Figure size 432x288 with 1 Axes>"
            ]
          },
          "metadata": {
            "tags": []
          }
        }
      ]
    }
  ]
}