{
  "nbformat": 4,
  "nbformat_minor": 0,
  "metadata": {
    "colab": {
      "name": "assignment2.ipynb",
      "provenance": [],
      "collapsed_sections": []
    },
    "kernelspec": {
      "name": "python3",
      "display_name": "Python 3"
    },
    "accelerator": "GPU"
  },
  "cells": [
    {
      "cell_type": "code",
      "metadata": {
        "id": "WhAHFH2LURyj"
      },
      "source": [
        "import torch\n",
        "import torch.nn as nn\n",
        "import torch.nn.functional as F\n",
        "import torch.optim as optim\n",
        "import torchvision\n",
        "from torchvision import datasets, transforms\n",
        "from torch.autograd import Variable\n",
        "import matplotlib.pyplot as plt\n",
        "import numpy as np"
      ],
      "execution_count": null,
      "outputs": []
    },
    {
      "cell_type": "code",
      "metadata": {
        "id": "22jj6EqwqtAJ",
        "colab": {
          "base_uri": "https://localhost:8080/",
          "height": 263
        },
        "outputId": "7f93cc97-d97e-4f85-c2f0-18e0278453a3"
      },
      "source": [
        "%matplotlib inline\n",
        "\n",
        "is_cuda = False\n",
        "if torch. cuda.is_available():                          #gpu를 사용할 수 있는지 확인하고 사용할 수 있으면 is_cuda라는 변수에 true값을 준다.\n",
        "  is_cuda = True\n",
        "\n",
        "transformation = transforms.Compose([transforms.ToTensor(), transforms.Normalize((0.1307,),(0.3081,))]) #이미지를 텐서로 변환, #정규화 시키는 것 보통 0.5 0.5 표준, 표준편차를 체널별로 준다.\n",
        "\n",
        "train_dataset = datasets.MNIST('data/', train = True, transform = transformation, download = True) #train, test dataset을 다운로드 하는 것.\n",
        "test_dataset = datasets.MNIST('data/', train = False, transform = transformation, download = True)\n",
        "\n",
        "train_loader = torch.utils.data.DataLoader(train_dataset, batch_size = 32, shuffle = True) #파라미터 : 데이터 값, 배치 사이즈, 랜덤 여부\n",
        "test_loader = torch.utils.data.DataLoader(test_dataset, batch_size = 32, shuffle = True)\n",
        "\n",
        "sample_data = next(iter(train_loader)) #batch 단위로 가지고 온다.\n",
        "\n",
        "def plot_img(image):  #이미지를 출력해주는 함수.\n",
        "  image = image.numpy()[0]\n",
        "  mean = 0.1307\n",
        "  std = 0.3081\n",
        "  image = ((mean*image)+std)\n",
        "  plt.imshow(image, cmap = 'gray')"
      ],
      "execution_count": null,
      "outputs": [
        {
          "output_type": "stream",
          "text": [
            "\r0it [00:00, ?it/s]"
          ],
          "name": "stderr"
        },
        {
          "output_type": "stream",
          "text": [
            "Downloading http://yann.lecun.com/exdb/mnist/train-images-idx3-ubyte.gz to data/MNIST/raw/train-images-idx3-ubyte.gz\n"
          ],
          "name": "stdout"
        },
        {
          "output_type": "stream",
          "text": [
            "9920512it [00:02, 3592226.80it/s]                             \n"
          ],
          "name": "stderr"
        },
        {
          "output_type": "stream",
          "text": [
            "Extracting data/MNIST/raw/train-images-idx3-ubyte.gz to data/MNIST/raw\n"
          ],
          "name": "stdout"
        },
        {
          "output_type": "stream",
          "text": [
            "\r0it [00:00, ?it/s]"
          ],
          "name": "stderr"
        },
        {
          "output_type": "stream",
          "text": [
            "Downloading http://yann.lecun.com/exdb/mnist/train-labels-idx1-ubyte.gz to data/MNIST/raw/train-labels-idx1-ubyte.gz\n"
          ],
          "name": "stdout"
        },
        {
          "output_type": "stream",
          "text": [
            "32768it [00:00, 58437.04it/s]                           \n",
            "0it [00:00, ?it/s]"
          ],
          "name": "stderr"
        },
        {
          "output_type": "stream",
          "text": [
            "Extracting data/MNIST/raw/train-labels-idx1-ubyte.gz to data/MNIST/raw\n",
            "Downloading http://yann.lecun.com/exdb/mnist/t10k-images-idx3-ubyte.gz to data/MNIST/raw/t10k-images-idx3-ubyte.gz\n"
          ],
          "name": "stdout"
        },
        {
          "output_type": "stream",
          "text": [
            "1654784it [00:01, 958339.33it/s]                            \n",
            "0it [00:00, ?it/s]"
          ],
          "name": "stderr"
        },
        {
          "output_type": "stream",
          "text": [
            "Extracting data/MNIST/raw/t10k-images-idx3-ubyte.gz to data/MNIST/raw\n",
            "Downloading http://yann.lecun.com/exdb/mnist/t10k-labels-idx1-ubyte.gz to data/MNIST/raw/t10k-labels-idx1-ubyte.gz\n"
          ],
          "name": "stdout"
        },
        {
          "output_type": "stream",
          "text": [
            "8192it [00:00, 21752.62it/s]            "
          ],
          "name": "stderr"
        },
        {
          "output_type": "stream",
          "text": [
            "Extracting data/MNIST/raw/t10k-labels-idx1-ubyte.gz to data/MNIST/raw\n",
            "Processing...\n",
            "Done!\n"
          ],
          "name": "stdout"
        },
        {
          "output_type": "stream",
          "text": [
            "\n"
          ],
          "name": "stderr"
        }
      ]
    },
    {
      "cell_type": "code",
      "metadata": {
        "id": "TeOFHXoDuyko",
        "colab": {
          "base_uri": "https://localhost:8080/",
          "height": 265
        },
        "outputId": "79786848-22af-4e06-b2c4-4216b4480faf"
      },
      "source": [
        "plot_img(sample_data[0][2])"
      ],
      "execution_count": null,
      "outputs": [
        {
          "output_type": "display_data",
          "data": {
            "image/png": "[encoded data removed]",
            "text/plain": [
              "<Figure size 432x288 with 1 Axes>"
            ]
          },
          "metadata": {
            "tags": []
          }
        }
      ]
    },
    {
      "cell_type": "code",
      "metadata": {
        "id": "l9-lvrX9u92Z",
        "colab": {
          "base_uri": "https://localhost:8080/",
          "height": 265
        },
        "outputId": "5d29f494-7fe6-4976-eccc-eca29d4ce28a"
      },
      "source": [
        "plot_img(sample_data[0][1])"
      ],
      "execution_count": null,
      "outputs": [
        {
          "output_type": "display_data",
          "data": {
            "image/png": "[encoded data removed]",
            "text/plain": [
              "<Figure size 432x288 with 1 Axes>"
            ]
          },
          "metadata": {
            "tags": []
          }
        }
      ]
    },
    {
      "cell_type": "code",
      "metadata": {
        "id": "gIwJwZHevDV6",
        "colab": {
          "base_uri": "https://localhost:8080/",
          "height": 245
        },
        "outputId": "39e6822b-67cb-46d2-ab88-79c602a5fec6"
      },
      "source": [
        "class Net(nn.Module): #nn.Module을 항상 상속 받아서 사용\n",
        "  def __init__(self):\n",
        "    super().__init__()\n",
        "    self.conv1 = nn.Conv2d(1, 10, kernel_size = 5)  #1채널 -> 10채널, 필터의 크기 5, 스트라이드는 기본값으로 1, 그래서 24*24에 채널이 10개로 바뀐다.\n",
        "                                                    #28 * 28 -> (28 - 5)/1 + 1 = 24\n",
        "                                                    #24 * 24로 변환\n",
        "\n",
        "    self.conv2 = nn.Conv2d(10, 20, kernel_size = 5) #10채널 -> 20채널, 필터의 크기 5, 스트라이드는 기본값으로 1, 그래서 24*24에 채널이 20개\n",
        "                                                    #24 * 24 -> (24 - 5)/1 + 1 = 20\n",
        "                                                    #20 *20으로 변환\n",
        "                                                    #이 크기는 conv1을 돌리고 바로 했다는 가정으로 forward에서 사용한 거는 크기가 또 달라집니다. (아래에서 기술)\n",
        "\n",
        "    self.conv2_drop = nn.Dropout2d()                #OverFitting을 방지하기 위해서 학습에서의 Fully Connect에서 몇개의 연결을 랜덤으로 없앤다.\n",
        "    self.fc1 = nn.Linear(320, 50)                   #인풋이 320인 것인 Fully Connect의 아웃풋을 50인 벡터로 연산한다.\n",
        "    self.fc2 = nn.Linear(50, 10)                    #인풋이 50인 것인 Fully Connect의 아웃풋을 10인 벡터로 연산한다.\n",
        "\n",
        "  def forward(self, x):\n",
        "    x = F.relu(F.max_pool2d(self.conv1(x),2))                       #conv1 (1채널 -> 10채널, 필터 크기 5, 스트라이드 1으로 연산하고) max_pool2d를 사용해서 가로세로를 반으로 바꾼다.\n",
        "                                                                    #결과 크기 : 12 * 12 * 10 (가로, 세로, 크기)\n",
        "    x = F.relu(F.max_pool2d(self.conv2_drop(self.conv2(x)),2))      #conv2 (10채널 -> 20채널, 필터 크기 5, 스트라이드 1으로 연산하고) max_pool2d를 사용해서 가로세로를 반으로 바꾼다.\n",
        "                                                                    #conv2의 결과 크기 : (12 - 5)/1 + 1 = 8, 8 * 8 * 20, Maxpool을 하면서 4가 되어\n",
        "                                                                    #결과크기는 4 * 4 * 20이 된다.\n",
        "    x = x.view(-1, 320)                                             #텐서를 벡터로 변환\n",
        "    x = F.relu(self.fc1(x))                                         #fc1을 연산하고 렐루를 통과시킨다.\n",
        "                                                                    #결과 크기 : 320 -> 50인 벡터\n",
        "    #x = F.dropout(x, p = 0.1, training = self.training)            #오버피팅을 방지하는 것이지만 주석처리가 되어있다. 주석처리 한 이유는 conv2_drop이 있기 때문이라고 추측한다.\n",
        "    x = self.fc2(x)                                                 #fc2를 연산한다.\n",
        "                                                                    #결과 크기 : 50 -> 10인 벡터\n",
        "    return F.log_softmax(x, dim = 1)                 #log_softmax를 사용해서 확률 값으로 리턴한다.\n",
        "\n",
        "model = Net()   #인스턴스 생성\n",
        "if is_cuda:\n",
        "  model.cuda()  #gpu사용\n",
        "\n",
        "optimizer = optim.SGD(model.parameters(), lr = 0.01)          #Stochastic Gradient Descent이하 SGD를 옵티마이저로 사용\n",
        "\n",
        "data , target = next(iter(train_loader))            #훈련 집합에서 다음 data랑 target을 뽑아서 변수로 저장한다.\n",
        "\n",
        "output = model(Variable(data.cuda()))               #GPU에 인풋 데이터를 올린다.\n"
      ],
      "execution_count": null,
      "outputs": [
        {
          "output_type": "error",
          "ename": "NameError",
          "evalue": "ignored",
          "traceback": [
            "\u001b[0;31m---------------------------------------------------------------------------\u001b[0m",
            "\u001b[0;31mNameError\u001b[0m                                 Traceback (most recent call last)",
            "\u001b[0;32m<ipython-input-1-0b2d3fc36080>\u001b[0m in \u001b[0;36m<module>\u001b[0;34m()\u001b[0m\n\u001b[0;32m----> 1\u001b[0;31m \u001b[0;32mclass\u001b[0m \u001b[0mNet\u001b[0m\u001b[0;34m(\u001b[0m\u001b[0mnn\u001b[0m\u001b[0;34m.\u001b[0m\u001b[0mModule\u001b[0m\u001b[0;34m)\u001b[0m\u001b[0;34m:\u001b[0m \u001b[0;31m#nn.Module을 항상 상속 받아서 사용\u001b[0m\u001b[0;34m\u001b[0m\u001b[0;34m\u001b[0m\u001b[0m\n\u001b[0m\u001b[1;32m      2\u001b[0m   \u001b[0;32mdef\u001b[0m \u001b[0m__init__\u001b[0m\u001b[0;34m(\u001b[0m\u001b[0mself\u001b[0m\u001b[0;34m)\u001b[0m\u001b[0;34m:\u001b[0m\u001b[0;34m\u001b[0m\u001b[0;34m\u001b[0m\u001b[0m\n\u001b[1;32m      3\u001b[0m     \u001b[0msuper\u001b[0m\u001b[0;34m(\u001b[0m\u001b[0;34m)\u001b[0m\u001b[0;34m.\u001b[0m\u001b[0m__init__\u001b[0m\u001b[0;34m(\u001b[0m\u001b[0;34m)\u001b[0m\u001b[0;34m\u001b[0m\u001b[0;34m\u001b[0m\u001b[0m\n\u001b[1;32m      4\u001b[0m     \u001b[0mself\u001b[0m\u001b[0;34m.\u001b[0m\u001b[0mconv1\u001b[0m \u001b[0;34m=\u001b[0m \u001b[0mnn\u001b[0m\u001b[0;34m.\u001b[0m\u001b[0mConv2d\u001b[0m\u001b[0;34m(\u001b[0m\u001b[0;36m1\u001b[0m\u001b[0;34m,\u001b[0m \u001b[0;36m10\u001b[0m\u001b[0;34m,\u001b[0m \u001b[0mkernel_size\u001b[0m \u001b[0;34m=\u001b[0m \u001b[0;36m5\u001b[0m\u001b[0;34m)\u001b[0m  \u001b[0;31m#1채널 -> 10채널, 필터의 크기 5, 스트라이드는 기본값으로 1, 그래서 24*24에 채널이 10개로 바뀐다.\u001b[0m\u001b[0;34m\u001b[0m\u001b[0;34m\u001b[0m\u001b[0m\n\u001b[1;32m      5\u001b[0m                                                     \u001b[0;31m#28 * 28 -> (28 - 5)/1 + 1 = 24\u001b[0m\u001b[0;34m\u001b[0m\u001b[0;34m\u001b[0m\u001b[0;34m\u001b[0m\u001b[0m\n",
            "\u001b[0;31mNameError\u001b[0m: name 'nn' is not defined"
          ]
        }
      ]
    },
    {
      "cell_type": "code",
      "metadata": {
        "id": "bsu9jRZSyoD9",
        "colab": {
          "base_uri": "https://localhost:8080/",
          "height": 35
        },
        "outputId": "87d9f273-a5f7-4c1b-e43b-a5667591de55"
      },
      "source": [
        "print(output.size())"
      ],
      "execution_count": null,
      "outputs": [
        {
          "output_type": "stream",
          "text": [
            "torch.Size([32, 10])\n"
          ],
          "name": "stdout"
        }
      ]
    },
    {
      "cell_type": "code",
      "metadata": {
        "id": "L16O_x5_3e5Y",
        "colab": {
          "base_uri": "https://localhost:8080/",
          "height": 35
        },
        "outputId": "da4a2868-6791-409e-d519-b74005a0cb61"
      },
      "source": [
        "print(target.size())"
      ],
      "execution_count": null,
      "outputs": [
        {
          "output_type": "stream",
          "text": [
            "torch.Size([32])\n"
          ],
          "name": "stdout"
        }
      ]
    },
    {
      "cell_type": "code",
      "metadata": {
        "id": "2mAAEnIg3i5A",
        "colab": {
          "base_uri": "https://localhost:8080/",
          "height": 717
        },
        "outputId": "3ca05ed9-fc02-49a8-ba7c-e1c9af30967d"
      },
      "source": [
        "def fit(epoch, model, data_loader, phase = 'training', volatile = False):\n",
        "  if phase == 'training':   #훈련 시킬 때\n",
        "    model.train()\n",
        "  if phase == 'validation': #검증할 때\n",
        "    model.eval()\n",
        "    volatile = True\n",
        "  running_loss = 0.0  #초기 러닝 레이트\n",
        "  running_correct = 0\n",
        "  for batch_idx, (data,target) in enumerate(data_loader):\n",
        "    if is_cuda:\n",
        "      data, target = data.cuda(), target.cuda()               #GPU에 올림.\n",
        "    data, target = Variable(data, volatile), Variable(target) #data는 training이면 Variable(data, false)이면 역전파를 사용하기 위해서 메모리 상에 올리는 것이고,\n",
        "                                                              #target은 volatile의 기본값이 true이기 때문에 메모리에 올리지 않는다(역전파를 하지 않을 것이기 때문에)\n",
        "    if phase == 'training':\n",
        "      optimizer.zero_grad()   #학습 시킬 경우.\n",
        "    output = model(data)      #init과 포워드를 돌게 되어 output이 나온다.\n",
        "    loss = F.nll_loss(output, target) #Negative log likelihood loss를 손실함수로 사용한다.\n",
        "\n",
        "    running_loss += F.nll_loss(output,target, size_average=False).data    #batch마다 loss를 중첩해가는 과정\n",
        "    preds = output.data.max(dim = 1, keepdim = True)[1]                   #예측값\n",
        "    running_correct += preds.eq(target.data.view_as(preds)).cpu().sum()   #실제값과의 유사도를 batch마다 중첩해가는 과정\n",
        "    if phase == 'training':\n",
        "      loss.backward()         #훈련에서의 역연산\n",
        "      optimizer.step()        #가중치 갱신\n",
        "  \n",
        "  loss = running_loss/len(data_loader.dataset)  #로스의 평균\n",
        "  accuracy = 100. * running_correct/len(data_loader.dataset)  #정확도(유사도의 평균을 100으로 곱해서 %로 변환)\n",
        "\n",
        "  print(f'{phase} loss is {loss : {5}.{2}} and {phase} accuracy is {running_correct}/{len(data_loader.dataset)}{accuracy:{10}.{4}}') #출력\n",
        "  return loss, accuracy\n",
        "\n",
        "train_losses, train_accuracy = [], []\n",
        "val_losses, val_accuracy = [], []\n",
        "for epoch in range(1,20): #20번 학습시킨다.\n",
        "  epoch_loss, epoch_accuracy = fit(epoch, model, train_loader, phase = 'training')  #위에 정의해준 fit를 사용해서 학습시킨다.\n",
        "  val_epoch_loss, val_epoch_accuracy = fit(epoch, model, test_loader, phase = 'validation') #이것은 검증 하는 것이다.\n",
        "  train_losses.append(epoch_loss) #각 에포크 마다 훈련의 loss를 배열에 추가해준다.\n",
        "  train_accuracy.append(epoch_accuracy) #각 에포크 마다 훈련의 정확도를 배열에 추가해준다.\n",
        "  val_losses.append(val_epoch_loss) #각 에포크 마다 검증의 loss를 배열에 추가해준다.\n",
        "  val_accuracy.append(val_epoch_accuracy) #각 에포크 마다 검증의 정확도를 배열에 추가해준다."
      ],
      "execution_count": null,
      "outputs": [
        {
          "output_type": "stream",
          "text": [
            "/usr/local/lib/python3.6/dist-packages/torch/nn/_reduction.py:43: UserWarning: size_average and reduce args will be deprecated, please use reduction='sum' instead.\n",
            "  warnings.warn(warning.format(ret))\n"
          ],
          "name": "stderr"
        },
        {
          "output_type": "stream",
          "text": [
            "training loss is  0.62 and training accuracy is 48414/60000     80.69\n",
            "validation loss is  0.17 and validation accuracy is 9479/10000     94.79\n",
            "training loss is   0.2 and training accuracy is 56454/60000     94.09\n",
            "validation loss is   0.1 and validation accuracy is 9680/10000      96.8\n",
            "training loss is  0.15 and training accuracy is 57310/60000     95.52\n",
            "validation loss is  0.075 and validation accuracy is 9762/10000     97.62\n",
            "training loss is  0.13 and training accuracy is 57784/60000     96.31\n",
            "validation loss is  0.07 and validation accuracy is 9779/10000     97.79\n",
            "training loss is  0.11 and training accuracy is 58026/60000     96.71\n",
            "validation loss is  0.051 and validation accuracy is 9835/10000     98.35\n",
            "training loss is   0.1 and training accuracy is 58208/60000     97.01\n",
            "validation loss is  0.05 and validation accuracy is 9841/10000     98.41\n",
            "training loss is  0.091 and training accuracy is 58380/60000      97.3\n",
            "validation loss is  0.04 and validation accuracy is 9871/10000     98.71\n",
            "training loss is  0.086 and training accuracy is 58440/60000      97.4\n",
            "validation loss is  0.042 and validation accuracy is 9865/10000     98.65\n",
            "training loss is  0.08 and training accuracy is 58535/60000     97.56\n",
            "validation loss is  0.041 and validation accuracy is 9865/10000     98.65\n",
            "training loss is  0.075 and training accuracy is 58671/60000     97.79\n",
            "validation loss is  0.037 and validation accuracy is 9876/10000     98.76\n",
            "training loss is  0.073 and training accuracy is 58673/60000     97.79\n",
            "validation loss is  0.037 and validation accuracy is 9884/10000     98.84\n",
            "training loss is  0.068 and training accuracy is 58817/60000     98.03\n",
            "validation loss is  0.037 and validation accuracy is 9878/10000     98.78\n",
            "training loss is  0.066 and training accuracy is 58813/60000     98.02\n",
            "validation loss is  0.035 and validation accuracy is 9894/10000     98.94\n",
            "training loss is  0.063 and training accuracy is 58886/60000     98.14\n",
            "validation loss is  0.032 and validation accuracy is 9894/10000     98.94\n",
            "training loss is  0.061 and training accuracy is 58912/60000     98.19\n",
            "validation loss is  0.032 and validation accuracy is 9906/10000     99.06\n",
            "training loss is  0.057 and training accuracy is 58982/60000      98.3\n",
            "validation loss is  0.031 and validation accuracy is 9895/10000     98.95\n",
            "training loss is  0.055 and training accuracy is 59007/60000     98.35\n",
            "validation loss is  0.03 and validation accuracy is 9905/10000     99.05\n",
            "training loss is  0.053 and training accuracy is 59040/60000      98.4\n",
            "validation loss is  0.028 and validation accuracy is 9908/10000     99.08\n",
            "training loss is  0.053 and training accuracy is 59046/60000     98.41\n",
            "validation loss is  0.029 and validation accuracy is 9901/10000     99.01\n"
          ],
          "name": "stdout"
        }
      ]
    },
    {
      "cell_type": "code",
      "metadata": {
        "id": "8KxW7VKU4Hun",
        "colab": {
          "base_uri": "https://localhost:8080/",
          "height": 282
        },
        "outputId": "fa8b3454-726d-4fd3-d6aa-e3a33255fa1b"
      },
      "source": [
        "plt.plot(range(1, len(train_losses)+1), train_losses, 'bo', label = 'training loss')  #에포크를 진행하면서 훈련의 loss의 변화를 출력한다.\n",
        "plt.plot(range(1, len(val_losses)+1), val_losses, 'r', label = 'validation loss')     #에포크를 진행하면서 검증의 loss의 변화를 출력한다.\n",
        "plt.legend()"
      ],
      "execution_count": null,
      "outputs": [
        {
          "output_type": "execute_result",
          "data": {
            "text/plain": [
              "<matplotlib.legend.Legend at 0x7f60219afc18>"
            ]
          },
          "metadata": {
            "tags": []
          },
          "execution_count": 9
        },
        {
          "output_type": "display_data",
          "data": {
            "image/png": "[encoded data removed]",
            "text/plain": [
              "<Figure size 432x288 with 1 Axes>"
            ]
          },
          "metadata": {
            "tags": []
          }
        }
      ]
    },
    {
      "cell_type": "code",
      "metadata": {
        "id": "2dQkjZNgF5Cl",
        "colab": {
          "base_uri": "https://localhost:8080/",
          "height": 282
        },
        "outputId": "cb442488-346c-410c-b9ec-2f28ebdb551b"
      },
      "source": [
        "plt.plot(range(1, len(train_accuracy)+1), train_accuracy, 'bo', label = 'train accuracy') #에포크의 진행에 따라 훈련의 정확도 변화를 출력한다.\n",
        "plt.plot(range(1, len(val_accuracy)+1), val_accuracy, 'r', label = 'val accuracy')        #에포크의 진행에 따라 검증의 정확도 변화를 출력한다.\n",
        "plt.legend()"
      ],
      "execution_count": null,
      "outputs": [
        {
          "output_type": "execute_result",
          "data": {
            "text/plain": [
              "<matplotlib.legend.Legend at 0x7f60219344a8>"
            ]
          },
          "metadata": {
            "tags": []
          },
          "execution_count": 10
        },
        {
          "output_type": "display_data",
          "data": {
            "image/png": "[encoded data removed]",
            "text/plain": [
              "<Figure size 432x288 with 1 Axes>"
            ]
          },
          "metadata": {
            "tags": []
          }
        }
      ]
    },
    {
      "cell_type": "code",
      "metadata": {
        "id": "DGbD-ChPGapS",
        "colab": {
          "base_uri": "https://localhost:8080/",
          "height": 140
        },
        "outputId": "62cfc559-6ddc-4469-c289-dfb91abc838e"
      },
      "source": [
        "class Net(nn.Module):\n",
        "  def __init__(self):\n",
        "    super(Net, self).__init__()\n",
        "    self.conv1 = nn.Conv2d(1, 6, 5)                           #인풋  채널 : 1, 아웃풋 채널 : 6, 커널 사이즈 : 5\n",
        "    self.conv2 = nn.Conv2d(6, 16, 5)                          #인풋  채널 : 6, 아웃풋 채널 : 16, 커널 사이즈 : 5\n",
        "    self.fc1 = nn.Linear(16 * 5 * 5, 120)                     #인풋 (벡터)사이즈 : 16*5*5, 아웃풋 (벡터)사이즈 : 120\n",
        "    self.fc2 = nn.Linear(120, 84)                             #인풋 (벡터)사이즈 : 120, 아웃풋 (벡터)사이즈 : 84\n",
        "    self.fc3 = nn.Linear(84,10)                               #인풋 (벡터)사이즈 : 84, 아웃풋 (벡터)사이즈 : 10\n",
        "  def forward(self, x):\n",
        "    x = F.max_pool2d(F.relu(self.conv1(x)),(2,2))             #conv1을 실행후 렐루 통과, max_pool2d(2,2)를 사용\n",
        "                                                              #conv1, 렐루 통과 후 사이즈 : (32 - 5)/1 + 1 = 28 , 28 * 28 * 6\n",
        "                                                              #max_pool2d(2,2) 통과 후 사이즈 : 28/2 = 14 , 14 * 14 * 6\n",
        "    x = F.max_pool2d(F.relu(self.conv2(x)),2)                 #conv2를 실행후 렐루 통과, max_pool2d를 사용\n",
        "                                                              #conv2, 렐루 통과 후 사이즈 : (14 - 5)/1 + 1 = 10, 10 * 10 * 16\n",
        "                                                              #max_pool2d 통과 후 사이즈 : 5 * 5 * 16\n",
        "    x = x.view(-1, self.num_flat_features(x))                 #num_flat_features은 x의 크기를 반환해주는 것으로, x.view(-1, 크기)이므로 텐서를 벡터로 변환해 주는 것이다.\n",
        "    x = F.relu(self.fc1(x))                                   #Fully Connect 연산을 하는 것이다.(입력 크기 : 16 * 5 * 5, 아웃풋 크기 : 120)\n",
        "    x = F.relu(self.fc2(x))                                   #Fully Connect 연산을 하는 것이다.(입력 크기 : 120, 아웃풋 크기 : 84)\n",
        "    x = self.fc3(x)                                           #Fully Connect 연산을 하는 것이다.(입력 크기 : 84, 아웃풋 크기 : 10)\n",
        "    return x\n",
        "  def num_flat_features(self, x):                             #텐서의 크기를 반환해주는 함수\n",
        "    size = x.size()[1:]\n",
        "    num_features = 1\n",
        "    for s in size:\n",
        "      num_features *= s\n",
        "    return num_features\n",
        "\n",
        "net  = Net()                                                  #객체 생성\n",
        "print(net)                                                    #객체 안에 있는 파라미터들을 호출해준다."
      ],
      "execution_count": null,
      "outputs": [
        {
          "output_type": "stream",
          "text": [
            "Net(\n",
            "  (conv1): Conv2d(1, 6, kernel_size=(5, 5), stride=(1, 1))\n",
            "  (conv2): Conv2d(6, 16, kernel_size=(5, 5), stride=(1, 1))\n",
            "  (fc1): Linear(in_features=400, out_features=120, bias=True)\n",
            "  (fc2): Linear(in_features=120, out_features=84, bias=True)\n",
            "  (fc3): Linear(in_features=84, out_features=10, bias=True)\n",
            ")\n"
          ],
          "name": "stdout"
        }
      ]
    },
    {
      "cell_type": "code",
      "metadata": {
        "id": "V07F4JXcLXiP",
        "colab": {
          "base_uri": "https://localhost:8080/",
          "height": 52
        },
        "outputId": "9a8aeb2a-3dc7-4724-fccd-92a022505c55"
      },
      "source": [
        "params = list(net.parameters())             #parameters()를 하면 모든 파라미터가 들어감.\n",
        "print(len(params))                          #레이어 층을 출력하는 것으로 추측한다.\n",
        "print(params[0].size())                     #conv1의 파라미터 수를 출력한다.(아웃풋, 인풋, 커널 가로크기, 커널 세로크기로 추정)"
      ],
      "execution_count": null,
      "outputs": [
        {
          "output_type": "stream",
          "text": [
            "10\n",
            "torch.Size([6, 1, 5, 5])\n"
          ],
          "name": "stdout"
        }
      ]
    },
    {
      "cell_type": "code",
      "metadata": {
        "id": "afkHLydZMeWC",
        "colab": {
          "base_uri": "https://localhost:8080/",
          "height": 52
        },
        "outputId": "e72e70a3-8b03-49a3-869e-433c2cbf235e"
      },
      "source": [
        "input = torch.randn(1,1,32,32)            #입력 영상을 만들어준다. 크기는 1 * 1 * 32 * 32\n",
        "out = net(input)                          #훈련을 돌린 후 out을 출력시킨다.\n",
        "print(out)"
      ],
      "execution_count": null,
      "outputs": [
        {
          "output_type": "stream",
          "text": [
            "tensor([[-0.0248, -0.0815, -0.0626, -0.0894,  0.0617,  0.0625,  0.0261, -0.0468,\n",
            "          0.0799, -0.0412]], grad_fn=<AddmmBackward>)\n"
          ],
          "name": "stdout"
        }
      ]
    },
    {
      "cell_type": "code",
      "metadata": {
        "id": "oRFpGlzBM_hI",
        "colab": {
          "base_uri": "https://localhost:8080/",
          "height": 35
        },
        "outputId": "4f7cf090-790c-4bcf-a5c8-38147a7c97c3"
      },
      "source": [
        "net.zero_grad()                         #훈련을 시작하기 전에 버퍼를 0으로 초기화 해준다.\n",
        "out.backward(torch.randn(1,10))         #크기가 10이기 때문에 인자로 10개짜리 벡터를 준다. 그래디언트를 계산한다.\n",
        "\n",
        "output = net(input)                     #계산을 한다.\n",
        "target = torch.randn(10)                #10개의 크기를 가진 1차원 배열을 만든다. 10\n",
        "target = target.view(1,-1)              #1차원 배열을 벡터로 만든다. 1*10\n",
        "criterion  = nn.MSELoss()               #손실함수로 평균제곱오차를 사용한다고 정의.\n",
        "\n",
        "loss = criterion(output, target)        #loss 계산\n",
        "print(loss)                             #출력"
      ],
      "execution_count": null,
      "outputs": [
        {
          "output_type": "stream",
          "text": [
            "tensor(0.7615, grad_fn=<MseLossBackward>)\n"
          ],
          "name": "stdout"
        }
      ]
    },
    {
      "cell_type": "code",
      "metadata": {
        "id": "CNZRDta5Rpjd",
        "colab": {
          "base_uri": "https://localhost:8080/",
          "height": 52
        },
        "outputId": "41449080-65f3-4d9a-a2eb-a774aaa8d0f8"
      },
      "source": [
        "net.zero_grad()                             #역연산 하기 전에 버퍼를 0으로 초기화\n",
        "print('conv1.bias.grad before backward')\n",
        "print(net.conv1.bias.grad)                  #역연산 하기 전의 버퍼 출력"
      ],
      "execution_count": null,
      "outputs": [
        {
          "output_type": "stream",
          "text": [
            "conv1.bias.grad before backward\n",
            "tensor([0., 0., 0., 0., 0., 0.])\n"
          ],
          "name": "stdout"
        }
      ]
    },
    {
      "cell_type": "code",
      "metadata": {
        "id": "atKlh9c8R12H",
        "colab": {
          "base_uri": "https://localhost:8080/",
          "height": 52
        },
        "outputId": "b60cecae-595f-453b-ff8b-583b741d5b27"
      },
      "source": [
        "loss.backward()\n",
        "print('conv1.bias.grad after backward')\n",
        "print(net.conv1.bias.grad)                  #역연산을 하고 난 버퍼 출력"
      ],
      "execution_count": null,
      "outputs": [
        {
          "output_type": "stream",
          "text": [
            "conv1.bias.grad after backward\n",
            "tensor([ 0.0014, -0.0018,  0.0208,  0.0009, -0.0094, -0.0068])\n"
          ],
          "name": "stdout"
        }
      ]
    },
    {
      "cell_type": "code",
      "metadata": {
        "id": "uWChHa-YSF_X"
      },
      "source": [
        "learning_rate = 0.01                            #러닝 웨이트\n",
        "for f in net.parameters():                      #파라미터들을 돌면서\n",
        "  f.data.sub_(f.grad.data * learning_rate)      #가중치를 갱신해준다."
      ],
      "execution_count": null,
      "outputs": []
    },
    {
      "cell_type": "code",
      "metadata": {
        "id": "G8VQEZohSlx3",
        "colab": {
          "base_uri": "https://localhost:8080/",
          "height": 35
        },
        "outputId": "fa2c54c3-4675-4278-824d-bd1db553ba5b"
      },
      "source": [
        "optimizer = optim.SGD(net.parameters(), lr = 0.01)    #Stochastic Gradient Descent이하 SGD를 옵티마이저로 사용\n",
        "\n",
        "optimizer.zero_grad()                           #버퍼 0으로 초기화\n",
        "output = net(input)                             #연산할 데이터를 넣어줌.\n",
        "loss = criterion(output, target)                #손실함수로 크로스엔트로피를 사용\n",
        "loss.backward()                                 #역전파 계산\n",
        "optimizer.step()                                #가중치 갱신\n",
        "print(loss)                                     #loss 출력"
      ],
      "execution_count": null,
      "outputs": [
        {
          "output_type": "stream",
          "text": [
            "tensor(0.7534, grad_fn=<MseLossBackward>)\n"
          ],
          "name": "stdout"
        }
      ]
    },
    {
      "cell_type": "code",
      "metadata": {
        "id": "izHH5EuWS4xv",
        "colab": {
          "base_uri": "https://localhost:8080/",
          "height": 52
        },
        "outputId": "104531c8-4df3-49a9-c13c-c3a53e8b7ef3"
      },
      "source": [
        "transform = transforms.Compose([transforms.ToTensor(), transforms.Normalize((0.5,0.5,0.5),(0.5,0.5,0.5))])\n",
        "\n",
        "trainset = datasets.CIFAR10(root='./data', train = True, download = True, transform = transform)          #CIFAR10에 대한 훈련 데이터셋 다운로드\n",
        "trainloader = torch.utils.data.DataLoader(trainset, batch_size = 4, shuffle = True, num_workers = 2)      #다운 받은 trainset을 이용해서 loader를 만든다. 이때 배치 사이즈는 4, 랜덤 적용, num_workers는 멀티쓰레딩을 사용해서 한 번에 몇개를 멀티 쓰레딩 할지 입력해 줍니다.\n",
        "\n",
        "testset = datasets.CIFAR10(root='./data', train = False, download = True, transform = transform)          #CIFAR10에 대한 테스트 데이터셋 다운로드\n",
        "testloader = torch.utils.data.DataLoader(testset, batch_size = 4, shuffle = False, num_workers = 2)       #다운 받은 testset을 이용해서 loader를 만든다. 이때 배치 사이즈는 4, 랜덤 미적용, num_workers는 2로 한다.\n",
        "\n",
        "classes = ('plane', 'car', 'bird', 'cat', 'deer', 'dog', 'frog', 'horse', 'ship', 'truck')                #분류 classes는 다음과 같이 정한다.\n"
      ],
      "execution_count": null,
      "outputs": [
        {
          "output_type": "stream",
          "text": [
            "Files already downloaded and verified\n",
            "Files already downloaded and verified\n"
          ],
          "name": "stdout"
        }
      ]
    },
    {
      "cell_type": "code",
      "metadata": {
        "id": "lFLOjYuAUJK1",
        "colab": {
          "base_uri": "https://localhost:8080/",
          "height": 155
        },
        "outputId": "fd622204-3499-4aef-ff76-5c9c0607d87e"
      },
      "source": [
        "def imshow(img):    #이미지를 출력해주는 함수.\n",
        "  img = img/2 + 0.5\n",
        "  npimg = img.numpy()\n",
        "  plt.imshow(np.transpose(npimg, (1,2,0)))\n",
        "\n",
        "dataiter = iter(trainloader)            #loader를 사용해서 반복자를 dataiter에 저장한다.\n",
        "images, labels = dataiter.next()        #다음 것을 읽어와서 (batch단위로), trainloader를 사용하므로 4개씩 랜덤하게 가져온다. \n",
        "\n",
        "imshow(torchvision.utils.make_grid(images))   #이미지 출력\n",
        "print(' '.join('%5s' % classes[labels[j]] for j in range(4))) #정답 출력"
      ],
      "execution_count": null,
      "outputs": [
        {
          "output_type": "stream",
          "text": [
            " ship   car  bird   cat\n"
          ],
          "name": "stdout"
        },
        {
          "output_type": "display_data",
          "data": {
            "image/png": "[encoded data removed]",
            "text/plain": [
              "<Figure size 432x288 with 1 Axes>"
            ]
          },
          "metadata": {
            "tags": []
          }
        }
      ]
    },
    {
      "cell_type": "code",
      "metadata": {
        "id": "flOgzD6dXFI8",
        "colab": {
          "base_uri": "https://localhost:8080/",
          "height": 455
        },
        "outputId": "eefc1254-0317-4509-e5e4-ced48e097400"
      },
      "source": [
        "class Net(nn.Module):\n",
        "  def __init__(self):\n",
        "    super(Net, self).__init__()\n",
        "    self.conv1 = nn.Conv2d(3, 6, 5)                 #인풋 채널 : 3, 아웃풋 채널 : 6, 커널 사이즈 : 5\n",
        "    self.pool = nn.MaxPool2d(2, 2)                  #MaxPool2d 가로 세로를 반으로 줄인다.\n",
        "    self.conv2 = nn.Conv2d(6, 16, 5)                #인풋 채널 : 6, 아웃풋 채널 : 16, 커널 사이즈 : 5\n",
        "    self.fc1 = nn.Linear(16 * 5 * 5, 120)           #인풋 (벡터)사이즈 : 16 * 5 * 5, 아웃풋 (벡터)사이즈 : 120\n",
        "    self.fc2 = nn.Linear(120, 84)                   #인풋 (벡터)사이즈 : 120, 아웃풋 (벡터)사이즈 : 84\n",
        "    self.fc3 = nn.Linear(84, 10)                    #인풋 (벡터)사이즈 : 84, 아웃풋 (벡터)사이즈 : 10\n",
        "\n",
        "  def forward(self, x):\n",
        "    x = self.pool(F.relu(self.conv1(x)))            #conv1을 해주고 relu통과 후 maxpool2d를 한다.\n",
        "                                                    #결과 크기 : (32-5)/1 + 1 = 28 => 이것이 conv1과 relu통과 이후 크기이고,\n",
        "                                                    #여기에 /2를 해준 14가 self.pool을 통과 후 크기이다.\n",
        "                                                    #따라서 14 * 14 *6이다.\n",
        "    x = self.pool(F.relu(self.conv2(x)))            #conv2를 해주고 relu통과 후 maxpool2d를 한다.\n",
        "                                                    #결과 크기 : (14-5)/1 + 1 = 10\n",
        "                                                    #여기에 /2를 해준 5가 self.pool을 통과 후 크기이다.\n",
        "                                                    #따라서 5 * 5 * 16이다.\n",
        "    x = x.view(-1, 16 * 5 * 5)                      #텐서를 벡터로 변환해준다.\n",
        "    x = F.relu(self.fc1(x))                         #Fully Connect에 16 * 5 * 5의 벡터를 입력으로 주고 120의 크기인 벡터가 아웃풋으로 나온다. 그리고 렐루를 통과시킨다.\n",
        "    x = F.relu(self.fc2(x))                         #Fully Connect에 120의 벡터를 입력으로 84의 크기인 벡터가 아웃풋으로 나온다. 그리고 렐루를 통과시킨다.\n",
        "    x = self.fc3(x)                                 #Fully Connect에 84의 벡터를 입력으로 10의 크기인 벡터가 아웃풋으로 나온다.\n",
        "    return x                                        #10의 크기인 벡터가 리턴된다.\n",
        "  \n",
        "net = Net()                                         #인스턴스 생성\n",
        "\n",
        "criterion = nn.CrossEntropyLoss()                   #손실함수는 크로스엔트로피를 사용한다.\n",
        "optimizer = optim.SGD(net.parameters(), lr = 0.001, momentum = 0.9)   #Stochastic Gradient Descent이하 SGD를 옵티마이저로 사용\n",
        "\n",
        "for epoch in range(2):                              #2번의 에포크를 실행한다.\n",
        "  running_loss = 0.0                                #loss값 초기화\n",
        "  for i, data in enumerate(trainloader, 0):         #훈련집합 반복\n",
        "    inputs, labels = data                           #data에서 텐서랑 라벨 분리\n",
        "    optimizer.zero_grad()                           #버퍼를 0으로 초기화\n",
        "\n",
        "    outputs = net(inputs)                           #output에 인풋을 넣는다.\n",
        "    loss = criterion(outputs, labels)               #손실함수를 돌려서 loss를 계산한다.\n",
        "\n",
        "    loss.backward()                                 #역연산을 진행한다.\n",
        "    optimizer.step()                                #가중치를 갱신한다.\n",
        "\n",
        "    running_loss += loss.item()                     #tensor 안에 있는 값을 스칼라 값을 꺼내어 출력의 총합을 내준다.\n",
        "    if i % 1000 == 999:                             #1000번 마다 끝 3자리가 999이면 출력을 해주고 running_loss를 0으로 초기화 해준다.\n",
        "      print('[%d, %5d] loss: %.3f' %(epoch + 1, i+1, running_loss/1000))    #1000개의 평균으로 에포크, 횟수, loss를 출력한다.\n",
        "      running_loss = 0.0\n",
        "print('Finished Training')"
      ],
      "execution_count": null,
      "outputs": [
        {
          "output_type": "stream",
          "text": [
            "[1,  1000] loss: 2.290\n",
            "[1,  2000] loss: 2.124\n",
            "[1,  3000] loss: 1.914\n",
            "[1,  4000] loss: 1.796\n",
            "[1,  5000] loss: 1.706\n",
            "[1,  6000] loss: 1.648\n",
            "[1,  7000] loss: 1.602\n",
            "[1,  8000] loss: 1.595\n",
            "[1,  9000] loss: 1.566\n",
            "[1, 10000] loss: 1.490\n",
            "[1, 11000] loss: 1.487\n",
            "[1, 12000] loss: 1.490\n",
            "[2,  1000] loss: 1.413\n",
            "[2,  2000] loss: 1.425\n",
            "[2,  3000] loss: 1.411\n",
            "[2,  4000] loss: 1.412\n",
            "[2,  5000] loss: 1.404\n",
            "[2,  6000] loss: 1.383\n",
            "[2,  7000] loss: 1.375\n",
            "[2,  8000] loss: 1.372\n",
            "[2,  9000] loss: 1.347\n",
            "[2, 10000] loss: 1.333\n",
            "[2, 11000] loss: 1.329\n",
            "[2, 12000] loss: 1.335\n",
            "Finished Training\n"
          ],
          "name": "stdout"
        }
      ]
    },
    {
      "cell_type": "code",
      "metadata": {
        "id": "BL0nipR-bM_V",
        "colab": {
          "base_uri": "https://localhost:8080/",
          "height": 155
        },
        "outputId": "d3c1c829-7915-4c19-8532-71d2350aa646"
      },
      "source": [
        "dataiter = iter(testloader)                                                       #testloader를 사용해서 반복자 생성\n",
        "images, labels = dataiter.next()                                                  #dataiter를 사용해서 이미지랑 라벨 분리해서 저장.\n",
        "\n",
        "imshow(torchvision.utils.make_grid(images))                                       #이미지 출력\n",
        "print('GroundTruth:',' '.join('%5s' % classes[labels[j]] for j in range(4)))      #정답 출력"
      ],
      "execution_count": null,
      "outputs": [
        {
          "output_type": "stream",
          "text": [
            "GroundTruth:   cat  ship  ship plane\n"
          ],
          "name": "stdout"
        },
        {
          "output_type": "display_data",
          "data": {
            "image/png": "[encoded data removed]",
            "text/plain": [
              "<Figure size 432x288 with 1 Axes>"
            ]
          },
          "metadata": {
            "tags": []
          }
        }
      ]
    },
    {
      "cell_type": "code",
      "metadata": {
        "id": "Ii8jbtBlcAGh",
        "colab": {
          "base_uri": "https://localhost:8080/",
          "height": 35
        },
        "outputId": "eeb43ea4-0470-498a-e97e-a7b86c33c90a"
      },
      "source": [
        "outputs = net(images)                                                           #입력 이미지를 output에 저장\n",
        "_, predicted = torch.max(outputs, 1)                                            #아웃풋에서 값이 제일 큰 인덱스를 predicted에 담는다.\n",
        "print('Predicted:',' '.join('%5s' % classes[predicted[j]] for j in range(4)))   #값이 제일 큰 classes(예측 결과값)을 출력한다."
      ],
      "execution_count": null,
      "outputs": [
        {
          "output_type": "stream",
          "text": [
            "Predicted:   cat   car  ship plane\n"
          ],
          "name": "stdout"
        }
      ]
    },
    {
      "cell_type": "code",
      "metadata": {
        "id": "ZxXC9YVScbHU",
        "colab": {
          "base_uri": "https://localhost:8080/",
          "height": 35
        },
        "outputId": "0587a6d1-2e7e-4a41-a7be-6d917681c4cd"
      },
      "source": [
        "correct = 0                                                                                 \n",
        "total = 0\n",
        "with torch.no_grad():                                                                       #역연산을 사용하지 않는다.\n",
        "  for data in testloader:                                                                    #testset을 이용해서 만든 testloader를 반복한다.\n",
        "    images, labels = data                                                                   #데이터에서 이미지 라벨 분리\n",
        "    outputs = net(images)                                                                   #output에 image를 사용해서 연산을 한다.\n",
        "    _, predicted = torch.max(outputs.data, 1)                                               #가장 큰 값을 가진 classes의 인덱스를 predicted에 저장한다.\n",
        "    total += labels.size(0)                                                                 #총 갯수를 total에 더한다.\n",
        "    correct += (predicted == labels).sum().item()                                           #예측에서 labels와 맞는 것의 갯수를 correct에 누적하여 더한다.\n",
        "\n",
        "print('Accuracy of the network on the 10000 test images: %d %%' % (100 * correct/total))"
      ],
      "execution_count": null,
      "outputs": [
        {
          "output_type": "stream",
          "text": [
            "Accuracy of the network on the 10000 test images: 53 %\n"
          ],
          "name": "stdout"
        }
      ]
    },
    {
      "cell_type": "code",
      "metadata": {
        "id": "oIAwaPhQeSIp",
        "colab": {
          "base_uri": "https://localhost:8080/",
          "height": 192
        },
        "outputId": "074793a7-4c45-47eb-f8ea-b0c7ea5c6251"
      },
      "source": [
        "class_correct = list(0. for i in range(10))                                                 #클래스 별로 맞은 갯수\n",
        "class_total = list(0. for i in range(10))                                                   #클래스 별로 있는 총 갯수\n",
        "with torch.no_grad():                                                                       #역연산을 사용하지 않는다.\n",
        "  for data in testloader:                                                                   #testloader를 반복한다.\n",
        "    images, labels = data                                                                   #data에서 이미지랑 라벨을 분리한다.\n",
        "    outputs = net(images)                                                                   #output에 image를 사용해서 연산을 한다.\n",
        "    _, predicted = torch.max(outputs, 1)                                                    #가장 큰 값을 가진 classes의 인덱스를 predicted에 저장한다.\n",
        "    c = (predicted == labels).squeeze()\n",
        "    for i in range(4):                                                                      #배치 사이즈인 4개를 본다.\n",
        "      label = labels[i]                                                                     #정답 값의 인덱스를 label에 저장한다.\n",
        "      class_correct[label] += c[i].item()                                                   #class_correct에 맞았으면 1을 더하고, 틀렸으면 0을 더한다(c[i].item()에 저장되어있다.)\n",
        "      class_total[label] += 1                                                               #해당하는 클래스의 값을 1증가시킨다.\n",
        "\n",
        "for i in range(10):                                                                         #총 클래스 크기를 돌면서\n",
        "  print('Accuracy of %5s : %2d %%' %(classes[i], 100 * class_correct[i]/class_total[i]))    #각 클래스의 종류(plane, car ...)를 문자열과 정확도(맞춘 갯수/총 갯수)를 출력해준다."
      ],
      "execution_count": null,
      "outputs": [
        {
          "output_type": "stream",
          "text": [
            "Accuracy of plane : 47 %\n",
            "Accuracy of   car : 71 %\n",
            "Accuracy of  bird : 31 %\n",
            "Accuracy of   cat : 31 %\n",
            "Accuracy of  deer : 56 %\n",
            "Accuracy of   dog : 45 %\n",
            "Accuracy of  frog : 61 %\n",
            "Accuracy of horse : 71 %\n",
            "Accuracy of  ship : 70 %\n",
            "Accuracy of truck : 48 %\n"
          ],
          "name": "stdout"
        }
      ]
    },
    {
      "cell_type": "code",
      "metadata": {
        "id": "1kVSvuC5nJqo"
      },
      "source": [
        "class Net(nn.Module):\n",
        "  def __init__(self):\n",
        "    super(Net, self).__init__()\n",
        "    self.conv1 = nn.Conv2d(3, 32, 3)                #인풋 채널 : 3, 아웃풋 채널 : 32, 커널 사이즈 : 3\n",
        "    self.conv2 = nn.Conv2d(32, 32, 3)               #인풋 채널 : 32, 아웃풋 채널 : 32, 커널 사이즈 : 3\n",
        "    self.pool = nn.MaxPool2d(2, 2)                  #MaxPool2d 가로 세로를 반으로 줄인다.\n",
        "    self.fc = nn.Linear(5*5*32, 10)                    #인풋 (벡터)사이즈 : 10, 아웃풋 (벡터)사이즈 : 10\n",
        "\n",
        "  def forward(self, x):\n",
        "    x = self.conv1(x)\n",
        "    x = self.pool(F.relu(self.conv2(x)))\n",
        "    x = self.pool(F.relu(self.conv2(self.conv2(x))))\n",
        "    x = x.view(-1, 5*5*32)\n",
        "    x = self.fc(x)\n",
        "    return x"
      ],
      "execution_count": null,
      "outputs": []
    },
    {
      "cell_type": "code",
      "metadata": {
        "id": "uSHCFyuLy8E8",
        "colab": {
          "base_uri": "https://localhost:8080/",
          "height": 490
        },
        "outputId": "4d3189df-3483-4ec1-a68b-5442d9a9ceba"
      },
      "source": [
        "transform = transforms.Compose([transforms.ToTensor(), transforms.Normalize((0.5,0.5,0.5),(0.5,0.5,0.5))])\n",
        "\n",
        "trainset = datasets.CIFAR10(root='./data', train = True, download = True, transform = transform)          #CIFAR10에 대한 훈련 데이터셋 다운로드\n",
        "trainloader = torch.utils.data.DataLoader(trainset, batch_size = 4, shuffle = True, num_workers = 2)      #다운 받은 trainset을 이용해서 loader를 만든다. 이때 배치 사이즈는 4, 랜덤 적용, num_workers는 멀티쓰레딩을 사용해서 한 번에 몇개를 멀티 쓰레딩 할지 입력해 줍니다.\n",
        "\n",
        "testset = datasets.CIFAR10(root='./data', train = False, download = True, transform = transform)          #CIFAR10에 대한 테스트 데이터셋 다운로드\n",
        "testloader = torch.utils.data.DataLoader(testset, batch_size = 4, shuffle = False, num_workers = 2)       #다운 받은 testset을 이용해서 loader를 만든다. 이때 배치 사이즈는 4, 랜덤 미적용, num_workers는 2로 한다.\n",
        "\n",
        "classes = ('plane', 'car', 'bird', 'cat', 'deer', 'dog', 'frog', 'horse', 'ship', 'truck')                #분류 classes는 다음과 같이 정한다.\n",
        "\n",
        "dataiter = iter(trainloader)            #loader를 사용해서 반복자를 dataiter에 저장한다.\n",
        "images, labels = dataiter.next()        #다음 것을 읽어와서 (batch단위로), trainloader를 사용하므로 4개씩 랜덤하게 가져온다. \n",
        "\n",
        "net = Net()\n",
        "\n",
        "criterion = nn.CrossEntropyLoss()                   #손실함수는 크로스엔트로피를 사용한다.\n",
        "optimizer = optim.SGD(net.parameters(), lr = 0.001, momentum = 0.9)   #Stochastic Gradient Descent이하 SGD를 옵티마이저로 사용\n",
        "\n",
        "for epoch in range(2):                              #2번의 에포크를 실행한다.\n",
        "  running_loss = 0.0                                #loss값 초기화\n",
        "  for i, data in enumerate(trainloader, 0):         #훈련집합 반복\n",
        "    inputs, labels = data                           #data에서 텐서랑 라벨 분리\n",
        "    optimizer.zero_grad()                           #버퍼를 0으로 초기화\n",
        "\n",
        "    outputs = net(inputs)                           #output에 인풋을 넣는다.\n",
        "    loss = criterion(outputs, labels)               #손실함수를 돌려서 loss를 계산한다.\n",
        "\n",
        "    loss.backward()                                 #역연산을 진행한다.\n",
        "    optimizer.step()                                #가중치를 갱신한다.\n",
        "\n",
        "    running_loss += loss.item()                     #tensor 안에 있는 값을 스칼라 값을 꺼내어 출력의 총합을 내준다.\n",
        "    if i % 1000 == 999:                             #1000번 마다 끝 3자리가 999이면 출력을 해주고 running_loss를 0으로 초기화 해준다.\n",
        "      print('[%d, %5d] loss: %.3f' %(epoch + 1, i+1, running_loss/1000))    #1000개의 평균으로 에포크, 횟수, loss를 출력한다.\n",
        "      running_loss = 0.0\n",
        "print('Finished Training')"
      ],
      "execution_count": null,
      "outputs": [
        {
          "output_type": "stream",
          "text": [
            "Files already downloaded and verified\n",
            "Files already downloaded and verified\n",
            "[1,  1000] loss: 2.108\n",
            "[1,  2000] loss: 1.828\n",
            "[1,  3000] loss: 1.636\n",
            "[1,  4000] loss: 1.517\n",
            "[1,  5000] loss: 1.502\n",
            "[1,  6000] loss: 1.425\n",
            "[1,  7000] loss: 1.393\n",
            "[1,  8000] loss: 1.335\n",
            "[1,  9000] loss: 1.331\n",
            "[1, 10000] loss: 1.276\n",
            "[1, 11000] loss: 1.283\n",
            "[1, 12000] loss: 1.238\n",
            "[2,  1000] loss: 1.226\n",
            "[2,  2000] loss: 1.176\n",
            "[2,  3000] loss: 1.187\n",
            "[2,  4000] loss: 1.191\n",
            "[2,  5000] loss: 1.203\n",
            "[2,  6000] loss: 1.167\n",
            "[2,  7000] loss: 1.183\n",
            "[2,  8000] loss: 1.172\n",
            "[2,  9000] loss: 1.193\n",
            "[2, 10000] loss: 1.157\n",
            "[2, 11000] loss: 1.147\n",
            "[2, 12000] loss: 1.167\n",
            "Finished Training\n"
          ],
          "name": "stdout"
        }
      ]
    },
    {
      "cell_type": "code",
      "metadata": {
        "id": "bhJNchar-kvC",
        "colab": {
          "base_uri": "https://localhost:8080/",
          "height": 490
        },
        "outputId": "93dec468-4758-4e3c-8433-94413ae77570"
      },
      "source": [
        "class Net(nn.Module):\n",
        "  def __init__(self):\n",
        "    super(Net, self).__init__()\n",
        "    self.conv1 = nn.Conv2d(3, 6, 5)                 #인풋 채널 : 3, 아웃풋 채널 : 6, 커널 사이즈 : 5\n",
        "    self.pool = nn.MaxPool2d(2, 2)                  #MaxPool2d 가로 세로를 반으로 줄인다.\n",
        "    self.conv2 = nn.Conv2d(6, 16, 5)                #인풋 채널 : 6, 아웃풋 채널 : 16, 커널 사이즈 : 5\n",
        "    self.fc1 = nn.Linear(16 * 5 * 5, 120)           #인풋 (벡터)사이즈 : 16 * 5 * 5, 아웃풋 (벡터)사이즈 : 120\n",
        "    self.fc2 = nn.Linear(120, 84)                   #인풋 (벡터)사이즈 : 120, 아웃풋 (벡터)사이즈 : 84\n",
        "    self.fc3 = nn.Linear(84, 10)                    #인풋 (벡터)사이즈 : 84, 아웃풋 (벡터)사이즈 : 10\n",
        "\n",
        "  def forward(self, x):\n",
        "    x = self.pool(F.relu(self.conv1(x)))  #conv1을 해주고 relu통과 후 maxpool2d를 한다.\n",
        "                                                    #결과 크기 : (32-5)/1 + 1 = 28 => 이것이 conv1과 relu통과 이후 크기이고,\n",
        "                                                    #여기에 /2를 해준 14가 self.pool을 통과 후 크기이다.\n",
        "                                                    #따라서 14 * 14 *6이다.\n",
        "    x = self.pool(F.relu(self.conv2(x)))  #conv2를 해주고 relu통과 후 maxpool2d를 한다.\n",
        "                                                    #결과 크기 : (14-5)/1 + 1 = 10\n",
        "                                                    #여기에 /2를 해준 5가 self.pool을 통과 후 크기이다.\n",
        "                                                    #따라서 5 * 5 * 16이다.\n",
        "    x = x.view(-1, 16 * 5 * 5)                      #텐서를 벡터로 변환해준다.\n",
        "    x = F.relu(self.fc1(x))                         #Fully Connect에 16 * 5 * 5의 벡터를 입력으로 주고 120의 크기인 벡터가 아웃풋으로 나온다. 그리고 렐루를 통과시킨다.\n",
        "    x = F.relu(self.fc2(x))                         #Fully Connect에 120의 벡터를 입력으로 84의 크기인 벡터가 아웃풋으로 나온다. 그리고 렐루를 통과시킨다.\n",
        "    x = self.fc3(x)                                 #Fully Connect에 84의 벡터를 입력으로 10의 크기인 벡터가 아웃풋으로 나온다.\n",
        "    return x                                        #10의 크기인 벡터가 리턴된다.\n",
        "\n",
        "\n",
        "transform = transforms.Compose([transforms.ColorJitter(hue=.05, saturation=.05),\n",
        "      transforms.RandomHorizontalFlip(),\n",
        "      transforms.RandomRotation(20),\n",
        "      transforms.ToTensor(),\n",
        "      transforms.Normalize((0.5,0.5,0.5),(0.5,0.5,0.5))])\n",
        "\n",
        "trainset = datasets.CIFAR10(root='./data', train = True, download = True, transform = transform)          #CIFAR10에 대한 훈련 데이터셋 다운로드\n",
        "trainloader = torch.utils.data.DataLoader(trainset, batch_size = 4, shuffle = True, num_workers = 2)      #다운 받은 trainset을 이용해서 loader를 만든다. 이때 배치 사이즈는 4, 랜덤 적용, num_workers는 멀티쓰레딩을 사용해서 한 번에 몇개를 멀티 쓰레딩 할지 입력해 줍니다.\n",
        "\n",
        "testset = datasets.CIFAR10(root='./data', train = False, download = True, transform = transform)          #CIFAR10에 대한 테스트 데이터셋 다운로드\n",
        "testloader = torch.utils.data.DataLoader(testset, batch_size = 4, shuffle = False, num_workers = 2)       #다운 받은 testset을 이용해서 loader를 만든다. 이때 배치 사이즈는 4, 랜덤 미적용, num_workers는 2로 한다.\n",
        "\n",
        "classes = ('plane', 'car', 'bird', 'cat', 'deer', 'dog', 'frog', 'horse', 'ship', 'truck')                #분류 classes는 다음과 같이 정한다.\n",
        "\n",
        "dataiter = iter(trainloader)            #loader를 사용해서 반복자를 dataiter에 저장한다.\n",
        "images, labels = dataiter.next()        #다음 것을 읽어와서 (batch단위로), trainloader를 사용하므로 4개씩 랜덤하게 가져온다. \n",
        "\n",
        "net = Net()\n",
        "\n",
        "criterion = nn.CrossEntropyLoss()                   #손실함수는 크로스엔트로피를 사용한다.\n",
        "optimizer = optim.SGD(net.parameters(), lr = 0.001, momentum = 0.9)   #Stochastic Gradient Descent이하 SGD를 옵티마이저로 사용\n",
        "\n",
        "for epoch in range(2):                              #2번의 에포크를 실행한다.\n",
        "  running_loss = 0.0                                #loss값 초기화\n",
        "  for i, data in enumerate(trainloader, 0):         #훈련집합 반복\n",
        "    inputs, labels = data                           #data에서 텐서랑 라벨 분리\n",
        "    optimizer.zero_grad()                           #버퍼를 0으로 초기화\n",
        "\n",
        "    outputs = net(inputs)                           #output에 인풋을 넣는다.\n",
        "    loss = criterion(outputs, labels)               #손실함수를 돌려서 loss를 계산한다.\n",
        "\n",
        "    loss.backward()                                 #역연산을 진행한다.\n",
        "    optimizer.step()                                #가중치를 갱신한다.\n",
        "\n",
        "    running_loss += loss.item()                     #tensor 안에 있는 값을 스칼라 값을 꺼내어 출력의 총합을 내준다.\n",
        "    if i % 1000 == 999:                             #1000번 마다 끝 3자리가 999이면 출력을 해주고 running_loss를 0으로 초기화 해준다.\n",
        "      print('[%d, %5d] loss: %.3f' %(epoch + 1, i+1, running_loss/1000))    #1000개의 평균으로 에포크, 횟수, loss를 출력한다.\n",
        "      running_loss = 0.0\n",
        "print('Finished Training')"
      ],
      "execution_count": null,
      "outputs": [
        {
          "output_type": "stream",
          "text": [
            "Files already downloaded and verified\n",
            "Files already downloaded and verified\n",
            "[1,  1000] loss: 2.300\n",
            "[1,  2000] loss: 2.177\n",
            "[1,  3000] loss: 1.975\n",
            "[1,  4000] loss: 1.881\n",
            "[1,  5000] loss: 1.781\n",
            "[1,  6000] loss: 1.718\n",
            "[1,  7000] loss: 1.711\n",
            "[1,  8000] loss: 1.646\n",
            "[1,  9000] loss: 1.609\n",
            "[1, 10000] loss: 1.592\n",
            "[1, 11000] loss: 1.533\n",
            "[1, 12000] loss: 1.542\n",
            "[2,  1000] loss: 1.497\n",
            "[2,  2000] loss: 1.496\n",
            "[2,  3000] loss: 1.477\n",
            "[2,  4000] loss: 1.467\n",
            "[2,  5000] loss: 1.467\n",
            "[2,  6000] loss: 1.438\n",
            "[2,  7000] loss: 1.387\n",
            "[2,  8000] loss: 1.391\n",
            "[2,  9000] loss: 1.365\n",
            "[2, 10000] loss: 1.409\n",
            "[2, 11000] loss: 1.415\n",
            "[2, 12000] loss: 1.359\n",
            "Finished Training\n"
          ],
          "name": "stdout"
        }
      ]
    },
    {
      "cell_type": "code",
      "metadata": {
        "id": "I1fvtq2Q2-ie",
        "colab": {
          "base_uri": "https://localhost:8080/",
          "height": 35
        },
        "outputId": "45f53c64-4ce4-410c-8d07-b841641172c7"
      },
      "source": [
        "correct = 0                                                                                 \n",
        "total = 0\n",
        "with torch.no_grad():                                                                       #역연산을 사용하지 않는다.\n",
        "  for data in testloader:                                                                    #testset을 이용해서 만든 testloader를 반복한다.\n",
        "    images, labels = data                                                                   #데이터에서 이미지 라벨 분리\n",
        "    outputs = net(images)                                                                   #output에 image를 사용해서 연산을 한다.\n",
        "    _, predicted = torch.max(outputs.data, 1)                                               #가장 큰 값을 가진 classes의 인덱스를 predicted에 저장한다.\n",
        "    total += labels.size(0)                                                                 #총 갯수를 total에 더한다.\n",
        "    correct += (predicted == labels).sum().item()                                           #예측에서 labels와 맞는 것의 갯수를 correct에 누적하여 더한다.\n",
        "\n",
        "print('Accuracy of the network on the 10000 test images: %d %%' % (100 * correct/total))"
      ],
      "execution_count": null,
      "outputs": [
        {
          "output_type": "stream",
          "text": [
            "Accuracy of the network on the 10000 test images: 51 %\n"
          ],
          "name": "stdout"
        }
      ]
    },
    {
      "cell_type": "code",
      "metadata": {
        "id": "BHru5SejzKSu",
        "colab": {
          "base_uri": "https://localhost:8080/",
          "height": 192
        },
        "outputId": "ff7d2697-c803-410c-9e13-eabf8b41e1f0"
      },
      "source": [
        "class_correct = list(0. for i in range(10))                                                 #클래스 별로 맞은 갯수\n",
        "class_total = list(0. for i in range(10))                                                   #클래스 별로 있는 총 갯수\n",
        "with torch.no_grad():                                                                       #역연산을 사용하지 않는다.\n",
        "  for data in testloader:                                                                   #testloader를 반복한다.\n",
        "    images, labels = data                                                                   #data에서 이미지랑 라벨을 분리한다.\n",
        "    outputs = net(images)                                                                   #output에 image를 사용해서 연산을 한다.\n",
        "    _, predicted = torch.max(outputs, 1)                                                    #가장 큰 값을 가진 classes의 인덱스를 predicted에 저장한다.\n",
        "    c = (predicted == labels).squeeze()\n",
        "    for i in range(4):                                                                      #배치 사이즈인 4개를 본다.\n",
        "      label = labels[i]                                                                     #정답 값의 인덱스를 label에 저장한다.\n",
        "      class_correct[label] += c[i].item()                                                   #class_correct에 맞았으면 1을 더하고, 틀렸으면 0을 더한다(c[i].item()에 저장되어있다.)\n",
        "      class_total[label] += 1                                                               #해당하는 클래스의 값을 1증가시킨다.\n",
        "\n",
        "for i in range(10):                                                                         #총 클래스 크기를 돌면서\n",
        "  print('Accuracy of %5s : %2d %%' %(classes[i], 100 * class_correct[i]/class_total[i]))    #각 클래스의 종류(plane, car ...)를 문자열과 정확도(맞춘 갯수/총 갯수)를 출력해준다."
      ],
      "execution_count": null,
      "outputs": [
        {
          "output_type": "stream",
          "text": [
            "Accuracy of plane : 39 %\n",
            "Accuracy of   car : 70 %\n",
            "Accuracy of  bird : 41 %\n",
            "Accuracy of   cat : 21 %\n",
            "Accuracy of  deer : 42 %\n",
            "Accuracy of   dog : 41 %\n",
            "Accuracy of  frog : 71 %\n",
            "Accuracy of horse : 51 %\n",
            "Accuracy of  ship : 78 %\n",
            "Accuracy of truck : 52 %\n"
          ],
          "name": "stdout"
        }
      ]
    },
    {
      "cell_type": "code",
      "metadata": {
        "id": "L9utjXblnt-j",
        "colab": {
          "base_uri": "https://localhost:8080/",
          "height": 52
        },
        "outputId": "b65b9335-c556-471a-9dc9-938dd014f0b2"
      },
      "source": [
        "def softmax(x):\n",
        "    e_x = np.exp(x - np.max(x))\n",
        "    return e_x / e_x.sum()\n",
        " \n",
        "x = np.array([0.4,2.0,0.001,0.32])\n",
        " \n",
        "y = softmax(x)\n",
        "print(y)\n",
        " \n",
        "print(np.sum(y))"
      ],
      "execution_count": null,
      "outputs": [
        {
          "output_type": "stream",
          "text": [
            "[0.13250053 0.65627943 0.08890663 0.12231341]\n",
            "1.0\n"
          ],
          "name": "stdout"
        }
      ]
    },
    {
      "cell_type": "code",
      "metadata": {
        "id": "AV482K_rKlcZ",
        "colab": {
          "base_uri": "https://localhost:8080/",
          "height": 70
        },
        "outputId": "ff4a935e-66a8-4533-b6d8-2a60750d9571"
      },
      "source": [
        "y = [0.001, 0.9, 0.001, 0.098]\n",
        "t = [0, 0, 0, 1]\n",
        "\n",
        "def mean_squared_error(y,t):\n",
        "  return  np.sum((y-t)**2) / len(y)\n",
        "\n",
        "def cross_entropy_error(y,t):\n",
        "  delta = 1e-7\n",
        "  return -np.sum(np.log(y+delta))\n",
        "\n",
        "def loghood(y, idx):\n",
        "  return np.log2(y[idx]) * -1\n",
        "\n",
        "print(mean_squared_error(np.array(y), np.array(t)))\n",
        "\n",
        "print(cross_entropy_error(np.array(y),np.array(t)))\n",
        "\n",
        "print(loghood(y, 3))      #이렇게 한 이유는 one hot encoding으로\n",
        "                          #3번만 1이기 때문이다."
      ],
      "execution_count": null,
      "outputs": [
        {
          "output_type": "stream",
          "text": [
            "0.4059015\n",
            "16.24345775241425\n",
            "3.3510744405468786\n"
          ],
          "name": "stdout"
        }
      ]
    },
    {
      "cell_type": "code",
      "metadata": {
        "id": "MqpUrJ9eiAzJ"
      },
      "source": [
        ""
      ],
      "execution_count": null,
      "outputs": []
    }
  ]
}