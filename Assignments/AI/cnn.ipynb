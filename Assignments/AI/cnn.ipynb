{
  "nbformat": 4,
  "nbformat_minor": 0,
  "metadata": {
    "colab": {
      "name": "인공지능2",
      "provenance": [],
      "collapsed_sections": []
    },
    "kernelspec": {
      "name": "python3",
      "display_name": "Python 3"
    },
    "accelerator": "GPU"
  },
  "cells": [
    {
      "cell_type": "markdown",
      "metadata": {
        "id": "daXA1PfxfYHv"
      },
      "source": [
        "# 1. 영상 인식"
      ]
    },
    {
      "cell_type": "code",
      "metadata": {
        "id": "3c_K7fTAjkng"
      },
      "source": [
        "import torch \n",
        "import torch.nn as nn \n",
        "import torch.nn.functional as F \n",
        "import torch.optim as optim \n",
        "from torchvision import datasets,transforms,utils\n",
        "from torch.autograd import Variable \n",
        "import matplotlib.pyplot as plt "
      ],
      "execution_count": null,
      "outputs": []
    },
    {
      "cell_type": "code",
      "metadata": {
        "id": "UUlJEqLiTUvq",
        "colab": {
          "base_uri": "https://localhost:8080/",
          "height": 238
        },
        "outputId": "d8112036-0e5f-41d4-8d69-695fe3b68124"
      },
      "source": [
        "%matplotlib inline \n",
        "\n",
        "# gpu 사용 체크\n",
        "is_cuda=False \n",
        "if torch.cuda.is_available(): \n",
        "  is_cuda = True \n",
        "\n",
        "# 텐서로 변환, normalize\n",
        "transformation = transforms.Compose([transforms.ToTensor(),transforms.Normalize((0.1307,), (0.3081,))]) \n",
        "\n",
        "# MNIST dataset\n",
        "train_dataset = datasets.MNIST('data/',train=True,transform=transformation,download=True) \n",
        "test_dataset = datasets.MNIST('data/',train=False,transform=transformation,download=True) \n",
        "\n",
        "# loader는 iterator 반환\n",
        "train_loader = torch.utils.data.DataLoader(train_dataset, batch_size=32,shuffle=True) #shuffle : 랜덤으로 섞기\n",
        "test_loader = torch.utils.data.DataLoader(test_dataset, batch_size=32,shuffle=True) \n",
        "\n",
        "sample_images, sample_data = next(iter(train_loader))\n",
        "imshow(utils.make_grid(sample_images))\n",
        "\n",
        "# 이미지 출력\n",
        "def plot_img(image): \n",
        "  image = image.numpy()[0] \n",
        "  mean = 0.1307\n",
        "  std = 0.3081\n",
        "  image = ((mean * image) + std) \n",
        "  plt.imshow(image,cmap='gray') "
      ],
      "execution_count": null,
      "outputs": [
        {
          "output_type": "stream",
          "text": [
            "Clipping input data to the valid range for imshow with RGB data ([0..1] for floats or [0..255] for integers).\n"
          ],
          "name": "stderr"
        },
        {
          "output_type": "display_data",
          "data": {
            "image/png": "[encoded data removed]",
            "text/plain": [
              "<Figure size 432x288 with 1 Axes>"
            ]
          },
          "metadata": {
            "tags": []
          }
        }
      ]
    },
    {
      "cell_type": "markdown",
      "metadata": {
        "id": "rs0tI1bdf5eN"
      },
      "source": [
        "(1) 화면 출력 확인"
      ]
    },
    {
      "cell_type": "code",
      "metadata": {
        "id": "bJqeCh7-vv_O",
        "colab": {
          "base_uri": "https://localhost:8080/",
          "height": 265
        },
        "outputId": "de4e26d0-65d9-4920-a44d-7a08db4f24d3"
      },
      "source": [
        "plot_img(sample_data[0][2]) "
      ],
      "execution_count": null,
      "outputs": [
        {
          "output_type": "display_data",
          "data": {
            "image/png": "[encoded data removed]",
            "text/plain": [
              "<Figure size 432x288 with 1 Axes>"
            ]
          },
          "metadata": {
            "tags": []
          }
        }
      ]
    },
    {
      "cell_type": "markdown",
      "metadata": {
        "id": "bNig4wT6gBqY"
      },
      "source": [
        "(2) 화면 출력 확인"
      ]
    },
    {
      "cell_type": "code",
      "metadata": {
        "id": "81yGpMx-vygd",
        "colab": {
          "base_uri": "https://localhost:8080/",
          "height": 265
        },
        "outputId": "0c5106f6-9019-496e-8894-ceca5e43911b"
      },
      "source": [
        "plot_img(sample_data[0][1]) "
      ],
      "execution_count": null,
      "outputs": [
        {
          "output_type": "display_data",
          "data": {
            "image/png": "[encoded data removed]",
            "text/plain": [
              "<Figure size 432x288 with 1 Axes>"
            ]
          },
          "metadata": {
            "tags": []
          }
        }
      ]
    },
    {
      "cell_type": "code",
      "metadata": {
        "id": "zppS28JNv1Ca"
      },
      "source": [
        "class Net(nn.Module): \n",
        "  # 모듈 정의\n",
        "  def __init__(self):\n",
        "    super().__init__()\n",
        "    self.conv1 = nn.Conv2d(1, 10, kernel_size=5)  # input: 1, output: 10\n",
        "    self.conv2 = nn.Conv2d(10, 20, kernel_size=5) \n",
        "    # fully connect에서 연결을 랜덤으로 drop\n",
        "    self.conv2_drop = nn.Dropout2d()\n",
        "    # input, output. 선형 함수를 사용하여 입력으로 부터 출력 계산\n",
        "    self.fc1 = nn.Linear(320, 50)\n",
        "    self.fc2 = nn.Linear(50, 10) \n",
        "\n",
        "  def forward(self, x): \n",
        "    # max pooling over a (2,2) window\n",
        "    x = F.relu(F.max_pool2d(self.conv1(x), 2)) \n",
        "    # if the size is a square you can only specify a single number\n",
        "    x = F.relu(F.max_pool2d(self.conv2_drop(self.conv2(x)), 2)) \n",
        "    # -1은 다른 차원으로부터 추론된다\n",
        "    x = x.view(-1, 320) \n",
        "    x = F.relu(self.fc1(x)) \n",
        "    #x = F.dropout(x,p=0.1, training=self.training) \n",
        "    x = self.fc2(x) \n",
        "\n",
        "    # softmax로 확률 값으로 반환\n",
        "    return F.log_softmax(x,dim=1) \n",
        "\n",
        "model = Net() \n",
        "if is_cuda: \n",
        "  model.cuda()\n",
        "\n",
        "# Stochastic Gradient Descent\n",
        "optimizer = optim.SGD(model.parameters(), 0.01) \n",
        "\n",
        "# 훈련집합에서 data랑 target 가져오기\n",
        "data , target = next(iter(train_loader)) \n",
        "\n",
        "# gpu에 data 올리기\n",
        "output = model(Variable(data.cuda())) "
      ],
      "execution_count": null,
      "outputs": []
    },
    {
      "cell_type": "markdown",
      "metadata": {
        "id": "anAf5hk3gLTh"
      },
      "source": [
        "(3) output.size() 출력 확인"
      ]
    },
    {
      "cell_type": "code",
      "metadata": {
        "id": "7Iwtjkq_gULE",
        "colab": {
          "base_uri": "https://localhost:8080/",
          "height": 34
        },
        "outputId": "90a8d208-430f-4699-85d3-cc79826de701"
      },
      "source": [
        "print(\"output.size():\", output.size())"
      ],
      "execution_count": null,
      "outputs": [
        {
          "output_type": "stream",
          "text": [
            "output.size(): torch.Size([32, 10])\n"
          ],
          "name": "stdout"
        }
      ]
    },
    {
      "cell_type": "markdown",
      "metadata": {
        "id": "_LAz4XJyglpM"
      },
      "source": [
        "(4) target.size() 출력 확인"
      ]
    },
    {
      "cell_type": "code",
      "metadata": {
        "id": "qEi4l3olv3oG",
        "colab": {
          "base_uri": "https://localhost:8080/",
          "height": 34
        },
        "outputId": "6357d4d7-3299-4e11-f84c-9c9b15e791a2"
      },
      "source": [
        "print(\"target.size():\", target.size())"
      ],
      "execution_count": null,
      "outputs": [
        {
          "output_type": "stream",
          "text": [
            "target.size(): torch.Size([32])\n"
          ],
          "name": "stdout"
        }
      ]
    },
    {
      "cell_type": "markdown",
      "metadata": {
        "id": "oUfaxEe1m7Vv"
      },
      "source": [
        "(5) 화면 출력 확인"
      ]
    },
    {
      "cell_type": "code",
      "metadata": {
        "id": "OqeM0VWqv6hG",
        "colab": {
          "base_uri": "https://localhost:8080/",
          "height": 741
        },
        "outputId": "4c20ca3e-5a6f-4754-a232-14b2f6f7c69d"
      },
      "source": [
        "def fit(epoch, model, data_loader, phase='training', volatile=False): \n",
        "  if phase == 'training': \n",
        "    model.train() \n",
        "  if phase == 'validation': \n",
        "    model.eval() \n",
        "    volatile=True \n",
        "  # 초기값\n",
        "  running_loss = 0.0 \n",
        "  running_correct = 0 \n",
        "\n",
        "  for batch_idx , (data,target) in enumerate(data_loader): \n",
        "    if is_cuda: \n",
        "      data,target = data.cuda(),target.cuda()\n",
        "    #volatile = false면 역전파 사용을 위해 메모리에 올림 \n",
        "    data , target = Variable(data,volatile), Variable(target) \n",
        "\n",
        "    if phase == 'training': \n",
        "      # 변화도 0으로\n",
        "      optimizer.zero_grad() \n",
        "\n",
        "    # 학습  \n",
        "    output = model(data) \n",
        "    # negative log likelihood\n",
        "    loss = F.nll_loss(output,target) \n",
        "\n",
        "    running_loss += F.nll_loss(output,target,size_average=False).data\n",
        "    preds = output.data.max(dim=1, keepdim=True)[1] #예측값\n",
        "    running_correct += preds.eq(target.data.view_as(preds)).cpu().sum() \n",
        "\n",
        "    if phase == 'training': \n",
        "      # 역전파\n",
        "      loss.backward() \n",
        "      # 가중치 갱신\n",
        "      optimizer.step() \n",
        "\n",
        "  # loss 평균\n",
        "  loss = running_loss/len(data_loader.dataset) \n",
        "  accuracy = 100. * running_correct/len(data_loader.dataset) \n",
        "\n",
        "  print(f\"{phase} loss is {loss:{5}.{2}} and {phase} accuracy is {running_correct}/{len(data_loader.dataset)}{accuracy:{10}.{4}}\") \n",
        "  return loss, accuracy \n",
        "\n",
        "train_losses, train_accuracy = [], [] \n",
        "val_losses, val_accuracy = [], [] \n",
        "\n",
        "# 20번 학습\n",
        "for epoch in range(1,20): \n",
        "  epoch_loss, epoch_accuracy = fit(epoch,model,train_loader,phase='training') \n",
        "  val_epoch_loss, val_epoch_accuracy = fit(epoch,model,test_loader,phase='validation') \n",
        "  train_losses.append(epoch_loss) \n",
        "  train_accuracy.append(epoch_accuracy) \n",
        "  val_losses.append(val_epoch_loss) \n",
        "  val_accuracy.append(val_epoch_accuracy) "
      ],
      "execution_count": null,
      "outputs": [
        {
          "output_type": "stream",
          "text": [
            "/usr/local/lib/python3.6/dist-packages/torch/nn/_reduction.py:43: UserWarning: size_average and reduce args will be deprecated, please use reduction='sum' instead.\n",
            "  warnings.warn(warning.format(ret))\n"
          ],
          "name": "stderr"
        },
        {
          "output_type": "stream",
          "text": [
            "training loss is  0.61 and training accuracy is 48682/60000     81.14\n",
            "validation loss is  0.15 and validation accuracy is 9568/10000     95.68\n",
            "training loss is   0.2 and training accuracy is 56579/60000      94.3\n",
            "validation loss is 0.087 and validation accuracy is 9735/10000     97.35\n",
            "training loss is  0.15 and training accuracy is 57316/60000     95.53\n",
            "validation loss is  0.07 and validation accuracy is 9777/10000     97.77\n",
            "training loss is  0.13 and training accuracy is 57668/60000     96.11\n",
            "validation loss is 0.062 and validation accuracy is 9802/10000     98.02\n",
            "training loss is  0.12 and training accuracy is 57961/60000      96.6\n",
            "validation loss is 0.053 and validation accuracy is 9830/10000      98.3\n",
            "training loss is   0.1 and training accuracy is 58120/60000     96.87\n",
            "validation loss is 0.048 and validation accuracy is 9841/10000     98.41\n",
            "training loss is 0.097 and training accuracy is 58262/60000      97.1\n",
            "validation loss is 0.049 and validation accuracy is 9837/10000     98.37\n",
            "training loss is 0.092 and training accuracy is 58383/60000     97.31\n",
            "validation loss is 0.044 and validation accuracy is 9865/10000     98.65\n",
            "training loss is 0.084 and training accuracy is 58489/60000     97.48\n",
            "validation loss is  0.04 and validation accuracy is 9861/10000     98.61\n",
            "training loss is 0.081 and training accuracy is 58519/60000     97.53\n",
            "validation loss is 0.039 and validation accuracy is 9873/10000     98.73\n",
            "training loss is  0.08 and training accuracy is 58567/60000     97.61\n",
            "validation loss is 0.039 and validation accuracy is 9864/10000     98.64\n",
            "training loss is 0.074 and training accuracy is 58668/60000     97.78\n",
            "validation loss is 0.034 and validation accuracy is 9881/10000     98.81\n",
            "training loss is  0.07 and training accuracy is 58730/60000     97.88\n",
            "validation loss is 0.036 and validation accuracy is 9885/10000     98.85\n",
            "training loss is 0.068 and training accuracy is 58782/60000     97.97\n",
            "validation loss is 0.037 and validation accuracy is 9868/10000     98.68\n",
            "training loss is 0.065 and training accuracy is 58802/60000      98.0\n",
            "validation loss is 0.034 and validation accuracy is 9883/10000     98.83\n",
            "training loss is 0.064 and training accuracy is 58863/60000     98.11\n",
            "validation loss is 0.034 and validation accuracy is 9887/10000     98.87\n",
            "training loss is 0.062 and training accuracy is 58871/60000     98.12\n",
            "validation loss is 0.033 and validation accuracy is 9897/10000     98.97\n",
            "training loss is  0.06 and training accuracy is 58912/60000     98.19\n",
            "validation loss is 0.029 and validation accuracy is 9907/10000     99.07\n",
            "training loss is  0.06 and training accuracy is 58911/60000     98.18\n",
            "validation loss is  0.03 and validation accuracy is 9898/10000     98.98\n"
          ],
          "name": "stdout"
        }
      ]
    },
    {
      "cell_type": "markdown",
      "metadata": {
        "id": "bF2OV2tnxQ5z"
      },
      "source": [
        "(6) 화면 출력 확인"
      ]
    },
    {
      "cell_type": "code",
      "metadata": {
        "id": "crVqH2bFv9Ah",
        "colab": {
          "base_uri": "https://localhost:8080/",
          "height": 282
        },
        "outputId": "6f50b966-a121-41bb-d996-7a6aae5235a7"
      },
      "source": [
        "plt.plot(range(1,len(train_losses)+1),train_losses,'bo',label = 'training loss') \n",
        "plt.plot(range(1,len(val_losses)+1),val_losses,'r', label = 'validation loss') \n",
        "plt.legend() "
      ],
      "execution_count": null,
      "outputs": [
        {
          "output_type": "execute_result",
          "data": {
            "text/plain": [
              "<matplotlib.legend.Legend at 0x7f55f8132c88>"
            ]
          },
          "metadata": {
            "tags": []
          },
          "execution_count": 11
        },
        {
          "output_type": "display_data",
          "data": {
            "image/png": "[encoded data removed]",
            "text/plain": [
              "<Figure size 432x288 with 1 Axes>"
            ]
          },
          "metadata": {
            "tags": []
          }
        }
      ]
    },
    {
      "cell_type": "markdown",
      "metadata": {
        "id": "A1IgN8WCxaLo"
      },
      "source": [
        "(7) 화면 출력 확인"
      ]
    },
    {
      "cell_type": "code",
      "metadata": {
        "id": "G3rrJJQUv_w3",
        "colab": {
          "base_uri": "https://localhost:8080/",
          "height": 282
        },
        "outputId": "d64ccaa9-32bb-4950-fbf9-9fd182cf8b44"
      },
      "source": [
        "plt.plot(range(1, len(train_accuracy)+1), train_accuracy,'bo', label = 'train accuracy') \n",
        "plt.plot(range(1, len(val_accuracy)+1),val_accuracy,'r', label = 'val accuracy') \n",
        "plt.legend() "
      ],
      "execution_count": null,
      "outputs": [
        {
          "output_type": "execute_result",
          "data": {
            "text/plain": [
              "<matplotlib.legend.Legend at 0x7f55f89b9320>"
            ]
          },
          "metadata": {
            "tags": []
          },
          "execution_count": 12
        },
        {
          "output_type": "display_data",
          "data": {
            "image/png": "[encoded data removed]",
            "text/plain": [
              "<Figure size 432x288 with 1 Axes>"
            ]
          },
          "metadata": {
            "tags": []
          }
        }
      ]
    },
    {
      "cell_type": "markdown",
      "metadata": {
        "id": "7k5WzgocxfL4"
      },
      "source": [
        "# 2. CNN"
      ]
    },
    {
      "cell_type": "code",
      "metadata": {
        "id": "qFwA_s4QTYUv"
      },
      "source": [
        "# torch.nn 패키지를 사용하여 신경망을 생성함. \n",
        "# nn 패키지는 모델을 정의할 때, autograd를 통해 자동미분 기능을 제공함 \n",
        "# nn.Module은 층과 전방전파forward propagation (입력 출력)을 쉽게 구현함 \n",
        "# 참고로 m패키지는 minibatch만 지원함, 예로 nCon2d는 4차 Tensor를 받음 (Samples nChanes *height *width) \n",
        "# 아래 AlexNet (이미 수업에서 학습함) 예시는 숫자를 분류하는 간단한 컨볼루션 신경망의 예임 \n",
        "\n",
        "# 예시는 사진 입력을 받고, 몇 개의 층에 전방 전파하면서 분류를 출력함 \n",
        "# 출력을 위해서 모델은 다음과 같은 학습을 수행함 \n",
        "# - 신경망은 학습가능한 매개변수들 (가중치들)을 가짐 \n",
        "# - 사진 데이터를 반복적으로 입력함 \n",
        "# - 신경망을 통해 입력을 처리함 (전방 전파) \n",
        "# - 손실 (오차)를 계산함 (실제 출력과 예측 출력을 비교하여 학습의 올바름을 판단함) \n",
        "# - 오차로부터 그레이디언트 (경사, 방향)을 신경망의 각 매개 변수에게 역전파함 (오류 역전파) \n",
        "# - 신경망의 매개 변수들을 갱신함 ( (미래)가중치 = (현재)가중치 - 학습률 * 그레이디언트)  \n",
        "\n",
        "# 위의 컨볼루션 신경망의 부분들을 torch를 통해서 손쉽게 구현할 수 있음 \n",
        "# 단지 forwad함수만정의하면 atogad를 이용해해당 연산그래프의 그레이디언트를 구하는 badwad 자동적으로 정의됨 \n",
        "# forward 함수는 Tensor를 이용할 수 있는 다양한 연산들 (합, 곱 등등) 사용하여 정의 가능함 \n",
        "# torch.Tensor: 자동 미분 기능을 지원하는 다차원 배열, 각 Tensor에 해당하는 그레이디언트를 가짐 \n",
        "# nn.Module: 신경망 모듈이며 매개변수의 캡슐화, GPU 연산 등 작업을 쉽게 가능하게 함 \n",
        "# nn.Parameter: 모듈이 지정되면 매개변수들을 자동으로 관리하는 Tensor의 하나임 \n",
        "\n",
        "import torch \n",
        "import torch.nn as nn \n",
        "import torch.nn.functional as F \n",
        "\n",
        "class Net(nn.Module): \n",
        "  def __init__(self): \n",
        "    super(Net, self).__init__()\n",
        "    # 1 input image channel, 6 output channels, 5x5 kernel\n",
        "    self.conv1 = nn.Conv2d(1, 6, 5) \n",
        "    self.conv2 = nn.Conv2d(6, 16, 5) \n",
        "    # input(vector), output(vector)\n",
        "    self.fc1 = nn.Linear(16 * 5 * 5, 120) \n",
        "    self.fc2 = nn.Linear(120, 84) \n",
        "    self.fc3 = nn.Linear(84, 10) \n",
        "  \n",
        "  def forward(self, x): \n",
        "    # Max pooling over a (2, 2) window \n",
        "    x = F.max_pool2d(F.relu(self.conv1(x)), (2, 2)) \n",
        "    # If the size is a square you can only specify a single number \n",
        "    x = F.max_pool2d(F.relu(self.conv2(x)), 2) \n",
        "\n",
        "    # x.view(-1, size) : tensor -> vector\n",
        "    x = x.view(-1, self.num_flat_features(x)) \n",
        "    # fully connect (input, output)\n",
        "    x = F.relu(self.fc1(x)) \n",
        "    x = F.relu(self.fc2(x)) \n",
        "    x = self.fc3(x) \n",
        "    return x \n",
        "\n",
        "  # num_flat_features : x(tensor) 크기 반환\n",
        "  def num_flat_features(self, x): \n",
        "    size = x.size()[1:] # all dimensions except the batch dimension \n",
        "    num_features = 1 \n",
        "    for s in size: \n",
        "      num_features *= s \n",
        "    return num_features \n",
        "\n",
        "net = Net() "
      ],
      "execution_count": null,
      "outputs": []
    },
    {
      "cell_type": "markdown",
      "metadata": {
        "id": "8tmMBMIMx_uJ"
      },
      "source": [
        "(1) 화면 출력 확인 및 의미를 서술"
      ]
    },
    {
      "cell_type": "code",
      "metadata": {
        "id": "NUE66jXyyClj",
        "colab": {
          "base_uri": "https://localhost:8080/",
          "height": 140
        },
        "outputId": "ef25db3e-e765-4f3e-b13f-da9d4ea34d06"
      },
      "source": [
        "print(net)"
      ],
      "execution_count": null,
      "outputs": [
        {
          "output_type": "stream",
          "text": [
            "Net(\n",
            "  (conv1): Conv2d(1, 6, kernel_size=(5, 5), stride=(1, 1))\n",
            "  (conv2): Conv2d(6, 16, kernel_size=(5, 5), stride=(1, 1))\n",
            "  (fc1): Linear(in_features=400, out_features=120, bias=True)\n",
            "  (fc2): Linear(in_features=120, out_features=84, bias=True)\n",
            "  (fc3): Linear(in_features=84, out_features=10, bias=True)\n",
            ")\n"
          ],
          "name": "stdout"
        }
      ]
    },
    {
      "cell_type": "markdown",
      "metadata": {
        "id": "tv-Ubmr_zKbb"
      },
      "source": [
        "conv : 컨볼루션 층 \n",
        "(input 채널, output 채널, 커널 사이즈, 보폭)\n",
        "\n",
        "fc : fully connect 연산\n",
        "(인풋(vector) 크기, output(vecotr) 크기)\n",
        "             \n",
        "            \n",
        "-2개의 컨볼루션 층과 3개의 fc로 이루어진 신경망\n",
        "    "
      ]
    },
    {
      "cell_type": "markdown",
      "metadata": {
        "id": "xL2mV4YuyUqg"
      },
      "source": [
        "(2) 정의된 컨볼루션 신경망의 구조 설명 (위의 AlexNet 그림 참고)"
      ]
    },
    {
      "cell_type": "markdown",
      "metadata": {
        "id": "FTjxSu8_z1iD"
      },
      "source": [
        "컨볼루션 층 2개와 완전 연결층 3개\n",
        "\n",
        "conv1 -> relu -> max_pool2d(2,2) : 반으로 축소(sampling) \n",
        "-> conv2 -> relu -> max_pool2d(sampling) \n",
        "-> view (tensor -> vector로) -> full connection(feature의 개수를 줄여줌) -> full connection -> full connection"
      ]
    },
    {
      "cell_type": "markdown",
      "metadata": {
        "id": "pqOfXR0hycGn"
      },
      "source": [
        "(3) 화면 출력 확인"
      ]
    },
    {
      "cell_type": "code",
      "metadata": {
        "id": "s36n6mYPyf7v",
        "colab": {
          "base_uri": "https://localhost:8080/",
          "height": 52
        },
        "outputId": "9dd58638-a13f-47e4-a960-164be509a02d"
      },
      "source": [
        "# net.parameters()를 사용하여 정의된 신경망의 학습가능한 매개변수들을 확인할 수 있음 \n",
        "params = list(net.parameters()) \n",
        "print(len(params)) \n",
        "print(params[0].size()) # conv1's .weight "
      ],
      "execution_count": null,
      "outputs": [
        {
          "output_type": "stream",
          "text": [
            "10\n",
            "torch.Size([6, 1, 5, 5])\n"
          ],
          "name": "stdout"
        }
      ]
    },
    {
      "cell_type": "markdown",
      "metadata": {
        "id": "9RWGnzoayitf"
      },
      "source": [
        "(4) 화면 출력 확인"
      ]
    },
    {
      "cell_type": "code",
      "metadata": {
        "id": "H9hQOUN8yll-",
        "colab": {
          "base_uri": "https://localhost:8080/",
          "height": 52
        },
        "outputId": "e56eea02-7210-468b-90a7-e30c3a439675"
      },
      "source": [
        "# 다음의 임의의 32*32 입력을 가정함 \n",
        "# 참고로 크기가 다른 입력을 받을 때는 입력의 크기를 재조정하거나 신경망 수정함 \n",
        "input = torch.randn(1, 1, 32, 32) \n",
        "out = net(input) \n",
        "print(out)"
      ],
      "execution_count": null,
      "outputs": [
        {
          "output_type": "stream",
          "text": [
            "tensor([[-0.0788, -0.0600,  0.0901, -0.0048,  0.0371,  0.0151,  0.0129,  0.0290,\n",
            "          0.0015, -0.0840]], grad_fn=<AddmmBackward>)\n"
          ],
          "name": "stdout"
        }
      ]
    },
    {
      "cell_type": "code",
      "metadata": {
        "id": "xLW4urr_0jL7"
      },
      "source": [
        "# 오류역전파를 통해 그레이디언트를 구하기 전에 모든 가중치의 그레이디언트 버퍼들을 초기화 \n",
        "net.zero_grad() \n",
        "out.backward(torch.randn(1, 10)) \n",
        "\n",
        "# 손실 함수 정의 및 임의의 값들에 대해서 오차 결과 확인 \n",
        "# nn 패키지는 많이 사용되는 손실함수들을 제공하며, 해당 예제는 단순한 MSE를 사용 \n",
        "output = net(input) \n",
        "target = torch.randn(10) # a dummy target, for example \n",
        "target = target.view(1, -1) # make it the same shape as output \n",
        "criterion = nn.MSELoss() # 손실함수\n",
        "\n",
        "loss = criterion(output, target) "
      ],
      "execution_count": null,
      "outputs": []
    },
    {
      "cell_type": "markdown",
      "metadata": {
        "id": "2p-krkguzYkf"
      },
      "source": [
        "(5) 화면 출력 확인 "
      ]
    },
    {
      "cell_type": "code",
      "metadata": {
        "id": "QZiTaqUwzdNn",
        "colab": {
          "base_uri": "https://localhost:8080/",
          "height": 34
        },
        "outputId": "b93d4c87-20e7-4120-a502-ec7bead25a24"
      },
      "source": [
        "print(loss) "
      ],
      "execution_count": null,
      "outputs": [
        {
          "output_type": "stream",
          "text": [
            "tensor(0.9270, grad_fn=<MseLossBackward>)\n"
          ],
          "name": "stdout"
        }
      ]
    },
    {
      "cell_type": "markdown",
      "metadata": {
        "id": "6oMyHdgTzqdn"
      },
      "source": [
        "(6) 화면 출력 확인"
      ]
    },
    {
      "cell_type": "code",
      "metadata": {
        "id": "C2yNRX_GzZD-",
        "colab": {
          "base_uri": "https://localhost:8080/",
          "height": 52
        },
        "outputId": "962a1f15-735c-4eb7-bf74-7809f8cad41f"
      },
      "source": [
        "# 앞에 코드에서 언급한 것과 같이 오류 역전파하기 전, 그레이디언트를 초기화해야 함 \n",
        "# backward() 수행 후 어떤 변화가 있는지 확인하고, 초기화의 필요성을 확인함 \n",
        "net.zero_grad() #zeroes the gradient buffers of all parameters\n",
        "\n",
        "print('conv1.bias.grad before backward') \n",
        "print(net.conv1.bias.grad) # backward() 전"
      ],
      "execution_count": null,
      "outputs": [
        {
          "output_type": "stream",
          "text": [
            "conv1.bias.grad before backward\n",
            "tensor([0., 0., 0., 0., 0., 0.])\n"
          ],
          "name": "stdout"
        }
      ]
    },
    {
      "cell_type": "markdown",
      "metadata": {
        "id": "gDoJ__KGz0Wh"
      },
      "source": [
        "(7) 화면 출력 확인"
      ]
    },
    {
      "cell_type": "code",
      "metadata": {
        "id": "MxoMpRH9zo9-",
        "colab": {
          "base_uri": "https://localhost:8080/",
          "height": 52
        },
        "outputId": "4ea29048-2224-4e74-daf9-ea54389a72e2"
      },
      "source": [
        "loss.backward() \n",
        "\n",
        "print('conv1.bias.grad after backward') \n",
        "print(net.conv1.bias.grad) # backward() 후"
      ],
      "execution_count": null,
      "outputs": [
        {
          "output_type": "stream",
          "text": [
            "conv1.bias.grad after backward\n",
            "tensor([ 0.0022,  0.0010,  0.0029,  0.0054, -0.0045,  0.0080])\n"
          ],
          "name": "stdout"
        }
      ]
    },
    {
      "cell_type": "code",
      "metadata": {
        "id": "vfYgr5B4z31e",
        "colab": {
          "base_uri": "https://localhost:8080/",
          "height": 34
        },
        "outputId": "d10c5352-e836-40e6-f18a-0a1f5b1a36d1"
      },
      "source": [
        "# 스토캐스틱경사하강법 (미라가중치= 현재가중치-학습률*그레이디언트)을 이용하여 가중치 갱신하는 코드\n",
        "learning_rate = 0.01 \n",
        "\n",
        "#가중치 갱신\n",
        "for f in net.parameters(): \n",
        "  f.data.sub_(f.grad.data * learning_rate) \n",
        "\n",
        "# 하지만 위 구현 코드보다 실제, torch.optim에서 구현되는 SDG, Adam, RMSProp 등을 사용함 \n",
        "# 오류 역전파에서 최적화하는 방법을 보인 예제 코드 \n",
        "import torch.optim as optim \n",
        "\n",
        "# create your optimizer / Stochastic Gradient Descent\n",
        "optimizer = optim.SGD(net.parameters(), lr=0.01)\n",
        "\n",
        "# in your training loop: \n",
        "optimizer.zero_grad() # zero the gradient buffers \n",
        "output = net(input) \n",
        "loss = criterion(output, target) \n",
        "loss.backward() \n",
        "optimizer.step() # Does the update (가중치 갱신)\n",
        "print(loss)"
      ],
      "execution_count": null,
      "outputs": [
        {
          "output_type": "stream",
          "text": [
            "tensor(0.9146, grad_fn=<MseLossBackward>)\n"
          ],
          "name": "stdout"
        }
      ]
    },
    {
      "cell_type": "markdown",
      "metadata": {
        "id": "TRH6ZnuH0Vz_"
      },
      "source": [
        "# 3. 분류기 학습"
      ]
    },
    {
      "cell_type": "markdown",
      "metadata": {
        "id": "NaZI_sci1J8j"
      },
      "source": [
        "(1) 화면 출력 확인"
      ]
    },
    {
      "cell_type": "code",
      "metadata": {
        "id": "rqi2-b_V0num",
        "colab": {
          "base_uri": "https://localhost:8080/",
          "height": 52
        },
        "outputId": "aa980e7e-389a-4bac-b842-5c8e88530566"
      },
      "source": [
        "# 1번의 기초적인 신경망을 통해서 사진 분류기를 학습함 \n",
        "# 데이터집합은 CIFAR-10이며, 아래의 예와 같이 10가지의 3 (R, G, B)채널의 32*32 크기의 사진으로 구성됨 \n",
        "\n",
        "# CIFAR-10과 같이 많이 사용되는 데이터집합은 torchvision 패키지에서 제공함 \n",
        "# 분류기 학습은 다음과 같은 과정을 가짐 \n",
        "# 1. 정규화된 CIFAR-10 훈련집합과 테스트집합을 torchvision을 이용하여 적재함 \n",
        "# 2. 컨볼루션 신경망을 정의함 \n",
        "# 3. 손실함수 정의 \n",
        "# 4. 훈련집합을 이용하여 신경망을 학습시킴 \n",
        "# 5. 테스트집합을 이용하여 신경망 성능 확인 \n",
        " \n",
        "### 1. 정규화된 CIFAR-10 훈련집합과 테스트집합을 torchvision을 이용하여 적재함 \n",
        "import torch \n",
        "import torchvision \n",
        "import torchvision.transforms as transforms \n",
        "\n",
        "transform = transforms.Compose([transforms.ToTensor(), transforms.Normalize((0.5, 0.5, 0.5), (0.5, 0.5, 0.5))]) \n",
        "\n",
        "trainset = torchvision.datasets.CIFAR10(root='/data', train=True, download=True, transform=transform) \n",
        "trainloader = torch.utils.data.DataLoader(trainset, batch_size=4, shuffle=True, num_workers=2) \n",
        "\n",
        "testset = torchvision.datasets.CIFAR10(root='/data', train=False, download=True, transform=transform) \n",
        "testloader = torch.utils.data.DataLoader(testset, batch_size=4, shuffle=False, num_workers=2) \n",
        "\n",
        "# 분류 10개 class\n",
        "classes = ('plane', 'car', 'bird', 'cat', 'deer', 'dog', 'frog', 'horse', 'ship', 'truck') \n"
      ],
      "execution_count": null,
      "outputs": [
        {
          "output_type": "stream",
          "text": [
            "Files already downloaded and verified\n",
            "Files already downloaded and verified\n"
          ],
          "name": "stdout"
        }
      ]
    },
    {
      "cell_type": "markdown",
      "metadata": {
        "id": "j0-RoZUo11r3"
      },
      "source": [
        "(2) 화면 출력 확인"
      ]
    },
    {
      "cell_type": "code",
      "metadata": {
        "id": "A763VFvy0oje",
        "colab": {
          "base_uri": "https://localhost:8080/",
          "height": 156
        },
        "outputId": "5881a5d8-346d-4e25-ad3d-3b8e81c21953"
      },
      "source": [
        "# 훈련집합의 일부 사진들 확인 \n",
        "import matplotlib.pyplot as plt \n",
        "import numpy as np \n",
        "\n",
        "# functions to show an image \n",
        "def imshow(img): \n",
        "  img = img / 2 + 0.5   # unnormalize \n",
        "  npimg = img.numpy() \n",
        "  plt.imshow(np.transpose(npimg, (1, 2, 0))) \n",
        "\n",
        "# get some random training images \n",
        "dataiter = iter(trainloader) \n",
        "images, labels = dataiter.next() \n",
        "\n",
        "# show images \n",
        "imshow(torchvision.utils.make_grid(images)) \n",
        "# print labels \n",
        "print(' '.join('%5s' % classes[labels[j]] for j in range(4))) "
      ],
      "execution_count": null,
      "outputs": [
        {
          "output_type": "stream",
          "text": [
            "horse truck plane  ship\n"
          ],
          "name": "stdout"
        },
        {
          "output_type": "display_data",
          "data": {
            "image/png": "[encoded data removed]",
            "text/plain": [
              "<Figure size 432x288 with 1 Axes>"
            ]
          },
          "metadata": {
            "tags": []
          }
        }
      ]
    },
    {
      "cell_type": "markdown",
      "metadata": {
        "id": "LArJ85iE3b-p"
      },
      "source": [
        "(3) 화면 출력 확인 및 학습이 되고 있는지 서술 "
      ]
    },
    {
      "cell_type": "code",
      "metadata": {
        "id": "OuHOvJtn0rFu",
        "colab": {
          "base_uri": "https://localhost:8080/",
          "height": 457
        },
        "outputId": "eb53e35a-ac87-4ca4-953c-58b4b63b824b"
      },
      "source": [
        "### 2. 컨볼류션 신경망을 정의함 \n",
        "# 3채널 32*32 크기의 사진을 입력받고, 신경망을 통과해 10부류를 수행 \n",
        "import torch.nn as nn \n",
        "import torch.nn.functional as F \n",
        "\n",
        "class Net(nn. Module): \n",
        "  def __init__(self): \n",
        "    super(Net, self).__init__() \n",
        "    # conv2d(input, output, kernel size)\n",
        "    self.conv1 = nn.Conv2d(3, 6, 5) \n",
        "    self.pool = nn.MaxPool2d(2, 2) \n",
        "    self.conv2 = nn.Conv2d(6, 16, 5) \n",
        "    # linear(input size, output size)\n",
        "    self.fc1 = nn.Linear(16 * 5 * 5, 120) \n",
        "    self.fc2 = nn.Linear(120, 84) \n",
        "    self.fc3 = nn.Linear(84, 10) \n",
        "  \n",
        "  def forward(self, x): \n",
        "    x = self.pool(F.relu(self.conv1(x))) \n",
        "    x = self.pool(F.relu(self.conv2(x))) \n",
        "    # tensor -> vector\n",
        "    x = x.view(-1, 16 * 5 * 5) \n",
        "    # full connection\n",
        "    x = F.relu(self.fc1(x)) \n",
        "    x = F.relu(self.fc2(x)) \n",
        "    x = self.fc3(x) \n",
        "    return x \n",
        "\n",
        "net = Net() \n",
        "\n",
        "### 3. 손실함수 정의, 교차 엔트로이피와 SGD+momentum \n",
        "import torch.optim as optim \n",
        "\n",
        "criterion = nn.CrossEntropyLoss() \n",
        "optimizer = optim.SGD(net.parameters(), lr=0.001, momentum=0.9) \n",
        "\n",
        "### 4. 훈련집합을 이용하여 신경망을 학습시킴\n",
        "for epoch in range(2): # loop over the dataset multiple times \n",
        "\n",
        "  running_loss = 0.0 \n",
        "  # 훈련집합 반복\n",
        "  for i, data in enumerate(trainloader, 0): \n",
        "    # get the inputs (tensor, label)\n",
        "    inputs, labels = data \n",
        "    \n",
        "    # zero the parameter gradients \n",
        "    optimizer.zero_grad() \n",
        "\n",
        "    # forward + backward + optimize \n",
        "    outputs = net(inputs) \n",
        "    loss = criterion(outputs, labels) \n",
        "    loss.backward() \n",
        "    optimizer.step() # 가중치 갱신\n",
        "  \n",
        "    # print statistics \n",
        "    running_loss += loss.item() # 총합\n",
        "    if i % 1000 == 999:   # print every 1000 mini-batches\n",
        "      print('[%d, %5d] loss: %.3f' %(epoch + 1, i + 1, running_loss / 1000)) \n",
        "      running_loss = 0.0 \n",
        "print('Finished Training')"
      ],
      "execution_count": null,
      "outputs": [
        {
          "output_type": "stream",
          "text": [
            "[1,  1000] loss: 2.296\n",
            "[1,  2000] loss: 2.105\n",
            "[1,  3000] loss: 1.917\n",
            "[1,  4000] loss: 1.828\n",
            "[1,  5000] loss: 1.744\n",
            "[1,  6000] loss: 1.657\n",
            "[1,  7000] loss: 1.624\n",
            "[1,  8000] loss: 1.595\n",
            "[1,  9000] loss: 1.557\n",
            "[1, 10000] loss: 1.503\n",
            "[1, 11000] loss: 1.483\n",
            "[1, 12000] loss: 1.460\n",
            "[2,  1000] loss: 1.397\n",
            "[2,  2000] loss: 1.371\n",
            "[2,  3000] loss: 1.367\n",
            "[2,  4000] loss: 1.379\n",
            "[2,  5000] loss: 1.358\n",
            "[2,  6000] loss: 1.329\n",
            "[2,  7000] loss: 1.307\n",
            "[2,  8000] loss: 1.325\n",
            "[2,  9000] loss: 1.280\n",
            "[2, 10000] loss: 1.276\n",
            "[2, 11000] loss: 1.288\n",
            "[2, 12000] loss: 1.275\n",
            "Finished Training\n"
          ],
          "name": "stdout"
        }
      ]
    },
    {
      "cell_type": "markdown",
      "metadata": {
        "id": "kdwrSnMX5H6f"
      },
      "source": [
        "1000번 마다 1000개의 평균으로 epoch, 횟수, loss를 출력하고 있다.    \n",
        "데이터가 학습되면서 loss가 줄어들고 있다.\n",
        "학습이 되고있다."
      ]
    },
    {
      "cell_type": "markdown",
      "metadata": {
        "id": "xDJDQc473jIm"
      },
      "source": [
        "(4) 화면 출력 확인"
      ]
    },
    {
      "cell_type": "code",
      "metadata": {
        "id": "1IWIvGed0suW",
        "colab": {
          "base_uri": "https://localhost:8080/",
          "height": 156
        },
        "outputId": "11d086a9-0c60-4f5a-a57a-44541d9f7188"
      },
      "source": [
        "### 5. 테스트집합을 이용하여 신경망 성능 확인\n",
        "dataiter = iter(testloader) \n",
        "images, labels = dataiter.next() \n",
        "\n",
        "# print images \n",
        "imshow(torchvision.utils.make_grid(images)) \n",
        "print('GroundTruth:',' '.join('%5s' % classes[labels[j]] for j in range(4)))"
      ],
      "execution_count": null,
      "outputs": [
        {
          "output_type": "stream",
          "text": [
            "GroundTruth:   cat  ship  ship plane\n"
          ],
          "name": "stdout"
        },
        {
          "output_type": "display_data",
          "data": {
            "image/png": "[encoded data removed]",
            "text/plain": [
              "<Figure size 432x288 with 1 Axes>"
            ]
          },
          "metadata": {
            "tags": []
          }
        }
      ]
    },
    {
      "cell_type": "markdown",
      "metadata": {
        "id": "MhCNsboB4nzt"
      },
      "source": [
        "(5) 화면 출력 확인"
      ]
    },
    {
      "cell_type": "code",
      "metadata": {
        "id": "gRsRapMs0t_4",
        "colab": {
          "base_uri": "https://localhost:8080/",
          "height": 34
        },
        "outputId": "6b41c331-0735-4c4d-e4d1-6fc1078262fe"
      },
      "source": [
        "outputs = net(images) \n",
        "# max index를 predicted에\n",
        "_, predicted = torch.max(outputs, 1) \n",
        "# 가장 큰 예측 결과값 출력\n",
        "print('Predicted:',' '.join('%5s' % classes[predicted[j]] for j in range(4)))"
      ],
      "execution_count": null,
      "outputs": [
        {
          "output_type": "stream",
          "text": [
            "Predicted:   cat  ship truck  ship\n"
          ],
          "name": "stdout"
        }
      ]
    },
    {
      "cell_type": "markdown",
      "metadata": {
        "id": "jI1FNI1oDqPE"
      },
      "source": [
        "(6) 화면 출력 확인 및 일반화 성능 기술"
      ]
    },
    {
      "cell_type": "code",
      "metadata": {
        "id": "TkiW3oxt0vVy",
        "colab": {
          "base_uri": "https://localhost:8080/",
          "height": 34
        },
        "outputId": "7f2bc641-08d2-476a-87bd-6eb7e06ed671"
      },
      "source": [
        "# performance on the whole test dataset \n",
        "correct = 0 \n",
        "total = 0 \n",
        "\n",
        "# 역연산 X\n",
        "with torch.no_grad():\n",
        "  for data in testloader: \n",
        "    images, labels = data \n",
        "    outputs = net(images)\n",
        "    _, predicted = torch.max(outputs.data, 1) \n",
        "    total += labels.size(0) #총갯수\n",
        "    correct += (predicted == labels).sum().item() #맞는 것만\n",
        "\n",
        "print('Accuracy of the network on the 10000 test images: %d %%' % (100 * correct / total)) "
      ],
      "execution_count": null,
      "outputs": [
        {
          "output_type": "stream",
          "text": [
            "Accuracy of the network on the 10000 test images: 55 %\n"
          ],
          "name": "stdout"
        }
      ]
    },
    {
      "cell_type": "markdown",
      "metadata": {
        "id": "A89BzJpS_7m7"
      },
      "source": [
        "10000개 test image의 정확도는 55%"
      ]
    },
    {
      "cell_type": "markdown",
      "metadata": {
        "id": "XjPUPrrFD3Er"
      },
      "source": [
        "(7) 화면 출력 확인 및 부류별 분류기의 성능 서술"
      ]
    },
    {
      "cell_type": "code",
      "metadata": {
        "id": "jsI_bI9j0vUZ",
        "colab": {
          "base_uri": "https://localhost:8080/",
          "height": 193
        },
        "outputId": "77708c65-1885-4bee-d9fc-159bc557a860"
      },
      "source": [
        " # performance on each class \n",
        " class_correct = list(0. for i in range(10)) \n",
        " class_total = list(0. for i in range(10)) \n",
        "\n",
        "with torch.no_grad(): \n",
        "  for data in testloader: \n",
        "    images, labels = data \n",
        "    outputs = net(images)\n",
        "    _, predicted = torch.max(outputs, 1) \n",
        "    c = (predicted == labels).squeeze() \n",
        "    for i in range(4): \n",
        "      label = labels[i] #정답값 label\n",
        "      class_correct[label] += c[i].item() #맞았으면 +1\n",
        "      class_total[label] += 1 \n",
        "\n",
        "for i in range(10): \n",
        "  print('Accuracy of %5s : %2d %%' %(classes[i], 100 * class_correct[i]/class_total[i]))"
      ],
      "execution_count": null,
      "outputs": [
        {
          "output_type": "stream",
          "text": [
            "Accuracy of plane : 59 %\n",
            "Accuracy of   car : 75 %\n",
            "Accuracy of  bird : 42 %\n",
            "Accuracy of   cat : 33 %\n",
            "Accuracy of  deer : 41 %\n",
            "Accuracy of   dog : 26 %\n",
            "Accuracy of  frog : 73 %\n",
            "Accuracy of horse : 62 %\n",
            "Accuracy of  ship : 60 %\n",
            "Accuracy of truck : 65 %\n"
          ],
          "name": "stdout"
        }
      ]
    },
    {
      "cell_type": "markdown",
      "metadata": {
        "id": "vQdmbDWBAI72"
      },
      "source": [
        "10개의 분류별 정확도를 확인할 수 있음.    \n",
        "car가 75%로 가장 높고 dog이 26%로 가장 낮은 정확률을 가지고 있다.    "
      ]
    },
    {
      "cell_type": "markdown",
      "metadata": {
        "id": "7uGWSZy963bo"
      },
      "source": [
        "# 4. 출력의 크기와 매개변수의 수 계산"
      ]
    },
    {
      "cell_type": "markdown",
      "metadata": {
        "id": "ctn1WUuf67zU"
      },
      "source": [
        "입력 : 32 * 32 * 3 (W1 * H1 * D1)      \n",
        "    \n",
        "(a) 10개 5 * 5필터, 보폭 1, 덧대기 2    \n",
        "     K개 F * F필터, 보폭 S, 덧대기 P\n",
        "    \n",
        "출력의 크기: W2 * H2 * D2    \n",
        "W2 = (W1 - F + 2P)/S+1 = 32    \n",
        "H2 = (H1 - F + 2P)/S+1 = 32    \n",
        "D2 = K = 10    \n",
        "-> 32 * 32 * 10 = 10240    \n",
        "    \n",
        "매개변수의 수: 커널마다 (5 * 5 * 3)개의 가중치와 1개의 바이어스를 가짐    \n",
        "따라서, 전체 매개변수의 수는 (5 * 5 * 3)10+10 = 760\n",
        "    \n",
        "    \n",
        "\n",
        "(b) 64개 3*3필터, 보폭 1, 덧대기 1\n",
        "    \n",
        "출력의 크기:    \n",
        "W2 = (32 - 3 + 2 * 1)/1+1 = 32    \n",
        "H2 = (32 - 3 + 2 * 1)/1+1 = 32   \n",
        "D2 = 64    \n",
        "-> 32 * 32 * 64 = 65536    \n",
        "    \n",
        "매개변수의 수:    \n",
        "(3 * 3 * 3) * 64 + 64 = 1792    \n",
        "\n"
      ]
    },
    {
      "cell_type": "markdown",
      "metadata": {
        "id": "GwryOK38btye"
      },
      "source": [
        "# 5. 컨볼루션 신경망 구현"
      ]
    },
    {
      "cell_type": "markdown",
      "metadata": {
        "id": "Z0jGxPNWb4RA"
      },
      "source": [
        "(1) input-conv(32 3*3)-conv(32 3*3)-relu-pool-conv(32 3*3)-conv(32 3*3)-relu-pool-fc-output"
      ]
    },
    {
      "cell_type": "code",
      "metadata": {
        "id": "88G_AN8HRRbA",
        "colab": {
          "base_uri": "https://localhost:8080/",
          "height": 122
        },
        "outputId": "4932820d-2d44-4409-ffe3-8ce782897db0"
      },
      "source": [
        "### 2. 컨볼류션 신경망을 정의함 \n",
        "# 3채널 32*32 크기의 사진을 입력받고, 신경망을 통과해 10부류를 수행 \n",
        "import torch.nn as nn \n",
        "import torch.nn.functional as F \n",
        "\n",
        "class Net(nn. Module): \n",
        "  def __init__(self): \n",
        "    super(Net, self).__init__() \n",
        "\n",
        "    # 합성곱층\n",
        "    # Conv2d(입력채널, 출력채널, 커널 사이즈)\n",
        "    self.conv1 = nn.Conv2d(3, 32, 3) \n",
        "    self.conv2 = nn.Conv2d(32, 32, 3) \n",
        "    # 가로세로 반으로 축소\n",
        "    self.pool = nn.MaxPool2d(2, 2) \n",
        "    # 전결합층\n",
        "    # Linear(인풋(벡터)사이즈, 아웃풋(벡터)사이즈)\n",
        "    self.fc = nn.Linear(5 * 5*32, 10) \n",
        "  \n",
        "  def forward(self, x): \n",
        "    # conv - conv - relu - pool - conv - conv - relu - pool - fc\n",
        "    x = self.conv1(x)                     #32*32*3\n",
        "    x = self.pool(F.relu(self.conv2(x)))  #30*30*32 -> 28*28*32 -> 14*14*32\n",
        "\n",
        "    x = self.conv2(x)                     #14*14*32\n",
        "    x = self.pool(F.relu(self.conv2(x)))  #12*12*32 -> 10*10*32 -> 5*5*32\n",
        "\n",
        "    # tensor -> vector\n",
        "    x = x.view(-1, 5 * 5*32)  \n",
        "    x = self.fc(x) \n",
        "    return x \n",
        "\n",
        "net = Net()\n",
        "print(net)"
      ],
      "execution_count": null,
      "outputs": [
        {
          "output_type": "stream",
          "text": [
            "Net(\n",
            "  (conv1): Conv2d(3, 32, kernel_size=(3, 3), stride=(1, 1))\n",
            "  (conv2): Conv2d(32, 32, kernel_size=(3, 3), stride=(1, 1))\n",
            "  (pool): MaxPool2d(kernel_size=2, stride=2, padding=0, dilation=1, ceil_mode=False)\n",
            "  (fc): Linear(in_features=800, out_features=10, bias=True)\n",
            ")\n"
          ],
          "name": "stdout"
        }
      ]
    },
    {
      "cell_type": "markdown",
      "metadata": {
        "id": "KWdwW8xlcUYH"
      },
      "source": [
        "(2) 3번 신경망에 Adam 최적화"
      ]
    },
    {
      "cell_type": "code",
      "metadata": {
        "id": "3QcdisC8jnyb"
      },
      "source": [
        "##### 원래 3번 신경망 #####\n",
        "### 2. 컨볼류션 신경망을 정의함 \n",
        "# 3채널 32*32 크기의 사진을 입력받고, 신경망을 통과해 10부류를 수행 \n",
        "import torch.nn as nn \n",
        "import torch.nn.functional as F \n",
        "\n",
        "class Net(nn. Module): \n",
        "  def __init__(self): \n",
        "    super(Net, self).__init__() \n",
        "    self.conv1 = nn.Conv2d(3, 6, 5) \n",
        "    self.pool = nn.MaxPool2d(2, 2) \n",
        "    self.conv2 = nn.Conv2d(6, 16, 5) \n",
        "    self.fc1 = nn.Linear(16 * 5 * 5, 120) \n",
        "    self.fc2 = nn.Linear(120, 84) \n",
        "    self.fc3 = nn.Linear(84, 10) \n",
        "  \n",
        "  def forward(self, x): \n",
        "    x = self.pool(F.relu(self.conv1(x))) \n",
        "    x = self.pool(F.relu(self.conv2(x))) \n",
        "    x = x.view(-1, 16 * 5 * 5) \n",
        "    x = F.relu(self.fc1(x)) \n",
        "    x = F.relu(self.fc2(x)) \n",
        "    x = self.fc3(x) \n",
        "    return x \n",
        "\n",
        "net = Net() \n"
      ],
      "execution_count": null,
      "outputs": []
    },
    {
      "cell_type": "code",
      "metadata": {
        "id": "M7AMcrGeForM",
        "colab": {
          "base_uri": "https://localhost:8080/",
          "height": 457
        },
        "outputId": "39bacc5e-ae3c-43ff-c975-d53b4a48cc85"
      },
      "source": [
        "### 3. 손실함수 정의, 교차 엔트로이피와 SGD+momentum \n",
        "import torch.optim as optim \n",
        "\n",
        "criterion = nn.CrossEntropyLoss() \n",
        "optimizer = optim.SGD(net.parameters(), lr=0.001, momentum=0.9) \n",
        "\n",
        "### 4. 훈련집합을 이용하여 신경망을 학습시킴\n",
        "for epoch in range(2): # loop over the dataset multiple times \n",
        "\n",
        "  running_loss = 0.0 \n",
        "  for i, data in enumerate(trainloader, 0): \n",
        "    # get the inputs \n",
        "    inputs, labels = data \n",
        "    \n",
        "    # zero the parameter gradients \n",
        "    optimizer.zero_grad() \n",
        "\n",
        "    # forward + backward + optimize \n",
        "    outputs = net(inputs) \n",
        "    loss = criterion(outputs, labels) \n",
        "    loss.backward() \n",
        "    optimizer.step() \n",
        "  \n",
        "    # print statistics \n",
        "    running_loss += loss.item() \n",
        "    if i % 1000 == 999:   # print every 1000 mini-batches \n",
        "      print('[%d, %5d] loss: %.3f' %(epoch + 1, i + 1, running_loss / 1000)) \n",
        "      running_loss = 0.0 \n",
        "print('Finished Training')"
      ],
      "execution_count": null,
      "outputs": [
        {
          "output_type": "stream",
          "text": [
            "[1,  1000] loss: 2.302\n",
            "[1,  2000] loss: 2.199\n",
            "[1,  3000] loss: 2.012\n",
            "[1,  4000] loss: 1.885\n",
            "[1,  5000] loss: 1.825\n",
            "[1,  6000] loss: 1.769\n",
            "[1,  7000] loss: 1.714\n",
            "[1,  8000] loss: 1.666\n",
            "[1,  9000] loss: 1.633\n",
            "[1, 10000] loss: 1.637\n",
            "[1, 11000] loss: 1.622\n",
            "[1, 12000] loss: 1.593\n",
            "[2,  1000] loss: 1.571\n",
            "[2,  2000] loss: 1.572\n",
            "[2,  3000] loss: 1.535\n",
            "[2,  4000] loss: 1.506\n",
            "[2,  5000] loss: 1.504\n",
            "[2,  6000] loss: 1.455\n",
            "[2,  7000] loss: 1.481\n",
            "[2,  8000] loss: 1.481\n",
            "[2,  9000] loss: 1.484\n",
            "[2, 10000] loss: 1.451\n",
            "[2, 11000] loss: 1.447\n",
            "[2, 12000] loss: 1.422\n",
            "Finished Training\n"
          ],
          "name": "stdout"
        }
      ]
    },
    {
      "cell_type": "code",
      "metadata": {
        "id": "U6pQTKkOcvbv",
        "colab": {
          "base_uri": "https://localhost:8080/",
          "height": 34
        },
        "outputId": "ab2bbb68-ea3e-473b-fa8f-32d756b91aab"
      },
      "source": [
        "# performance on the whole test dataset \n",
        "correct = 0 \n",
        "total = 0 \n",
        "with torch.no_grad():\n",
        "  for data in testloader: \n",
        "    images, labels = data \n",
        "    outputs = net(images)\n",
        "    _, predicted = torch.max(outputs.data, 1) \n",
        "    total += labels.size(0) \n",
        "    correct += (predicted == labels).sum().item() \n",
        "\n",
        "print('Accuracy of the network on the 10000 test images: %d %%' % (100 * correct / total)) "
      ],
      "execution_count": null,
      "outputs": [
        {
          "output_type": "stream",
          "text": [
            "Accuracy of the network on the 10000 test images: 48 %\n"
          ],
          "name": "stdout"
        }
      ]
    },
    {
      "cell_type": "code",
      "metadata": {
        "id": "ENwaFTk0cwLu",
        "colab": {
          "base_uri": "https://localhost:8080/",
          "height": 193
        },
        "outputId": "a00e1fe9-7a67-4958-c960-06b54d56c284"
      },
      "source": [
        " # performance on each class \n",
        " class_correct = list(0. for i in range(10)) \n",
        " class_total = list(0. for i in range(10)) \n",
        "with torch.no_grad(): \n",
        "  for data in testloader: \n",
        "    images, labels = data \n",
        "    outputs = net(images)\n",
        "    _, predicted = torch.max(outputs, 1) \n",
        "    c = (predicted == labels).squeeze() \n",
        "    for i in range(4): \n",
        "      label = labels[i] \n",
        "      class_correct[label] += c[i].item() \n",
        "      class_total[label] += 1 \n",
        "\n",
        "for i in range(10): \n",
        "  print('Accuracy of %5s : %2d %%' %(classes[i], 100 * class_correct[i]/class_total[i]))"
      ],
      "execution_count": null,
      "outputs": [
        {
          "output_type": "stream",
          "text": [
            "Accuracy of plane : 58 %\n",
            "Accuracy of   car : 61 %\n",
            "Accuracy of  bird : 20 %\n",
            "Accuracy of   cat : 41 %\n",
            "Accuracy of  deer : 50 %\n",
            "Accuracy of   dog : 40 %\n",
            "Accuracy of  frog : 56 %\n",
            "Accuracy of horse : 35 %\n",
            "Accuracy of  ship : 69 %\n",
            "Accuracy of truck : 57 %\n"
          ],
          "name": "stdout"
        }
      ]
    },
    {
      "cell_type": "code",
      "metadata": {
        "id": "Sm7OI9RwcYNq",
        "colab": {
          "base_uri": "https://localhost:8080/",
          "height": 457
        },
        "outputId": "6e6301ad-cdd7-48d2-b86d-58716b0e4dab"
      },
      "source": [
        "##### 수정한 3번 신경망 #####\n",
        "### 3. 손실함수 정의, 교차 엔트로이피와 Adam\n",
        "import torch.optim as optim \n",
        "\n",
        "criterion = nn.CrossEntropyLoss() \n",
        "optimizer = optim.Adam(net.parameters(), lr=1e-3) \n",
        "\n",
        "### 4. 훈련집합을 이용하여 신경망을 학습시킴\n",
        "for epoch in range(2): # loop over the dataset multiple times \n",
        "\n",
        "  running_loss = 0.0 \n",
        "  for i, data in enumerate(trainloader, 0): \n",
        "    # get the inputs \n",
        "    inputs, labels = data \n",
        "    \n",
        "    # zero the parameter gradients \n",
        "    optimizer.zero_grad() \n",
        "\n",
        "    # forward + backward + optimize \n",
        "    outputs = net(inputs) \n",
        "    loss = criterion(outputs, labels) \n",
        "    loss.backward() \n",
        "    optimizer.step() \n",
        "  \n",
        "    # print statistics \n",
        "    running_loss += loss.item() \n",
        "    if i % 1000 == 999:   # print every 1000 mini-batches \n",
        "      print('[%d, %5d] loss: %.3f' %(epoch + 1, i + 1, running_loss / 1000)) \n",
        "      running_loss = 0.0 \n",
        "print('Finished Training')"
      ],
      "execution_count": null,
      "outputs": [
        {
          "output_type": "stream",
          "text": [
            "[1,  1000] loss: 1.496\n",
            "[1,  2000] loss: 1.489\n",
            "[1,  3000] loss: 1.450\n",
            "[1,  4000] loss: 1.440\n",
            "[1,  5000] loss: 1.436\n",
            "[1,  6000] loss: 1.444\n",
            "[1,  7000] loss: 1.457\n",
            "[1,  8000] loss: 1.412\n",
            "[1,  9000] loss: 1.424\n",
            "[1, 10000] loss: 1.395\n",
            "[1, 11000] loss: 1.418\n",
            "[1, 12000] loss: 1.422\n",
            "[2,  1000] loss: 1.373\n",
            "[2,  2000] loss: 1.376\n",
            "[2,  3000] loss: 1.370\n",
            "[2,  4000] loss: 1.365\n",
            "[2,  5000] loss: 1.361\n",
            "[2,  6000] loss: 1.374\n",
            "[2,  7000] loss: 1.367\n",
            "[2,  8000] loss: 1.331\n",
            "[2,  9000] loss: 1.348\n",
            "[2, 10000] loss: 1.376\n",
            "[2, 11000] loss: 1.358\n",
            "[2, 12000] loss: 1.328\n",
            "Finished Training\n"
          ],
          "name": "stdout"
        }
      ]
    },
    {
      "cell_type": "code",
      "metadata": {
        "id": "GZgbSdPOaviA",
        "colab": {
          "base_uri": "https://localhost:8080/",
          "height": 34
        },
        "outputId": "ee20ef1c-2efe-4923-b29e-7c93fbd19e4c"
      },
      "source": [
        "# performance on the whole test dataset \n",
        "correct = 0 \n",
        "total = 0 \n",
        "with torch.no_grad():\n",
        "  for data in testloader: \n",
        "    images, labels = data \n",
        "    outputs = net(images)\n",
        "    _, predicted = torch.max(outputs.data, 1) \n",
        "    total += labels.size(0) \n",
        "    correct += (predicted == labels).sum().item() \n",
        "\n",
        "print('Accuracy of the network on the 10000 test images: %d %%' % (100 * correct / total)) "
      ],
      "execution_count": null,
      "outputs": [
        {
          "output_type": "stream",
          "text": [
            "Accuracy of the network on the 10000 test images: 61 %\n"
          ],
          "name": "stdout"
        }
      ]
    },
    {
      "cell_type": "code",
      "metadata": {
        "id": "5crU58cDc2nV",
        "colab": {
          "base_uri": "https://localhost:8080/",
          "height": 193
        },
        "outputId": "01963464-e5a8-49e0-e97d-2c2b6bdc4ad7"
      },
      "source": [
        " # performance on each class \n",
        " class_correct = list(0. for i in range(10)) \n",
        " class_total = list(0. for i in range(10)) \n",
        "with torch.no_grad(): \n",
        "  for data in testloader: \n",
        "    images, labels = data \n",
        "    outputs = net(images)\n",
        "    _, predicted = torch.max(outputs, 1) \n",
        "    c = (predicted == labels).squeeze() \n",
        "    for i in range(4): \n",
        "      label = labels[i] \n",
        "      class_correct[label] += c[i].item() \n",
        "      class_total[label] += 1 \n",
        "\n",
        "for i in range(10): \n",
        "  print('Accuracy of %5s : %2d %%' %(classes[i], 100 * class_correct[i]/class_total[i]))"
      ],
      "execution_count": null,
      "outputs": [
        {
          "output_type": "stream",
          "text": [
            "Accuracy of plane : 61 %\n",
            "Accuracy of   car : 83 %\n",
            "Accuracy of  bird : 47 %\n",
            "Accuracy of   cat : 43 %\n",
            "Accuracy of  deer : 47 %\n",
            "Accuracy of   dog : 59 %\n",
            "Accuracy of  frog : 63 %\n",
            "Accuracy of horse : 60 %\n",
            "Accuracy of  ship : 79 %\n",
            "Accuracy of truck : 65 %\n"
          ],
          "name": "stdout"
        }
      ]
    },
    {
      "cell_type": "markdown",
      "metadata": {
        "id": "wQv6DHaLAlAo"
      },
      "source": [
        "원래 SGD를 사용한 신경망의 정확도는 48%, Adam을 사용한 신경망의 정확도는 61%로 Adam을 사용한 신경망의 정확도가 더 높게 나왔다.    \n",
        "그 밖에도 각 class별 정확도나 loss값을 보면 Adam의 성능이 더 좋은 걸 알 수 있다.    "
      ]
    },
    {
      "cell_type": "markdown",
      "metadata": {
        "id": "9dgF_9S9hgje"
      },
      "source": [
        "(3) 데이터 확대"
      ]
    },
    {
      "cell_type": "code",
      "metadata": {
        "id": "BNWtfXlhhlHL"
      },
      "source": [
        "# 이미지 변형을 통해 데이터를 확대시킴\n",
        "transform = transforms.Compose([transforms.RandomRotation(10),                                        #10도 이하로 랜덤으로 기울임\n",
        "                                transforms.RandomHorizontalFlip(),                                    # 0.5 확률로 뒤집음\n",
        "                                transforms.RandomAffine(0, shear=10, scale=(0.8, 1.2)),               #Affine 변환\n",
        "                                transforms.ColorJitter(brightness=0.2, contrast=0.2, saturation=0.2), #밝기,대비,채도를 랜덤 조절\n",
        "                                transforms.ToTensor(), \n",
        "                                transforms.Normalize((0.5,0.5,0.5),(0.5,0.5,0.5))])"
      ],
      "execution_count": null,
      "outputs": []
    },
    {
      "cell_type": "code",
      "metadata": {
        "id": "_Z7KxuJ-i7Ab",
        "colab": {
          "base_uri": "https://localhost:8080/",
          "height": 191
        },
        "outputId": "d6c4abad-e86a-4762-bccf-f72e75d8ebf6"
      },
      "source": [
        "trainset = torchvision.datasets.CIFAR10(root='/data', train=True, download=True, transform=transform) \n",
        "trainloader = torch.utils.data.DataLoader(trainset, batch_size=4, shuffle=True, num_workers=2) \n",
        "\n",
        "testset = torchvision.datasets.CIFAR10(root='/data', train=False, download=True, transform=transform) \n",
        "testloader = torch.utils.data.DataLoader(testset, batch_size=4, shuffle=False, num_workers=2) \n",
        "\n",
        "classes = ('plane', 'car', 'bird', 'cat', 'deer', 'dog', 'frog', 'horse', 'ship', 'truck') \n",
        "\n",
        "# 훈련집합의 일부 사진들 확인 \n",
        "import matplotlib.pyplot as plt \n",
        "import numpy as np \n",
        "\n",
        "# functions to show an image \n",
        "def imshow(img): \n",
        "  img = img / 2 + 0.5   # unnormalize \n",
        "  npimg = img.numpy() \n",
        "  plt.imshow(np.transpose(npimg, (1, 2, 0))) \n",
        "\n",
        "# get some random training images \n",
        "dataiter = iter(trainloader) \n",
        "images, labels = dataiter.next() \n",
        "\n",
        "# show images \n",
        "imshow(torchvision.utils.make_grid(images)) \n",
        "# print labels \n",
        "print(' '.join('%5s' % classes[labels[j]] for j in range(4))) "
      ],
      "execution_count": null,
      "outputs": [
        {
          "output_type": "stream",
          "text": [
            "Files already downloaded and verified\n",
            "Files already downloaded and verified\n",
            "  cat   dog horse  deer\n"
          ],
          "name": "stdout"
        },
        {
          "output_type": "display_data",
          "data": {
            "image/png": "[encoded data removed]",
            "text/plain": [
              "<Figure size 432x288 with 1 Axes>"
            ]
          },
          "metadata": {
            "tags": []
          }
        }
      ]
    },
    {
      "cell_type": "code",
      "metadata": {
        "id": "YrBk2dyXBqrd"
      },
      "source": [
        "##### 원래 3번 신경망 #####\n",
        "### 2. 컨볼류션 신경망을 정의함 \n",
        "# 3채널 32*32 크기의 사진을 입력받고, 신경망을 통과해 10부류를 수행 \n",
        "import torch.nn as nn \n",
        "import torch.nn.functional as F \n",
        "\n",
        "class Net(nn. Module): \n",
        "  def __init__(self): \n",
        "    super(Net, self).__init__() \n",
        "    self.conv1 = nn.Conv2d(3, 6, 5) \n",
        "    self.pool = nn.MaxPool2d(2, 2) \n",
        "    self.conv2 = nn.Conv2d(6, 16, 5) \n",
        "    self.fc1 = nn.Linear(16 * 5 * 5, 120) \n",
        "    self.fc2 = nn.Linear(120, 84) \n",
        "    self.fc3 = nn.Linear(84, 10) \n",
        "  \n",
        "  def forward(self, x): \n",
        "    x = self.pool(F.relu(self.conv1(x))) \n",
        "    x = self.pool(F.relu(self.conv2(x))) \n",
        "    x = x.view(-1, 16 * 5 * 5) \n",
        "    x = F.relu(self.fc1(x)) \n",
        "    x = F.relu(self.fc2(x)) \n",
        "    x = self.fc3(x) \n",
        "    return x \n",
        "\n",
        "net = Net() \n"
      ],
      "execution_count": null,
      "outputs": []
    },
    {
      "cell_type": "code",
      "metadata": {
        "id": "U0R_09j-BrcQ",
        "colab": {
          "base_uri": "https://localhost:8080/",
          "height": 457
        },
        "outputId": "69cb570e-cdc1-424d-bc5d-2c2ca7c16936"
      },
      "source": [
        "### 3. 손실함수 정의, 교차 엔트로이피와 SGD+momentum \n",
        "import torch.optim as optim \n",
        "\n",
        "criterion = nn.CrossEntropyLoss() \n",
        "optimizer = optim.SGD(net.parameters(), lr=0.001, momentum=0.9) \n",
        "\n",
        "### 4. 훈련집합을 이용하여 신경망을 학습시킴\n",
        "for epoch in range(2): # loop over the dataset multiple times \n",
        "\n",
        "  running_loss = 0.0 \n",
        "  for i, data in enumerate(trainloader, 0): \n",
        "    # get the inputs \n",
        "    inputs, labels = data \n",
        "    \n",
        "    # zero the parameter gradients \n",
        "    optimizer.zero_grad() \n",
        "\n",
        "    # forward + backward + optimize \n",
        "    outputs = net(inputs) \n",
        "    loss = criterion(outputs, labels) \n",
        "    loss.backward() \n",
        "    optimizer.step() \n",
        "  \n",
        "    # print statistics \n",
        "    running_loss += loss.item() \n",
        "    if i % 1000 == 999:   # print every 1000 mini-batches \n",
        "      print('[%d, %5d] loss: %.3f' %(epoch + 1, i + 1, running_loss / 1000)) \n",
        "      running_loss = 0.0 \n",
        "print('Finished Training')"
      ],
      "execution_count": null,
      "outputs": [
        {
          "output_type": "stream",
          "text": [
            "[1,  1000] loss: 2.301\n",
            "[1,  2000] loss: 2.237\n",
            "[1,  3000] loss: 2.009\n",
            "[1,  4000] loss: 1.875\n",
            "[1,  5000] loss: 1.809\n",
            "[1,  6000] loss: 1.752\n",
            "[1,  7000] loss: 1.710\n",
            "[1,  8000] loss: 1.679\n",
            "[1,  9000] loss: 1.625\n",
            "[1, 10000] loss: 1.629\n",
            "[1, 11000] loss: 1.599\n",
            "[1, 12000] loss: 1.578\n",
            "[2,  1000] loss: 1.543\n",
            "[2,  2000] loss: 1.542\n",
            "[2,  3000] loss: 1.522\n",
            "[2,  4000] loss: 1.489\n",
            "[2,  5000] loss: 1.508\n",
            "[2,  6000] loss: 1.479\n",
            "[2,  7000] loss: 1.484\n",
            "[2,  8000] loss: 1.463\n",
            "[2,  9000] loss: 1.464\n",
            "[2, 10000] loss: 1.430\n",
            "[2, 11000] loss: 1.421\n",
            "[2, 12000] loss: 1.464\n",
            "Finished Training\n"
          ],
          "name": "stdout"
        }
      ]
    },
    {
      "cell_type": "code",
      "metadata": {
        "id": "8nQyxGgpBuCX",
        "colab": {
          "base_uri": "https://localhost:8080/",
          "height": 34
        },
        "outputId": "1690f8d1-ef7e-4c2c-97c0-ac61b7ab53fd"
      },
      "source": [
        "# performance on the whole test dataset \n",
        "correct = 0 \n",
        "total = 0 \n",
        "with torch.no_grad():\n",
        "  for data in testloader: \n",
        "    images, labels = data \n",
        "    outputs = net(images)\n",
        "    _, predicted = torch.max(outputs.data, 1) \n",
        "    total += labels.size(0) \n",
        "    correct += (predicted == labels).sum().item() \n",
        "\n",
        "print('Accuracy of the network on the 10000 test images: %d %%' % (100 * correct / total)) "
      ],
      "execution_count": null,
      "outputs": [
        {
          "output_type": "stream",
          "text": [
            "Accuracy of the network on the 10000 test images: 50 %\n"
          ],
          "name": "stdout"
        }
      ]
    },
    {
      "cell_type": "code",
      "metadata": {
        "id": "Xc9UffbJB3rI",
        "colab": {
          "base_uri": "https://localhost:8080/",
          "height": 193
        },
        "outputId": "654afc34-8e1b-4f24-c58d-b4a0dd615bb5"
      },
      "source": [
        " # performance on each class \n",
        " class_correct = list(0. for i in range(10)) \n",
        " class_total = list(0. for i in range(10)) \n",
        "with torch.no_grad(): \n",
        "  for data in testloader: \n",
        "    images, labels = data \n",
        "    outputs = net(images)\n",
        "    _, predicted = torch.max(outputs, 1) \n",
        "    c = (predicted == labels).squeeze() \n",
        "    for i in range(4): \n",
        "      label = labels[i] \n",
        "      class_correct[label] += c[i].item() \n",
        "      class_total[label] += 1 \n",
        "\n",
        "for i in range(10): \n",
        "  print('Accuracy of %5s : %2d %%' %(classes[i], 100 * class_correct[i]/class_total[i]))"
      ],
      "execution_count": null,
      "outputs": [
        {
          "output_type": "stream",
          "text": [
            "Accuracy of plane : 52 %\n",
            "Accuracy of   car : 53 %\n",
            "Accuracy of  bird : 49 %\n",
            "Accuracy of   cat : 31 %\n",
            "Accuracy of  deer : 40 %\n",
            "Accuracy of   dog : 39 %\n",
            "Accuracy of  frog : 59 %\n",
            "Accuracy of horse : 56 %\n",
            "Accuracy of  ship : 58 %\n",
            "Accuracy of truck : 57 %\n"
          ],
          "name": "stdout"
        }
      ]
    },
    {
      "cell_type": "markdown",
      "metadata": {
        "id": "e9yYL1DBhsRy"
      },
      "source": [
        "(4) 3번 신경망에 conv 층마다 배치 정규화"
      ]
    },
    {
      "cell_type": "code",
      "metadata": {
        "id": "geJeVuNGhuza",
        "colab": {
          "base_uri": "https://localhost:8080/",
          "height": 457
        },
        "outputId": "6c643429-7bf3-4b0b-c7c1-d401549dc9f9"
      },
      "source": [
        "### 2. 컨볼류션 신경망을 정의함 \n",
        "# 3채널 32*32 크기의 사진을 입력받고, 신경망을 통과해 10부류를 수행 \n",
        "import torch.nn as nn \n",
        "import torch.nn.functional as F \n",
        "\n",
        "class Net(nn. Module): \n",
        "  def __init__(self): \n",
        "    super(Net, self).__init__() \n",
        "    self.conv1 = nn.Conv2d(3, 6, 5) \n",
        "    self.pool = nn.MaxPool2d(2, 2) \n",
        "    self.conv2 = nn.Conv2d(6, 16, 5) \n",
        "\n",
        "    # 배치 정규화\n",
        "    self.bn1 = nn.BatchNorm2d(6)\n",
        "    self.bn2 = nn.BatchNorm2d(16)\n",
        "\n",
        "    self.fc1 = nn.Linear(16 * 5 * 5, 120) \n",
        "    self.fc2 = nn.Linear(120, 84) \n",
        "    self.fc3 = nn.Linear(84, 10) \n",
        "  \n",
        "  def forward(self, x): \n",
        "    x = self.pool(F.relu(self.bn1(self.conv1(x)))) \n",
        "    x = self.pool(F.relu(self.bn2(self.conv2(x)))) \n",
        "    x = x.view(-1, 16 * 5 * 5) \n",
        "    x = F.relu(self.fc1(x)) \n",
        "    x = F.relu(self.fc2(x)) \n",
        "    x = self.fc3(x) \n",
        "    return x \n",
        "\n",
        "net = Net() \n",
        "\n",
        "### 3. 손실함수 정의, 교차 엔트로이피와 SGD+momentum \n",
        "import torch.optim as optim \n",
        "\n",
        "criterion = nn.CrossEntropyLoss() \n",
        "optimizer = optim.SGD(net.parameters(), lr=0.001, momentum=0.9) \n",
        "\n",
        "### 4. 훈련집합을 이용하여 신경망을 학습시킴\n",
        "for epoch in range(2): # loop over the dataset multiple times \n",
        "\n",
        "  running_loss = 0.0 \n",
        "  for i, data in enumerate(trainloader, 0): \n",
        "    # get the inputs \n",
        "    inputs, labels = data \n",
        "    \n",
        "    # zero the parameter gradients \n",
        "    optimizer.zero_grad() \n",
        "\n",
        "    # forward + backward + optimize \n",
        "    outputs = net(inputs) \n",
        "    loss = criterion(outputs, labels) \n",
        "    loss.backward() \n",
        "    optimizer.step() \n",
        "  \n",
        "    # print statistics \n",
        "    running_loss += loss.item() \n",
        "    if i % 1000 == 999:   # print every 1000 mini-batches \n",
        "      print('[%d, %5d] loss: %.3f' %(epoch + 1, i + 1, running_loss / 1000)) \n",
        "      running_loss = 0.0 \n",
        "print('Finished Training')"
      ],
      "execution_count": null,
      "outputs": [
        {
          "output_type": "stream",
          "text": [
            "[1,  1000] loss: 2.086\n",
            "[1,  2000] loss: 1.831\n",
            "[1,  3000] loss: 1.742\n",
            "[1,  4000] loss: 1.707\n",
            "[1,  5000] loss: 1.608\n",
            "[1,  6000] loss: 1.611\n",
            "[1,  7000] loss: 1.571\n",
            "[1,  8000] loss: 1.552\n",
            "[1,  9000] loss: 1.517\n",
            "[1, 10000] loss: 1.515\n",
            "[1, 11000] loss: 1.483\n",
            "[1, 12000] loss: 1.433\n",
            "[2,  1000] loss: 1.400\n",
            "[2,  2000] loss: 1.394\n",
            "[2,  3000] loss: 1.380\n",
            "[2,  4000] loss: 1.384\n",
            "[2,  5000] loss: 1.358\n",
            "[2,  6000] loss: 1.373\n",
            "[2,  7000] loss: 1.342\n",
            "[2,  8000] loss: 1.348\n",
            "[2,  9000] loss: 1.329\n",
            "[2, 10000] loss: 1.309\n",
            "[2, 11000] loss: 1.301\n",
            "[2, 12000] loss: 1.307\n",
            "Finished Training\n"
          ],
          "name": "stdout"
        }
      ]
    },
    {
      "cell_type": "code",
      "metadata": {
        "id": "ezBrPCQ-lt3U",
        "colab": {
          "base_uri": "https://localhost:8080/",
          "height": 34
        },
        "outputId": "4f9021eb-f095-4f66-e875-d3ffd9e32bbb"
      },
      "source": [
        "# performance on the whole test dataset \n",
        "correct = 0 \n",
        "total = 0 \n",
        "with torch.no_grad():\n",
        "  for data in testloader: \n",
        "    images, labels = data \n",
        "    outputs = net(images)\n",
        "    _, predicted = torch.max(outputs.data, 1) \n",
        "    total += labels.size(0) \n",
        "    correct += (predicted == labels).sum().item() \n",
        "\n",
        "print('Accuracy of the network on the 10000 test images: %d %%' % (100 * correct / total)) "
      ],
      "execution_count": null,
      "outputs": [
        {
          "output_type": "stream",
          "text": [
            "Accuracy of the network on the 10000 test images: 53 %\n"
          ],
          "name": "stdout"
        }
      ]
    },
    {
      "cell_type": "code",
      "metadata": {
        "id": "CIL2uRpMluX4",
        "colab": {
          "base_uri": "https://localhost:8080/",
          "height": 193
        },
        "outputId": "a38a6508-0a3b-482c-a9bd-289a99ec6180"
      },
      "source": [
        " # performance on each class \n",
        " class_correct = list(0. for i in range(10)) \n",
        " class_total = list(0. for i in range(10)) \n",
        "with torch.no_grad(): \n",
        "  for data in testloader: \n",
        "    images, labels = data \n",
        "    outputs = net(images)\n",
        "    _, predicted = torch.max(outputs, 1) \n",
        "    c = (predicted == labels).squeeze() \n",
        "    for i in range(4): \n",
        "      label = labels[i] \n",
        "      class_correct[label] += c[i].item() \n",
        "      class_total[label] += 1 \n",
        "\n",
        "for i in range(10): \n",
        "  print('Accuracy of %5s : %2d %%' %(classes[i], 100 * class_correct[i]/class_total[i]))"
      ],
      "execution_count": null,
      "outputs": [
        {
          "output_type": "stream",
          "text": [
            "Accuracy of plane : 64 %\n",
            "Accuracy of   car : 59 %\n",
            "Accuracy of  bird : 24 %\n",
            "Accuracy of   cat : 24 %\n",
            "Accuracy of  deer : 41 %\n",
            "Accuracy of   dog : 49 %\n",
            "Accuracy of  frog : 80 %\n",
            "Accuracy of horse : 62 %\n",
            "Accuracy of  ship : 61 %\n",
            "Accuracy of truck : 70 %\n"
          ],
          "name": "stdout"
        }
      ]
    },
    {
      "cell_type": "markdown",
      "metadata": {
        "id": "LO2aNiUohvKq"
      },
      "source": [
        "(5) 3번 신경망에 로그우도"
      ]
    },
    {
      "cell_type": "code",
      "metadata": {
        "id": "Mold12auhxYT",
        "colab": {
          "base_uri": "https://localhost:8080/",
          "height": 474
        },
        "outputId": "4f75bd5c-0b2b-4a54-ec5d-828e57db64cf"
      },
      "source": [
        "### 2. 컨볼류션 신경망을 정의함 \n",
        "# 3채널 32*32 크기의 사진을 입력받고, 신경망을 통과해 10부류를 수행 \n",
        "import torch.nn as nn \n",
        "import torch.nn.functional as F \n",
        "\n",
        "class Net(nn. Module): \n",
        "  def __init__(self): \n",
        "    super(Net, self).__init__() \n",
        "    self.conv1 = nn.Conv2d(3, 6, 5) \n",
        "    self.pool = nn.MaxPool2d(2, 2) \n",
        "    self.conv2 = nn.Conv2d(6, 16, 5) \n",
        "    self.fc1 = nn.Linear(16 * 5 * 5, 120) \n",
        "    self.fc2 = nn.Linear(120, 84) \n",
        "    self.fc3 = nn.Linear(84, 10) \n",
        "  \n",
        "  def forward(self, x): \n",
        "    x = self.pool(F.relu(self.conv1(x))) \n",
        "    x = self.pool(F.relu(self.conv2(x))) \n",
        "    x = x.view(-1, 16 * 5 * 5) \n",
        "    x = F.relu(self.fc1(x)) \n",
        "    x = F.relu(self.fc2(x)) \n",
        "    x = self.fc3(x) \n",
        "\n",
        "    # output에 softmax\n",
        "    return F.log_softmax(x)\n",
        "\n",
        "net = Net() \n",
        "\n",
        "### 3. 손실함수 정의, 로그우도와 SGD+momentum \n",
        "import torch.optim as optim \n",
        "\n",
        "criterion = nn.NLLLoss()\n",
        "optimizer = optim.SGD(net.parameters(), lr=0.001, momentum=0.9) \n",
        "\n",
        "### 4. 훈련집합을 이용하여 신경망을 학습시킴\n",
        "for epoch in range(2): # loop over the dataset multiple times \n",
        "\n",
        "  running_loss = 0.0 \n",
        "  for i, data in enumerate(trainloader, 0): \n",
        "    # get the inputs \n",
        "    inputs, labels = data \n",
        "    \n",
        "    # zero the parameter gradients \n",
        "    optimizer.zero_grad() \n",
        "\n",
        "    # forward + backward + optimize \n",
        "    outputs = net(inputs) \n",
        "    loss = criterion(outputs, labels) \n",
        "    loss.backward() \n",
        "    optimizer.step() \n",
        "  \n",
        "    # print statistics \n",
        "    running_loss += loss.item() \n",
        "    if i % 1000 == 999:   # print every 1000 mini-batches \n",
        "      print('[%d, %5d] loss: %.3f' %(epoch + 1, i + 1, running_loss / 1000)) \n",
        "      running_loss = 0.0 \n",
        "print('Finished Training')"
      ],
      "execution_count": null,
      "outputs": [
        {
          "output_type": "stream",
          "text": [
            "/usr/local/lib/python3.6/dist-packages/ipykernel_launcher.py:23: UserWarning: Implicit dimension choice for log_softmax has been deprecated. Change the call to include dim=X as an argument.\n"
          ],
          "name": "stderr"
        },
        {
          "output_type": "stream",
          "text": [
            "[1,  1000] loss: 2.296\n",
            "[1,  2000] loss: 2.107\n",
            "[1,  3000] loss: 1.964\n",
            "[1,  4000] loss: 1.862\n",
            "[1,  5000] loss: 1.787\n",
            "[1,  6000] loss: 1.705\n",
            "[1,  7000] loss: 1.667\n",
            "[1,  8000] loss: 1.597\n",
            "[1,  9000] loss: 1.552\n",
            "[1, 10000] loss: 1.518\n",
            "[1, 11000] loss: 1.487\n",
            "[1, 12000] loss: 1.492\n",
            "[2,  1000] loss: 1.421\n",
            "[2,  2000] loss: 1.398\n",
            "[2,  3000] loss: 1.411\n",
            "[2,  4000] loss: 1.409\n",
            "[2,  5000] loss: 1.380\n",
            "[2,  6000] loss: 1.362\n",
            "[2,  7000] loss: 1.327\n",
            "[2,  8000] loss: 1.333\n",
            "[2,  9000] loss: 1.291\n",
            "[2, 10000] loss: 1.285\n",
            "[2, 11000] loss: 1.297\n",
            "[2, 12000] loss: 1.294\n",
            "Finished Training\n"
          ],
          "name": "stdout"
        }
      ]
    },
    {
      "cell_type": "code",
      "metadata": {
        "id": "XUJD9UOAmajR",
        "colab": {
          "base_uri": "https://localhost:8080/",
          "height": 52
        },
        "outputId": "7e066a2c-97ec-4a1d-e883-3174d3b6a965"
      },
      "source": [
        "# performance on the whole test dataset \n",
        "correct = 0 \n",
        "total = 0 \n",
        "with torch.no_grad():\n",
        "  for data in testloader: \n",
        "    images, labels = data \n",
        "    outputs = net(images)\n",
        "    _, predicted = torch.max(outputs.data, 1) \n",
        "    total += labels.size(0) \n",
        "    correct += (predicted == labels).sum().item() \n",
        "\n",
        "print('Accuracy of the network on the 10000 test images: %d %%' % (100 * correct / total)) "
      ],
      "execution_count": null,
      "outputs": [
        {
          "output_type": "stream",
          "text": [
            "/usr/local/lib/python3.6/dist-packages/ipykernel_launcher.py:23: UserWarning: Implicit dimension choice for log_softmax has been deprecated. Change the call to include dim=X as an argument.\n"
          ],
          "name": "stderr"
        },
        {
          "output_type": "stream",
          "text": [
            "Accuracy of the network on the 10000 test images: 54 %\n"
          ],
          "name": "stdout"
        }
      ]
    },
    {
      "cell_type": "code",
      "metadata": {
        "id": "r_oIArjGmbwo",
        "colab": {
          "base_uri": "https://localhost:8080/",
          "height": 210
        },
        "outputId": "cf3edb2d-04ab-4335-b76c-afa996722a75"
      },
      "source": [
        " # performance on each class \n",
        " class_correct = list(0. for i in range(10)) \n",
        " class_total = list(0. for i in range(10)) \n",
        "with torch.no_grad(): \n",
        "  for data in testloader: \n",
        "    images, labels = data \n",
        "    outputs = net(images)\n",
        "    _, predicted = torch.max(outputs, 1) \n",
        "    c = (predicted == labels).squeeze() \n",
        "    for i in range(4): \n",
        "      label = labels[i] \n",
        "      class_correct[label] += c[i].item() \n",
        "      class_total[label] += 1 \n",
        "\n",
        "for i in range(10): \n",
        "  print('Accuracy of %5s : %2d %%' %(classes[i], 100 * class_correct[i]/class_total[i]))"
      ],
      "execution_count": null,
      "outputs": [
        {
          "output_type": "stream",
          "text": [
            "/usr/local/lib/python3.6/dist-packages/ipykernel_launcher.py:23: UserWarning: Implicit dimension choice for log_softmax has been deprecated. Change the call to include dim=X as an argument.\n"
          ],
          "name": "stderr"
        },
        {
          "output_type": "stream",
          "text": [
            "Accuracy of plane : 60 %\n",
            "Accuracy of   car : 82 %\n",
            "Accuracy of  bird : 29 %\n",
            "Accuracy of   cat : 35 %\n",
            "Accuracy of  deer : 47 %\n",
            "Accuracy of   dog : 38 %\n",
            "Accuracy of  frog : 78 %\n",
            "Accuracy of horse : 60 %\n",
            "Accuracy of  ship : 60 %\n",
            "Accuracy of truck : 55 %\n"
          ],
          "name": "stdout"
        }
      ]
    },
    {
      "cell_type": "markdown",
      "metadata": {
        "id": "GYz_YUENhxtT"
      },
      "source": [
        "(6) 3번 신경망에 L2놈"
      ]
    },
    {
      "cell_type": "code",
      "metadata": {
        "id": "vHVtKPDphzg7",
        "colab": {
          "base_uri": "https://localhost:8080/",
          "height": 457
        },
        "outputId": "afefadeb-d954-4e74-ef56-14628c7714fd"
      },
      "source": [
        "### 2. 컨볼류션 신경망을 정의함 \n",
        "# 3채널 32*32 크기의 사진을 입력받고, 신경망을 통과해 10부류를 수행 \n",
        "import torch.nn as nn \n",
        "import torch.nn.functional as F \n",
        "\n",
        "class Net(nn. Module): \n",
        "  def __init__(self): \n",
        "    super(Net, self).__init__() \n",
        "    self.conv1 = nn.Conv2d(3, 6, 5) \n",
        "    self.pool = nn.MaxPool2d(2, 2) \n",
        "    self.conv2 = nn.Conv2d(6, 16, 5) \n",
        "    self.fc1 = nn.Linear(16 * 5 * 5, 120) \n",
        "    self.fc2 = nn.Linear(120, 84) \n",
        "    self.fc3 = nn.Linear(84, 10) \n",
        "  \n",
        "  def forward(self, x): \n",
        "    x = self.pool(F.relu(self.conv1(x))) \n",
        "    x = self.pool(F.relu(self.conv2(x))) \n",
        "    x = x.view(-1, 16 * 5 * 5) \n",
        "    x = F.relu(self.fc1(x)) \n",
        "    x = F.relu(self.fc2(x)) \n",
        "    x = self.fc3(x) \n",
        "    return x \n",
        "\n",
        "net = Net() \n",
        "\n",
        "### 3. 손실함수 정의, 교차 엔트로이피와 SGD+momentum \n",
        "import torch.optim as optim \n",
        "\n",
        "criterion = nn.CrossEntropyLoss() \n",
        "optimizer = optim.SGD(net.parameters(), lr=0.001, momentum=0.9, weight_decay=1e-5) # weight decay(L2 penalty)\n",
        "\n",
        "### 4. 훈련집합을 이용하여 신경망을 학습시킴\n",
        "for epoch in range(2): # loop over the dataset multiple times \n",
        "\n",
        "  running_loss = 0.0 \n",
        "  for i, data in enumerate(trainloader, 0): \n",
        "    # get the inputs \n",
        "    inputs, labels = data \n",
        "    \n",
        "    # zero the parameter gradients \n",
        "    optimizer.zero_grad() \n",
        "\n",
        "    # forward + backward + optimize \n",
        "    outputs = net(inputs) \n",
        "    loss = criterion(outputs, labels) \n",
        "    loss.backward() \n",
        "    optimizer.step() \n",
        "  \n",
        "    # print statistics \n",
        "    running_loss += loss.item() \n",
        "    if i % 1000 == 999:   # print every 1000 mini-batches \n",
        "      print('[%d, %5d] loss: %.3f' %(epoch + 1, i + 1, running_loss / 1000)) \n",
        "      running_loss = 0.0 \n",
        "print('Finished Training')"
      ],
      "execution_count": null,
      "outputs": [
        {
          "output_type": "stream",
          "text": [
            "[1,  1000] loss: 2.281\n",
            "[1,  2000] loss: 2.066\n",
            "[1,  3000] loss: 1.874\n",
            "[1,  4000] loss: 1.763\n",
            "[1,  5000] loss: 1.705\n",
            "[1,  6000] loss: 1.647\n",
            "[1,  7000] loss: 1.628\n",
            "[1,  8000] loss: 1.577\n",
            "[1,  9000] loss: 1.551\n",
            "[1, 10000] loss: 1.505\n",
            "[1, 11000] loss: 1.496\n",
            "[1, 12000] loss: 1.479\n",
            "[2,  1000] loss: 1.391\n",
            "[2,  2000] loss: 1.381\n",
            "[2,  3000] loss: 1.387\n",
            "[2,  4000] loss: 1.360\n",
            "[2,  5000] loss: 1.327\n",
            "[2,  6000] loss: 1.324\n",
            "[2,  7000] loss: 1.320\n",
            "[2,  8000] loss: 1.298\n",
            "[2,  9000] loss: 1.296\n",
            "[2, 10000] loss: 1.292\n",
            "[2, 11000] loss: 1.300\n",
            "[2, 12000] loss: 1.261\n",
            "Finished Training\n"
          ],
          "name": "stdout"
        }
      ]
    },
    {
      "cell_type": "code",
      "metadata": {
        "id": "jBIYDKOrm2xK",
        "colab": {
          "base_uri": "https://localhost:8080/",
          "height": 34
        },
        "outputId": "a50a2652-4168-4780-e12f-4c67af7c9126"
      },
      "source": [
        "# performance on the whole test dataset \n",
        "correct = 0 \n",
        "total = 0 \n",
        "with torch.no_grad():\n",
        "  for data in testloader: \n",
        "    images, labels = data \n",
        "    outputs = net(images)\n",
        "    _, predicted = torch.max(outputs.data, 1) \n",
        "    total += labels.size(0) \n",
        "    correct += (predicted == labels).sum().item() \n",
        "\n",
        "print('Accuracy of the network on the 10000 test images: %d %%' % (100 * correct / total)) "
      ],
      "execution_count": null,
      "outputs": [
        {
          "output_type": "stream",
          "text": [
            "Accuracy of the network on the 10000 test images: 55 %\n"
          ],
          "name": "stdout"
        }
      ]
    },
    {
      "cell_type": "code",
      "metadata": {
        "id": "mLeZYcNZm4TP",
        "colab": {
          "base_uri": "https://localhost:8080/",
          "height": 193
        },
        "outputId": "5c5c8bd4-5485-4d5f-ca90-5e25a1d736d9"
      },
      "source": [
        " # performance on each class \n",
        " class_correct = list(0. for i in range(10)) \n",
        " class_total = list(0. for i in range(10)) \n",
        "with torch.no_grad(): \n",
        "  for data in testloader: \n",
        "    images, labels = data \n",
        "    outputs = net(images)\n",
        "    _, predicted = torch.max(outputs, 1) \n",
        "    c = (predicted == labels).squeeze() \n",
        "    for i in range(4): \n",
        "      label = labels[i] \n",
        "      class_correct[label] += c[i].item() \n",
        "      class_total[label] += 1 \n",
        "\n",
        "for i in range(10): \n",
        "  print('Accuracy of %5s : %2d %%' %(classes[i], 100 * class_correct[i]/class_total[i]))"
      ],
      "execution_count": null,
      "outputs": [
        {
          "output_type": "stream",
          "text": [
            "Accuracy of plane : 53 %\n",
            "Accuracy of   car : 76 %\n",
            "Accuracy of  bird : 40 %\n",
            "Accuracy of   cat : 27 %\n",
            "Accuracy of  deer : 45 %\n",
            "Accuracy of   dog : 38 %\n",
            "Accuracy of  frog : 81 %\n",
            "Accuracy of horse : 58 %\n",
            "Accuracy of  ship : 77 %\n",
            "Accuracy of truck : 58 %\n"
          ],
          "name": "stdout"
        }
      ]
    },
    {
      "cell_type": "markdown",
      "metadata": {
        "id": "vNUlPxPWbgUp"
      },
      "source": [
        "# 6. 소프트맥스"
      ]
    },
    {
      "cell_type": "code",
      "metadata": {
        "id": "glfUHwwgjNVo",
        "colab": {
          "base_uri": "https://localhost:8080/",
          "height": 52
        },
        "outputId": "bd21dbf9-fcd6-4386-d60b-9e732a6335aa"
      },
      "source": [
        "import numpy as np\n",
        "\n",
        "a = np.array([0.4,2.0,0.001,0.32])\n",
        "\n",
        "# def softmax(a) :\n",
        "#     exp_a = np.exp(a)\n",
        "#     sum_exp_a = np.sum(exp_a)\n",
        "#     y = exp_a / sum_exp_a\n",
        "    \n",
        "#     return y\n",
        "\n",
        "# print(softmax(a))\n",
        "# print(sum(softmax(a)))\n",
        "\n",
        "def new_softmax(a) : \n",
        "    c = np.max(a) # 최댓값\n",
        "    exp_a = np.exp(a-c) # 각각의 원소에 최댓값을 뺀 값에 exp를 취한다. (이를 통해 overflow 방지)\n",
        "    sum_exp_a = np.sum(exp_a)\n",
        "    y = exp_a / sum_exp_a\n",
        "    return y\n",
        "\n",
        "print(new_softmax(a))\n",
        "print(sum(new_softmax(a)))"
      ],
      "execution_count": null,
      "outputs": [
        {
          "output_type": "stream",
          "text": [
            "[0.13250053 0.65627943 0.08890663 0.12231341]\n",
            "1.0\n"
          ],
          "name": "stdout"
        }
      ]
    },
    {
      "cell_type": "markdown",
      "metadata": {
        "id": "OHYmBbEzaz5P"
      },
      "source": [
        "# 7. 평균제곱 오차, 교차 엔트로피, 로그우도 계산"
      ]
    },
    {
      "cell_type": "code",
      "metadata": {
        "id": "MSNKaPOZ3w_W",
        "colab": {
          "base_uri": "https://localhost:8080/",
          "height": 70
        },
        "outputId": "bdc98245-c68e-4d35-b94e-9ce1f0e768ef"
      },
      "source": [
        "y = np.array([0.001,0.9,0.001,0.098]) #출력\n",
        "t = np.array([0,0,0,1])               #레이블 정보\n",
        "\n",
        "def MSE(y,t):\n",
        "    return (1/2)* np.sum((y-t)**2)\n",
        "print('평균제곱 오차:', MSE(y, t))\n",
        "\n",
        "def cross_entrpy_error(y,t): \n",
        "  # 마이너스 무제한, log(0) 방지\n",
        "  delta = 1e-7 \n",
        "  return -np.sum(t*np.log2(y+delta)+(1-t)*np.log2(1-y+delta))\n",
        "print('교차 엔트로피:', cross_entrpy_error(y,t))\n",
        "\n",
        "# MSE나 교차 엔트로피와 달리 하나의 노드만 적용\n",
        "def negative_log_likelihood(y,t):\n",
        "  # 소프트맥스를 적용한 후 출력값인것\n",
        "  return -(np.log2(y[t]))\n",
        "\n",
        "# 예측값이 [0,0,0,1]이기 때문에 3\n",
        "print('로그우도:', negative_log_likelihood(y, 3))"
      ],
      "execution_count": null,
      "outputs": [
        {
          "output_type": "stream",
          "text": [
            "평균제곱 오차: 0.811803\n",
            "교차 엔트로피: 6.675886165514392\n",
            "로그우도: 3.3510744405468786\n"
          ],
          "name": "stdout"
        }
      ]
    }
  ]
}